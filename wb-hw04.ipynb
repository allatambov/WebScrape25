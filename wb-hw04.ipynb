{
 "cells": [
  {
   "cell_type": "markdown",
   "metadata": {},
   "source": [
    "# Web-scraping: сбор данных из баз данных и интернет-источников\n",
    "\n",
    "*Алла Тамбовцева, НИУ ВШЭ*"
   ]
  },
  {
   "cell_type": "markdown",
   "metadata": {},
   "source": [
    "## Домашнее задание 4*\n",
    "\n",
    "### Формат сдачи\n",
    "\n",
    "Задание выполняется самостоятельно. При любых нетривиальных совпадениях в решениях задач все вовлечённые домашние работы будут оценены на 0 баллов. Свой ipynb-файл с решением необходимо прислать до дедлайна на почту allatambov@gmail.com."
   ]
  },
  {
   "cell_type": "code",
   "execution_count": null,
   "metadata": {},
   "outputs": [],
   "source": [
    "### ALL IMPORTS HERE ###"
   ]
  },
  {
   "cell_type": "markdown",
   "metadata": {},
   "source": [
    "### Задача 1 (5 баллов)\n",
    "\n",
    "Напишите код, который:\n",
    "\n",
    "* переходит на главную страницу «Мела» (https://mel.fm/);\n",
    "* собирает карточки с новыми статьями до тех пор, пока их не будет хотя бы 500.\n",
    "\n",
    "Результат работы кода – список со строками с HTML-кодом внутри, где один элемент содержит информацию по одной статье. Пример для определенности:\n",
    "\n",
    "    <div class=\"b-pb-article-card__half-image-wrapper\"><div class=\"b-pb-article-card__image-wrapper\"><img style=\"visibility: hidden\" data-src=\"https://image.mel.fm/i/C/CxF223ol0C/280.jpg\" class=\"b-pb-article-card__image\" alt=\"КрАны или кранЫ: как говорить правильно\" onload=\"this.style.visibility='visible'\"></div><div class=\"b-pb-article-card__highlighting\"></div></div><div class=\"b-pb-article-card__content\"><div class=\"b-pb-article-card__main-tag\">Как говорить</div><div class=\"b-pb-article-card__title\" style=\"\">КрАны или кранЫ: как говорить правильно</div><div class=\"b-pb-article-card__subtitle\" style=\"\">Об&nbsp;этом спросят на&nbsp;ЕГЭ-2025</div><div class=\"b-pb-article-card__stats\" style=\"visibility: visible;\"></div></div>\n",
    "    \n",
    "**Уточнение.** Число статьей не менее 500 – число уникальных статей; как мы помним, при скроллинге они могут дублироваться.\n",
    "\n",
    "**Совет.** При переходе на страницу появляется плашка для согласия с cookies, поэтому лучше разделить код для открытия страницы и код для последующих действий, чтобы между этими частями можно было закрыть эту плашку (вручную в окне браузера, открытом через Python, или более хитрым способом, если придумаете). Иначе плашка будет перекрывать низ страницы с необходимой кнопкой для получения большего числа результатов."
   ]
  },
  {
   "cell_type": "code",
   "execution_count": null,
   "metadata": {},
   "outputs": [],
   "source": [
    "### YOUR CODE HERE ###"
   ]
  },
  {
   "cell_type": "markdown",
   "metadata": {},
   "source": [
    "### Задача 2 (3 балла)\n",
    "\n",
    "Обработайте полученные результаты – получите датафрейм со столбцами:\n",
    "\n",
    "* заголовок статьи;\n",
    "* тэг статьи.\n",
    "\n",
    "Для элемента в примере из предыдущей задачи это: \n",
    "\n",
    "* `КрАны или кранЫ: как говорить правильно`;\n",
    "* `Как говорить`.\n",
    "\n",
    "Оставьте в датафрейме только те статьи, которые не относятся к новостям (с соответствующими тэгами)."
   ]
  },
  {
   "cell_type": "code",
   "execution_count": null,
   "metadata": {},
   "outputs": [],
   "source": [
    "### YOUR CODE HERE ###"
   ]
  },
  {
   "cell_type": "markdown",
   "metadata": {},
   "source": [
    "### Задача 3 (2 балла)\n",
    "\n",
    "Постройте таблицу частот для тэгов в датафрейме, полученном в предыдущей задаче (название тэга и сколько статей ему соответствуют). Выберите топ-10 самых частых тэгов и постройте для них столбиковую диаграмму. \n",
    "\n",
    "На столбиковой диаграмме должно быть 10 столбцов, по горизонтальной оси – тэги, по вертикальной – количество статей с такими тэгами (если хотите, процент таких статей от общего числа)."
   ]
  },
  {
   "cell_type": "code",
   "execution_count": null,
   "metadata": {},
   "outputs": [],
   "source": [
    "### YOUR CODE HERE ###"
   ]
  }
 ],
 "metadata": {
  "kernelspec": {
   "display_name": "Python 3",
   "language": "python",
   "name": "python3"
  },
  "language_info": {
   "codemirror_mode": {
    "name": "ipython",
    "version": 3
   },
   "file_extension": ".py",
   "mimetype": "text/x-python",
   "name": "python",
   "nbconvert_exporter": "python",
   "pygments_lexer": "ipython3",
   "version": "3.7.4"
  }
 },
 "nbformat": 4,
 "nbformat_minor": 2
}

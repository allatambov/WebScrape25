{
 "cells": [
  {
   "cell_type": "markdown",
   "metadata": {},
   "source": [
    "# Web-scraping: сбор данных из баз данных и интернет-источников\n",
    "\n",
    "*Алла Тамбовцева*\n",
    "\n",
    "## Практикум 3*. Формат JSON и его обработка в рамках блока кода JavaScript: продолжение"
   ]
  },
  {
   "cell_type": "markdown",
   "metadata": {},
   "source": [
    "Импортируем стандартный набор инструментов – модуль `requests` и функцию `BeautifulSoup`, а также модуль `re` для использования регулярных выражений, модуль `json` для обработки JSON-строк, библиотеку `pandas` для работы с датафреймом."
   ]
  },
  {
   "cell_type": "code",
   "execution_count": 1,
   "metadata": {},
   "outputs": [],
   "source": [
    "import re\n",
    "import json\n",
    "import requests\n",
    "import pandas as pd\n",
    "from bs4 import BeautifulSoup"
   ]
  },
  {
   "cell_type": "markdown",
   "metadata": {},
   "source": [
    "Совсем недавно у нас было домашнее задание на парсинг страницы фильма «Не покидай...» с сайта www.kino-teatr.ru. Сайт некоммерческий, довольно дружелюбный, позволяет свободно выгружать информацию (но уже не всегда!).\n",
    "\n",
    "У него есть одна особенность: число лайков и дизлайков, поставленных актерам пользователями, загружается на страницу динамически, то есть автоматически «подтягивается» с сервера при загрузке страницы в определенный момент времени. На практике это выливается в то, что найти нужную информацию по тэгам просто невозможно, ее нет в основном коде HTML. Как быть? Понять, как выглядит запрос данных, который отправляется на сервер, и выяснить, где хранятся нужные нам данные. Мы рассмотрим несложный случай, когда сайт забирает информацию из строки JSON, которая находится на странице, но внутри кода, написанного на JavaScript. Такое можно встретить на страницах с результатами каких-нибудь игр или на сайтах, посвященных динамике цен или курсу валют (другой вопрос, что не всегда JSON прямо так явно находится в том же файле, где и код HTML).\n",
    "\n",
    "Так как ранее мы обсуждали довольно базовый парсинг, в домашнем задании не требовалось собирать число лайков и дизлайков, эти значения были даны в виде готового списка словарей. Обновим задачу – теперь нам нужно собрать только id актеров и информацию о числе голосов за и против.\n",
    "\n",
    "Начало работы стандартное – загружаем код HTML страницы по ссылке и преобразуем его в объект BeautifulSoup:"
   ]
  },
  {
   "cell_type": "code",
   "execution_count": 2,
   "metadata": {},
   "outputs": [],
   "source": [
    "# ссылка на копию страницы во избежание блокировок\n",
    "\n",
    "page = requests.get(\"https://raw.githubusercontent.com/allatambov/WebScrape25/refs/heads/main/titr.html\")\n",
    "soup = BeautifulSoup(page.text)"
   ]
  },
  {
   "cell_type": "markdown",
   "metadata": {},
   "source": [
    "Просто найти на странице кнопки красного и зеленого цвета и забрать с них текст не получится. Поэтому для этого на нужно найти код JavaScript, где есть записи с числами `plus` и `minus` с привязкой к id актеров. Код JavaScript, если он не вынесен в отдельный файл, заключается в тэги `<script>`. Если мы внимательно изучим исходный код страницы, мы заметим, что нужный нам блок кода имеет атрибут `type` со значением `text/javascript`, и среди таких блоков он находится на 6-ом месте:"
   ]
  },
  {
   "cell_type": "code",
   "execution_count": 3,
   "metadata": {},
   "outputs": [],
   "source": [
    "# выполняем поиск и извлекаем текст – код JavaScript в виде строки\n",
    "\n",
    "text = soup.find_all(\"script\", {\"type\" : \"text/javascript\"})[5].next\n",
    "#print(text)"
   ]
  },
  {
   "cell_type": "code",
   "execution_count": 4,
   "metadata": {},
   "outputs": [
    {
     "name": "stdout",
     "output_type": "stream",
     "text": [
      "\n",
      "{\n",
      "    print_role_rating_buttons({ id:\"160325\", plus:\"64\", minus:\"3\", voted:\"\" });\n",
      "print_role_rating_buttons({ id:\"1928641\", plus:\"33\", minus:\"1\", voted:\"\" });\n",
      "print_role_rating_buttons({ id:\"1966145\", plus:\"29\", minus:\"1\", voted:\"\" });\n",
      "print_role_rating_buttons({ id:\"1973000\", plus:\"30\", minus:\"1\", voted:\"\" });\n",
      "print_role_rating_buttons({ id:\"1973001\", plus:\"30\", minus:\"1\", voted:\"\" });\n",
      "print_role_rating_buttons({ id:\"1973002\", plus:\"31\", minus:\"0\", voted:\"\" });\n",
      "print_role_rating_buttons({ id:\"1973003\", plus:\"30\", minus:\"1\", voted:\"\" });\n",
      "print_role_rating_buttons({ id:\"1973005\", plus:\"30\", minus:\"2\", voted:\"\" });\n",
      "print_role_rating_buttons({ id:\"1973007\", plus:\"33\", minus:\"1\", voted:\"\" });\n",
      "print_role_rating_buttons({ id:\"1973008\", plus:\"28\", minus:\"1\", voted:\"\" });\n",
      "print_role_rating_buttons({ id:\"1973010\", plus:\"38\", minus:\"7\", voted:\"\" });\n",
      "print_role_rating_buttons({ id:\"1973011\", plus:\"49\", minus:\"3\", voted:\"\" });\n",
      "print_role_rating_buttons({ id:\"2030314\", plus:\"2\", minus:\"0\", voted:\"\" });\n",
      "print_role_rating_buttons({ id:\"2088754\", plus:\"35\", minus:\"2\", voted:\"\" });\n",
      "print_role_rating_buttons({ id:\"16800\", plus:\"173\", minus:\"4\", voted:\"\" });\n",
      "print_role_rating_buttons({ id:\"16801\", plus:\"119\", minus:\"28\", voted:\"\" });\n",
      "print_role_rating_buttons({ id:\"16803\", plus:\"136\", minus:\"12\", voted:\"\" });\n",
      "print_role_rating_buttons({ id:\"16802\", plus:\"158\", minus:\"11\", voted:\"\" });\n",
      "print_role_rating_buttons({ id:\"16804\", plus:\"150\", minus:\"6\", voted:\"\" });\n",
      "print_role_rating_buttons({ id:\"56008\", plus:\"112\", minus:\"10\", voted:\"plus\" });\n",
      "print_role_rating_buttons({ id:\"62460\", plus:\"112\", minus:\"4\", voted:\"\" });\n",
      "print_role_rating_buttons({ id:\"72744\", plus:\"132\", minus:\"3\", voted:\"\" });\n",
      "print_role_rating_buttons({ id:\"83813\", plus:\"49\", minus:\"3\", voted:\"\" });\n",
      "print_role_rating_buttons({ id:\"89473\", plus:\"109\", minus:\"22\", voted:\"plus\" });\n",
      "print_role_rating_buttons({ id:\"124124\", plus:\"138\", minus:\"7\", voted:\"\" });\n",
      "print_role_rating_buttons({ id:\"132138\", plus:\"143\", minus:\"3\", voted:\"\" });\n",
      "print_role_rating_buttons({ id:\"132139\", plus:\"124\", minus:\"5\", voted:\"plus\" });\n",
      "print_role_rating_buttons({ id:\"132140\", plus:\"86\", minus:\"3\", voted:\"\" });\n",
      "print_role_rating_buttons({ id:\"132141\", plus:\"79\", minus:\"6\", voted:\"\" });\n",
      "print_role_rating_buttons({ id:\"132143\", plus:\"7\", minus:\"0\", voted:\"\" });\n",
      "\n",
      "}\n",
      "// После загрузки страницы запускаем действо\n",
      "if (window.addEventListener) {\n",
      "    window.addEventListener(\"DOMContentLoaded\",function(event) {\n",
      "        print_all_role_rating_buttons()\n",
      "    });\n",
      "} else {\n",
      "    $(document).ready( print_all_role_rating_buttons() );\n",
      "}\n",
      "\n",
      "//-->\n",
      "\n"
     ]
    }
   ],
   "source": [
    "for_votes = text.split(\"function print_all_role_rating_buttons ()\")[1]\n",
    "print(for_votes)"
   ]
  },
  {
   "cell_type": "markdown",
   "metadata": {},
   "source": [
    "Хотя с синтаксисом JavaScript знакомы немногие, не очень сложно догадаться, что означают записи такого вида:\n",
    "\n",
    "    print_role_rating_buttons({ id:\"16800\", plus:\"173\", minus:\"4\", voted:\"\" });\n",
    "\n",
    "Такая строка кода активирует функцию print_role_rating_buttons() – применяет ее к такому набору данных и наносит на кнопки, соответствующие актеру с id 16800 значения 173 (зеленая кнопка) и 4 (красная кнопка).\n",
    "\n",
    "*Примечание 1.* Синхронизация не происходит мгновенно, актуальное значение 173 подставляется на кнопку не сразу, там вполне может стоять значение 172, а мы, благодаря значениям из JavaScript, обладаем более актуальной информацией. Это стоит иметь в виду при выгрузке информации, когда мы сверяем полученные результаты и то, что видим на экране.\n",
    "\n",
    "*Примечание 2.* Значение `voted` в коде выше является непустым, в случае, если пользователь зарегистрирован и оценивал игру актера (по крайней мере, какое-то время после голосования значение в `voted` держится)."
   ]
  },
  {
   "cell_type": "markdown",
   "metadata": {},
   "source": [
    "Объект `for_votes` – это обычная строка, объект типа `string`. Поэтому с помощью регулярных выражений мы сможем найти в ней записи в фигурных скобках, затем сделать из них словари, а из списка словарей с единообразными ключами собрать датафрейм!"
   ]
  },
  {
   "cell_type": "markdown",
   "metadata": {},
   "source": [
    "### Задача 1\n",
    "\n",
    "Найдите все подстроки, соответствующие наборам символов, заключенных в фигурные скобки – чтобы из них можно было собрать словари. Сохраните список строк в переменную `votes_str`."
   ]
  },
  {
   "cell_type": "code",
   "execution_count": 5,
   "metadata": {},
   "outputs": [
    {
     "data": {
      "text/plain": [
       "['{ id:\"160325\", plus:\"64\", minus:\"3\", voted:\"\" }',\n",
       " '{ id:\"1928641\", plus:\"33\", minus:\"1\", voted:\"\" }',\n",
       " '{ id:\"1966145\", plus:\"29\", minus:\"1\", voted:\"\" }',\n",
       " '{ id:\"1973000\", plus:\"30\", minus:\"1\", voted:\"\" }',\n",
       " '{ id:\"1973001\", plus:\"30\", minus:\"1\", voted:\"\" }',\n",
       " '{ id:\"1973002\", plus:\"31\", minus:\"0\", voted:\"\" }',\n",
       " '{ id:\"1973003\", plus:\"30\", minus:\"1\", voted:\"\" }',\n",
       " '{ id:\"1973005\", plus:\"30\", minus:\"2\", voted:\"\" }',\n",
       " '{ id:\"1973007\", plus:\"33\", minus:\"1\", voted:\"\" }',\n",
       " '{ id:\"1973008\", plus:\"28\", minus:\"1\", voted:\"\" }',\n",
       " '{ id:\"1973010\", plus:\"38\", minus:\"7\", voted:\"\" }',\n",
       " '{ id:\"1973011\", plus:\"49\", minus:\"3\", voted:\"\" }',\n",
       " '{ id:\"2030314\", plus:\"2\", minus:\"0\", voted:\"\" }',\n",
       " '{ id:\"2088754\", plus:\"35\", minus:\"2\", voted:\"\" }',\n",
       " '{ id:\"16800\", plus:\"173\", minus:\"4\", voted:\"\" }',\n",
       " '{ id:\"16801\", plus:\"119\", minus:\"28\", voted:\"\" }',\n",
       " '{ id:\"16803\", plus:\"136\", minus:\"12\", voted:\"\" }',\n",
       " '{ id:\"16802\", plus:\"158\", minus:\"11\", voted:\"\" }',\n",
       " '{ id:\"16804\", plus:\"150\", minus:\"6\", voted:\"\" }',\n",
       " '{ id:\"56008\", plus:\"112\", minus:\"10\", voted:\"plus\" }',\n",
       " '{ id:\"62460\", plus:\"112\", minus:\"4\", voted:\"\" }',\n",
       " '{ id:\"72744\", plus:\"132\", minus:\"3\", voted:\"\" }',\n",
       " '{ id:\"83813\", plus:\"49\", minus:\"3\", voted:\"\" }',\n",
       " '{ id:\"89473\", plus:\"109\", minus:\"22\", voted:\"plus\" }',\n",
       " '{ id:\"124124\", plus:\"138\", minus:\"7\", voted:\"\" }',\n",
       " '{ id:\"132138\", plus:\"143\", minus:\"3\", voted:\"\" }',\n",
       " '{ id:\"132139\", plus:\"124\", minus:\"5\", voted:\"plus\" }',\n",
       " '{ id:\"132140\", plus:\"86\", minus:\"3\", voted:\"\" }',\n",
       " '{ id:\"132141\", plus:\"79\", minus:\"6\", voted:\"\" }',\n",
       " '{ id:\"132143\", plus:\"7\", minus:\"0\", voted:\"\" }']"
      ]
     },
     "execution_count": 5,
     "metadata": {},
     "output_type": "execute_result"
    }
   ],
   "source": [
    "votes_str = re.findall(\"\\{.+\\}\", for_votes)\n",
    "votes_str"
   ]
  },
  {
   "cell_type": "markdown",
   "metadata": {},
   "source": [
    "Выберем один элемент списка и изучим его:"
   ]
  },
  {
   "cell_type": "code",
   "execution_count": 6,
   "metadata": {},
   "outputs": [
    {
     "name": "stdout",
     "output_type": "stream",
     "text": [
      "{ id:\"160325\", plus:\"64\", minus:\"3\", voted:\"\" }\n"
     ]
    }
   ],
   "source": [
    "v = votes_str[0]\n",
    "print(v)"
   ]
  },
  {
   "cell_type": "markdown",
   "metadata": {},
   "source": [
    "На первый взгляд, этот элемент представляет собой полноценный словарь, просто заключенный в кавычки. Однако есть проблема: чтобы переделать строку в словарь, нужна строка, соответствующая формату JSON, а здесь не хватает кавычек вокруг ключей. Как эту проблему решить? Найти по какому-то паттерну эти ключи и доклеить вокруг них кавычки с помощью функции `sub()` из модуля `re` для «умной» замены (не обычная замена, так как мы не конкретный набор символов заменяем на другой, а ищем совпадения по некоторому общему шаблону и их изменяем).\n",
    "\n",
    "Поиск будет простой – в строке с «неправильным» словарем содержатся либо цифры, либо буквы, либо пробелы с запятыми и знаками препинания, а нам нужны последовательности *из одной и более букв*. "
   ]
  },
  {
   "cell_type": "markdown",
   "metadata": {},
   "source": [
    "### Задача 2\n",
    "\n",
    "Напишите регулярное выражение, которое в строке `v` найдет все слова из букв."
   ]
  },
  {
   "cell_type": "code",
   "execution_count": 7,
   "metadata": {},
   "outputs": [
    {
     "data": {
      "text/plain": [
       "['id', 'plus', 'minus', 'voted']"
      ]
     },
     "execution_count": 7,
     "metadata": {},
     "output_type": "execute_result"
    }
   ],
   "source": [
    "re.findall(\"[a-z]+\", v)"
   ]
  },
  {
   "cell_type": "markdown",
   "metadata": {},
   "source": [
    "Напишем функцию `add_quotes()`, которая принимает на вход строку `x`, доклеивает к ней кавычки и убирает пробелы. Нам нужно преобразовать строку `x` в группу – объект из регулярных выражений – через `+` доклеить кавычки и на всякий случай убрать лишние пробелы:"
   ]
  },
  {
   "cell_type": "code",
   "execution_count": 8,
   "metadata": {},
   "outputs": [],
   "source": [
    "# x.group(): функция sub() из re для умной замены\n",
    "# работает не со строками, а с объектом специального типа – группа символов\n",
    "\n",
    "def add_quotes(x):\n",
    "    r = '\"' + x.group() + '\"'\n",
    "    return r.strip()"
   ]
  },
  {
   "cell_type": "code",
   "execution_count": 9,
   "metadata": {},
   "outputs": [
    {
     "data": {
      "text/plain": [
       "'{ \"id\":\"160325\", \"plus\":\"64\", \"minus\":\"3\", \"voted\":\"\" }'"
      ]
     },
     "execution_count": 9,
     "metadata": {},
     "output_type": "execute_result"
    }
   ],
   "source": [
    "re.sub(\"[a-z]+\", add_quotes, v)"
   ]
  },
  {
   "cell_type": "markdown",
   "metadata": {},
   "source": [
    "Применяем функцию `sub` к одной строке `v` и проверяем:"
   ]
  },
  {
   "cell_type": "code",
   "execution_count": 10,
   "metadata": {},
   "outputs": [
    {
     "data": {
      "text/plain": [
       "'{ \"id\":\"160325\", \"plus\":\"64\", \"minus\":\"3\", \"voted\":\"\" }'"
      ]
     },
     "execution_count": 10,
     "metadata": {},
     "output_type": "execute_result"
    }
   ],
   "source": [
    "# аргументы:\n",
    "# шаблон, по которому ищем, что заменять\n",
    "# функция, которая выполняет преобразование – доклеивает к результатм поиска кавычки\n",
    "# строка, по который выполняем поиск\n",
    "\n",
    "re.sub(\"[a-z]+\", add_quotes, v)"
   ]
  },
  {
   "cell_type": "markdown",
   "metadata": {},
   "source": [
    "**NB.** Если парсить вариант страницы на Github, в некоторых строках в `voted` не пустая строка, а тоже слово – `plus`. Поэтому операция выше на этих элементах будет выдавать текст с лишними кавычками внутри, что нельзя будет интерпретировать как валидные JSON-строки. Пример:"
   ]
  },
  {
   "cell_type": "code",
   "execution_count": 11,
   "metadata": {},
   "outputs": [
    {
     "data": {
      "text/plain": [
       "'{ \"id\":\"132139\", \"plus\":\"124\", \"minus\":\"5\", \"voted\":\"\"plus\"\" }'"
      ]
     },
     "execution_count": 11,
     "metadata": {},
     "output_type": "execute_result"
    }
   ],
   "source": [
    "re.sub(\"[a-z]+\", add_quotes, votes_str[-4]) # \"voted\":\"\"plus\"\""
   ]
  },
  {
   "cell_type": "markdown",
   "metadata": {},
   "source": [
    "Перед дальнейшими манипуляциям с модулем `json` избавимся от этих повторяющихся кавычек с помощью обычной замены через метод `.replace()` на строках:"
   ]
  },
  {
   "cell_type": "code",
   "execution_count": 12,
   "metadata": {},
   "outputs": [
    {
     "data": {
      "text/plain": [
       "['{ \"id\":\"160325\", \"plus\":\"64\", \"minus\":\"3\", \"voted\":\"\" }',\n",
       " '{ \"id\":\"1928641\", \"plus\":\"33\", \"minus\":\"1\", \"voted\":\"\" }',\n",
       " '{ \"id\":\"1966145\", \"plus\":\"29\", \"minus\":\"1\", \"voted\":\"\" }',\n",
       " '{ \"id\":\"1973000\", \"plus\":\"30\", \"minus\":\"1\", \"voted\":\"\" }',\n",
       " '{ \"id\":\"1973001\", \"plus\":\"30\", \"minus\":\"1\", \"voted\":\"\" }',\n",
       " '{ \"id\":\"1973002\", \"plus\":\"31\", \"minus\":\"0\", \"voted\":\"\" }',\n",
       " '{ \"id\":\"1973003\", \"plus\":\"30\", \"minus\":\"1\", \"voted\":\"\" }',\n",
       " '{ \"id\":\"1973005\", \"plus\":\"30\", \"minus\":\"2\", \"voted\":\"\" }',\n",
       " '{ \"id\":\"1973007\", \"plus\":\"33\", \"minus\":\"1\", \"voted\":\"\" }',\n",
       " '{ \"id\":\"1973008\", \"plus\":\"28\", \"minus\":\"1\", \"voted\":\"\" }',\n",
       " '{ \"id\":\"1973010\", \"plus\":\"38\", \"minus\":\"7\", \"voted\":\"\" }',\n",
       " '{ \"id\":\"1973011\", \"plus\":\"49\", \"minus\":\"3\", \"voted\":\"\" }',\n",
       " '{ \"id\":\"2030314\", \"plus\":\"2\", \"minus\":\"0\", \"voted\":\"\" }',\n",
       " '{ \"id\":\"2088754\", \"plus\":\"35\", \"minus\":\"2\", \"voted\":\"\" }',\n",
       " '{ \"id\":\"16800\", \"plus\":\"173\", \"minus\":\"4\", \"voted\":\"\" }',\n",
       " '{ \"id\":\"16801\", \"plus\":\"119\", \"minus\":\"28\", \"voted\":\"\" }',\n",
       " '{ \"id\":\"16803\", \"plus\":\"136\", \"minus\":\"12\", \"voted\":\"\" }',\n",
       " '{ \"id\":\"16802\", \"plus\":\"158\", \"minus\":\"11\", \"voted\":\"\" }',\n",
       " '{ \"id\":\"16804\", \"plus\":\"150\", \"minus\":\"6\", \"voted\":\"\" }',\n",
       " '{ \"id\":\"56008\", \"plus\":\"112\", \"minus\":\"10\", \"voted\":\"plus\" }',\n",
       " '{ \"id\":\"62460\", \"plus\":\"112\", \"minus\":\"4\", \"voted\":\"\" }',\n",
       " '{ \"id\":\"72744\", \"plus\":\"132\", \"minus\":\"3\", \"voted\":\"\" }',\n",
       " '{ \"id\":\"83813\", \"plus\":\"49\", \"minus\":\"3\", \"voted\":\"\" }',\n",
       " '{ \"id\":\"89473\", \"plus\":\"109\", \"minus\":\"22\", \"voted\":\"plus\" }',\n",
       " '{ \"id\":\"124124\", \"plus\":\"138\", \"minus\":\"7\", \"voted\":\"\" }',\n",
       " '{ \"id\":\"132138\", \"plus\":\"143\", \"minus\":\"3\", \"voted\":\"\" }',\n",
       " '{ \"id\":\"132139\", \"plus\":\"124\", \"minus\":\"5\", \"voted\":\"plus\" }',\n",
       " '{ \"id\":\"132140\", \"plus\":\"86\", \"minus\":\"3\", \"voted\":\"\" }',\n",
       " '{ \"id\":\"132141\", \"plus\":\"79\", \"minus\":\"6\", \"voted\":\"\" }',\n",
       " '{ \"id\":\"132143\", \"plus\":\"7\", \"minus\":\"0\", \"voted\":\"\" }']"
      ]
     },
     "execution_count": 12,
     "metadata": {},
     "output_type": "execute_result"
    }
   ],
   "source": [
    "# заменяем \"\"plus\"\" на \"plus\"\n",
    "# были бы минусы, проделали тоже и для \"\"minus\"\"\n",
    "# просто заменить дублирующися кавчки нельзя, в voted может быть\n",
    "# пустая строка, и тогда нужные кавычки тоже слетят\n",
    "\n",
    "new = [re.sub(\"[a-z]+\", add_quotes, v).replace('\"\"plus\"\"', '\"plus\"') for v in votes_str]\n",
    "new"
   ]
  },
  {
   "cell_type": "markdown",
   "metadata": {},
   "source": [
    "### Задача 3\n",
    "\n",
    "Примените операцию выше ко всем строкам в `votes_str` и получите список валидных JSON-строк. Используя модуль `json`, превратите список JSON-строк в список питоновских словарей. Создайте на его основе датафрейм pandas."
   ]
  },
  {
   "cell_type": "code",
   "execution_count": 13,
   "metadata": {},
   "outputs": [
    {
     "data": {
      "text/plain": [
       "[{'id': '160325', 'plus': '64', 'minus': '3', 'voted': ''},\n",
       " {'id': '1928641', 'plus': '33', 'minus': '1', 'voted': ''},\n",
       " {'id': '1966145', 'plus': '29', 'minus': '1', 'voted': ''},\n",
       " {'id': '1973000', 'plus': '30', 'minus': '1', 'voted': ''},\n",
       " {'id': '1973001', 'plus': '30', 'minus': '1', 'voted': ''},\n",
       " {'id': '1973002', 'plus': '31', 'minus': '0', 'voted': ''},\n",
       " {'id': '1973003', 'plus': '30', 'minus': '1', 'voted': ''},\n",
       " {'id': '1973005', 'plus': '30', 'minus': '2', 'voted': ''},\n",
       " {'id': '1973007', 'plus': '33', 'minus': '1', 'voted': ''},\n",
       " {'id': '1973008', 'plus': '28', 'minus': '1', 'voted': ''},\n",
       " {'id': '1973010', 'plus': '38', 'minus': '7', 'voted': ''},\n",
       " {'id': '1973011', 'plus': '49', 'minus': '3', 'voted': ''},\n",
       " {'id': '2030314', 'plus': '2', 'minus': '0', 'voted': ''},\n",
       " {'id': '2088754', 'plus': '35', 'minus': '2', 'voted': ''},\n",
       " {'id': '16800', 'plus': '173', 'minus': '4', 'voted': ''},\n",
       " {'id': '16801', 'plus': '119', 'minus': '28', 'voted': ''},\n",
       " {'id': '16803', 'plus': '136', 'minus': '12', 'voted': ''},\n",
       " {'id': '16802', 'plus': '158', 'minus': '11', 'voted': ''},\n",
       " {'id': '16804', 'plus': '150', 'minus': '6', 'voted': ''},\n",
       " {'id': '56008', 'plus': '112', 'minus': '10', 'voted': 'plus'},\n",
       " {'id': '62460', 'plus': '112', 'minus': '4', 'voted': ''},\n",
       " {'id': '72744', 'plus': '132', 'minus': '3', 'voted': ''},\n",
       " {'id': '83813', 'plus': '49', 'minus': '3', 'voted': ''},\n",
       " {'id': '89473', 'plus': '109', 'minus': '22', 'voted': 'plus'},\n",
       " {'id': '124124', 'plus': '138', 'minus': '7', 'voted': ''},\n",
       " {'id': '132138', 'plus': '143', 'minus': '3', 'voted': ''},\n",
       " {'id': '132139', 'plus': '124', 'minus': '5', 'voted': 'plus'},\n",
       " {'id': '132140', 'plus': '86', 'minus': '3', 'voted': ''},\n",
       " {'id': '132141', 'plus': '79', 'minus': '6', 'voted': ''},\n",
       " {'id': '132143', 'plus': '7', 'minus': '0', 'voted': ''}]"
      ]
     },
     "execution_count": 13,
     "metadata": {},
     "output_type": "execute_result"
    }
   ],
   "source": [
    "# превращаем каждую строку в new в полноценный словарь,\n",
    "# десериализуя json-строки через loads()\n",
    "\n",
    "L_dicts = [json.loads(s) for s in new]\n",
    "L_dicts"
   ]
  },
  {
   "cell_type": "code",
   "execution_count": 14,
   "metadata": {},
   "outputs": [
    {
     "data": {
      "text/html": [
       "<div>\n",
       "<style scoped>\n",
       "    .dataframe tbody tr th:only-of-type {\n",
       "        vertical-align: middle;\n",
       "    }\n",
       "\n",
       "    .dataframe tbody tr th {\n",
       "        vertical-align: top;\n",
       "    }\n",
       "\n",
       "    .dataframe thead th {\n",
       "        text-align: right;\n",
       "    }\n",
       "</style>\n",
       "<table border=\"1\" class=\"dataframe\">\n",
       "  <thead>\n",
       "    <tr style=\"text-align: right;\">\n",
       "      <th></th>\n",
       "      <th>id</th>\n",
       "      <th>plus</th>\n",
       "      <th>minus</th>\n",
       "      <th>voted</th>\n",
       "    </tr>\n",
       "  </thead>\n",
       "  <tbody>\n",
       "    <tr>\n",
       "      <th>0</th>\n",
       "      <td>160325</td>\n",
       "      <td>64</td>\n",
       "      <td>3</td>\n",
       "      <td></td>\n",
       "    </tr>\n",
       "    <tr>\n",
       "      <th>1</th>\n",
       "      <td>1928641</td>\n",
       "      <td>33</td>\n",
       "      <td>1</td>\n",
       "      <td></td>\n",
       "    </tr>\n",
       "    <tr>\n",
       "      <th>2</th>\n",
       "      <td>1966145</td>\n",
       "      <td>29</td>\n",
       "      <td>1</td>\n",
       "      <td></td>\n",
       "    </tr>\n",
       "    <tr>\n",
       "      <th>3</th>\n",
       "      <td>1973000</td>\n",
       "      <td>30</td>\n",
       "      <td>1</td>\n",
       "      <td></td>\n",
       "    </tr>\n",
       "    <tr>\n",
       "      <th>4</th>\n",
       "      <td>1973001</td>\n",
       "      <td>30</td>\n",
       "      <td>1</td>\n",
       "      <td></td>\n",
       "    </tr>\n",
       "    <tr>\n",
       "      <th>5</th>\n",
       "      <td>1973002</td>\n",
       "      <td>31</td>\n",
       "      <td>0</td>\n",
       "      <td></td>\n",
       "    </tr>\n",
       "    <tr>\n",
       "      <th>6</th>\n",
       "      <td>1973003</td>\n",
       "      <td>30</td>\n",
       "      <td>1</td>\n",
       "      <td></td>\n",
       "    </tr>\n",
       "    <tr>\n",
       "      <th>7</th>\n",
       "      <td>1973005</td>\n",
       "      <td>30</td>\n",
       "      <td>2</td>\n",
       "      <td></td>\n",
       "    </tr>\n",
       "    <tr>\n",
       "      <th>8</th>\n",
       "      <td>1973007</td>\n",
       "      <td>33</td>\n",
       "      <td>1</td>\n",
       "      <td></td>\n",
       "    </tr>\n",
       "    <tr>\n",
       "      <th>9</th>\n",
       "      <td>1973008</td>\n",
       "      <td>28</td>\n",
       "      <td>1</td>\n",
       "      <td></td>\n",
       "    </tr>\n",
       "    <tr>\n",
       "      <th>10</th>\n",
       "      <td>1973010</td>\n",
       "      <td>38</td>\n",
       "      <td>7</td>\n",
       "      <td></td>\n",
       "    </tr>\n",
       "    <tr>\n",
       "      <th>11</th>\n",
       "      <td>1973011</td>\n",
       "      <td>49</td>\n",
       "      <td>3</td>\n",
       "      <td></td>\n",
       "    </tr>\n",
       "    <tr>\n",
       "      <th>12</th>\n",
       "      <td>2030314</td>\n",
       "      <td>2</td>\n",
       "      <td>0</td>\n",
       "      <td></td>\n",
       "    </tr>\n",
       "    <tr>\n",
       "      <th>13</th>\n",
       "      <td>2088754</td>\n",
       "      <td>35</td>\n",
       "      <td>2</td>\n",
       "      <td></td>\n",
       "    </tr>\n",
       "    <tr>\n",
       "      <th>14</th>\n",
       "      <td>16800</td>\n",
       "      <td>173</td>\n",
       "      <td>4</td>\n",
       "      <td></td>\n",
       "    </tr>\n",
       "    <tr>\n",
       "      <th>15</th>\n",
       "      <td>16801</td>\n",
       "      <td>119</td>\n",
       "      <td>28</td>\n",
       "      <td></td>\n",
       "    </tr>\n",
       "    <tr>\n",
       "      <th>16</th>\n",
       "      <td>16803</td>\n",
       "      <td>136</td>\n",
       "      <td>12</td>\n",
       "      <td></td>\n",
       "    </tr>\n",
       "    <tr>\n",
       "      <th>17</th>\n",
       "      <td>16802</td>\n",
       "      <td>158</td>\n",
       "      <td>11</td>\n",
       "      <td></td>\n",
       "    </tr>\n",
       "    <tr>\n",
       "      <th>18</th>\n",
       "      <td>16804</td>\n",
       "      <td>150</td>\n",
       "      <td>6</td>\n",
       "      <td></td>\n",
       "    </tr>\n",
       "    <tr>\n",
       "      <th>19</th>\n",
       "      <td>56008</td>\n",
       "      <td>112</td>\n",
       "      <td>10</td>\n",
       "      <td>plus</td>\n",
       "    </tr>\n",
       "    <tr>\n",
       "      <th>20</th>\n",
       "      <td>62460</td>\n",
       "      <td>112</td>\n",
       "      <td>4</td>\n",
       "      <td></td>\n",
       "    </tr>\n",
       "    <tr>\n",
       "      <th>21</th>\n",
       "      <td>72744</td>\n",
       "      <td>132</td>\n",
       "      <td>3</td>\n",
       "      <td></td>\n",
       "    </tr>\n",
       "    <tr>\n",
       "      <th>22</th>\n",
       "      <td>83813</td>\n",
       "      <td>49</td>\n",
       "      <td>3</td>\n",
       "      <td></td>\n",
       "    </tr>\n",
       "    <tr>\n",
       "      <th>23</th>\n",
       "      <td>89473</td>\n",
       "      <td>109</td>\n",
       "      <td>22</td>\n",
       "      <td>plus</td>\n",
       "    </tr>\n",
       "    <tr>\n",
       "      <th>24</th>\n",
       "      <td>124124</td>\n",
       "      <td>138</td>\n",
       "      <td>7</td>\n",
       "      <td></td>\n",
       "    </tr>\n",
       "    <tr>\n",
       "      <th>25</th>\n",
       "      <td>132138</td>\n",
       "      <td>143</td>\n",
       "      <td>3</td>\n",
       "      <td></td>\n",
       "    </tr>\n",
       "    <tr>\n",
       "      <th>26</th>\n",
       "      <td>132139</td>\n",
       "      <td>124</td>\n",
       "      <td>5</td>\n",
       "      <td>plus</td>\n",
       "    </tr>\n",
       "    <tr>\n",
       "      <th>27</th>\n",
       "      <td>132140</td>\n",
       "      <td>86</td>\n",
       "      <td>3</td>\n",
       "      <td></td>\n",
       "    </tr>\n",
       "    <tr>\n",
       "      <th>28</th>\n",
       "      <td>132141</td>\n",
       "      <td>79</td>\n",
       "      <td>6</td>\n",
       "      <td></td>\n",
       "    </tr>\n",
       "    <tr>\n",
       "      <th>29</th>\n",
       "      <td>132143</td>\n",
       "      <td>7</td>\n",
       "      <td>0</td>\n",
       "      <td></td>\n",
       "    </tr>\n",
       "  </tbody>\n",
       "</table>\n",
       "</div>"
      ],
      "text/plain": [
       "         id plus minus voted\n",
       "0    160325   64     3      \n",
       "1   1928641   33     1      \n",
       "2   1966145   29     1      \n",
       "3   1973000   30     1      \n",
       "4   1973001   30     1      \n",
       "5   1973002   31     0      \n",
       "6   1973003   30     1      \n",
       "7   1973005   30     2      \n",
       "8   1973007   33     1      \n",
       "9   1973008   28     1      \n",
       "10  1973010   38     7      \n",
       "11  1973011   49     3      \n",
       "12  2030314    2     0      \n",
       "13  2088754   35     2      \n",
       "14    16800  173     4      \n",
       "15    16801  119    28      \n",
       "16    16803  136    12      \n",
       "17    16802  158    11      \n",
       "18    16804  150     6      \n",
       "19    56008  112    10  plus\n",
       "20    62460  112     4      \n",
       "21    72744  132     3      \n",
       "22    83813   49     3      \n",
       "23    89473  109    22  plus\n",
       "24   124124  138     7      \n",
       "25   132138  143     3      \n",
       "26   132139  124     5  plus\n",
       "27   132140   86     3      \n",
       "28   132141   79     6      \n",
       "29   132143    7     0      "
      ]
     },
     "execution_count": 14,
     "metadata": {},
     "output_type": "execute_result"
    }
   ],
   "source": [
    "# превращаем список словарей в датафрейм\n",
    "\n",
    "df = pd.DataFrame(L_dicts)\n",
    "df"
   ]
  },
  {
   "cell_type": "code",
   "execution_count": 15,
   "metadata": {},
   "outputs": [],
   "source": [
    "# меняем тип столбцов plus и minus на integer\n",
    "\n",
    "df[\"plus\"] = df[\"plus\"].astype(int)\n",
    "df[\"minus\"] = df[\"minus\"].astype(int)"
   ]
  },
  {
   "cell_type": "code",
   "execution_count": 16,
   "metadata": {},
   "outputs": [
    {
     "name": "stdout",
     "output_type": "stream",
     "text": [
      "<class 'pandas.core.frame.DataFrame'>\n",
      "RangeIndex: 30 entries, 0 to 29\n",
      "Data columns (total 4 columns):\n",
      " #   Column  Non-Null Count  Dtype \n",
      "---  ------  --------------  ----- \n",
      " 0   id      30 non-null     object\n",
      " 1   plus    30 non-null     int64 \n",
      " 2   minus   30 non-null     int64 \n",
      " 3   voted   30 non-null     object\n",
      "dtypes: int64(2), object(2)\n",
      "memory usage: 1.1+ KB\n"
     ]
    }
   ],
   "source": [
    "df.info()"
   ]
  }
 ],
 "metadata": {
  "kernelspec": {
   "display_name": "Python 3",
   "language": "python",
   "name": "python3"
  },
  "language_info": {
   "codemirror_mode": {
    "name": "ipython",
    "version": 3
   },
   "file_extension": ".py",
   "mimetype": "text/x-python",
   "name": "python",
   "nbconvert_exporter": "python",
   "pygments_lexer": "ipython3",
   "version": "3.7.4"
  }
 },
 "nbformat": 4,
 "nbformat_minor": 2
}

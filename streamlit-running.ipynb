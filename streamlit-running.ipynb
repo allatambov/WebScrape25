{
 "cells": [
  {
   "cell_type": "markdown",
   "metadata": {},
   "source": [
    "## Запуск приложений  `streamlit`\n",
    "\n",
    "### Часть 1. Запуск на компьютере\n",
    "\n",
    "**Шаг 1.** Создаём новый исполняемый файл с расширением `.py`, добавляем туда код и сохраняем изменения. \n",
    "\n",
    "* **Способ 1.** В *Home Page* в Jupyter Notebook выбираем *New - Text file*, изменяем расширение `.txt` на `.py` и даём файлу название `app.py` (любое название без пробелов с расширением `.py`).\n",
    "\n",
    "* **Способ 2.** В ipynb-файле в Jupyter Notebook в ячейку помещаем код, который должен быть в файле `app.py`, в начале ячейки добавляем строку `%%writefile app.py`, чтобы содержимое ячейки записалось и сохранилось в файл.\n",
    "\n",
    "Пример для способа 2:"
   ]
  },
  {
   "cell_type": "code",
   "execution_count": null,
   "metadata": {},
   "outputs": [],
   "source": [
    "%%writefile app.py\n",
    "\n",
    "import streamlit as st\n",
    "import pandas as pd\n",
    "\n",
    "key_input = st.sidebar.text_input(\"Ключевые слова:\")\n",
    "sort_select = st.sidebar.selectbox(\"Сортировка:\", \n",
    "                     options = {\"Сначала дешевле\" : \" Сначала дешевле \", \n",
    "                                \"Сначала дороже\" : \" Сначала дороже \",\n",
    "                                \"Сначала новые\" : \" Сначала новые \",\n",
    "                                \"По релевантности\" : \" По релевантности \",\n",
    "                                \"По популярности\" : \" По популярности \"})"
   ]
  },
  {
   "cell_type": "markdown",
   "metadata": {},
   "source": [
    "**Шаг 2.** Запускаем исполняемый файл `app.py` через командную строку или Jupyter Notebook.\n",
    "\n",
    "* **Через Jupyter Notebook:**\n",
    "\n",
    "В ipynb-файле в той же папке, что и `app.py` запускаем ячейку:\n",
    "\n",
    "        !streamlit run app.py\n",
    "\n",
    "* **Через терминал/командную строку:**\n",
    "\n",
    "        streamlit run app.py\n",
    "    \n",
    "Если файл `app.py` не найден, проверьте, в какой папке он лежит, при необходимости к нему можно прописать полный путь (относится, в первую очередь, к запуску с командной строки/терминала):\n",
    "\n",
    "        streamlit run \"/Users/allat/Desktop/app.py\""
   ]
  },
  {
   "cell_type": "markdown",
   "metadata": {},
   "source": [
    "После запуска в новой вкладке браузера должна открыться страница с приложением."
   ]
  },
  {
   "cell_type": "markdown",
   "metadata": {},
   "source": [
    "### Часть 2. Запуск в Google Colab"
   ]
  },
  {
   "cell_type": "markdown",
   "metadata": {},
   "source": [
    "Запускать приложения в Google Colab потенциально проблематично, так как запускаться они будут где-то на облаке, к которому за рамками Colab у нас доступа нет (ссылка вида `http://localhost:8501/` ни к чему не приведёт).\n",
    "\n",
    "Однако есть способ, [описанный](https://discuss.streamlit.io/t/how-to-launch-streamlit-app-from-google-colab-notebook/42399) в самом сообществе Streamlit. "
   ]
  },
  {
   "cell_type": "markdown",
   "metadata": {},
   "source": [
    "**Шаг 0.** [Выполняется один раз при первом запуске] Заходим в Google Colab, создаем новый ноутбук, помимо `streamlit` устанавливаем библиотеку `localtunnel`, она позволит запускать приложение на удалённом сервере и иметь доступ к нему:"
   ]
  },
  {
   "cell_type": "code",
   "execution_count": null,
   "metadata": {},
   "outputs": [],
   "source": [
    "!pip install -q streamlit"
   ]
  },
  {
   "cell_type": "code",
   "execution_count": null,
   "metadata": {},
   "outputs": [],
   "source": [
    "!npm install localtunnel"
   ]
  },
  {
   "cell_type": "markdown",
   "metadata": {},
   "source": [
    "**Шаг 1.** Загружаем файл `app.py` с приложением в Colab (как обычный файл с данными, например) или записываем код в новый исполняемый файл через `%%writefile` как в примере части 1 выше:"
   ]
  },
  {
   "cell_type": "code",
   "execution_count": null,
   "metadata": {},
   "outputs": [],
   "source": [
    "%%writefile app.py\n",
    "\n",
    "import streamlit as st\n",
    "import pandas as pd\n",
    "\n",
    "key_input = st.sidebar.text_input(\"Ключевые слова:\")\n",
    "sort_select = st.sidebar.selectbox(\"Сортировка:\", \n",
    "                     options = {\"Сначала дешевле\" : \" Сначала дешевле \", \n",
    "                                \"Сначала дороже\" : \" Сначала дороже \",\n",
    "                                \"Сначала новые\" : \" Сначала новые \",\n",
    "                                \"По релевантности\" : \" По релевантности \",\n",
    "                                \"По популярности\" : \" По популярности \"})"
   ]
  },
  {
   "cell_type": "markdown",
   "metadata": {},
   "source": [
    "**Шаг 2.** Запускаем исполняемый файл `app.py` в фоновом режиме (чтобы приложение запустилось и чтобы ячейка не «висела» в режиме ожидания) и размещаем его на временном сервере через ресурс `https://ipv4.icanhazip.com`, благодаря библиотеке `localtunnel`:"
   ]
  },
  {
   "cell_type": "code",
   "execution_count": null,
   "metadata": {},
   "outputs": [],
   "source": [
    "!streamlit run app.py &>/content/logs.txt & npx localtunnel --port 8501 & curl https://ipv4.icanhazip.com"
   ]
  },
  {
   "cell_type": "markdown",
   "metadata": {},
   "source": [
    "Код выше выдаёт ключ/пароль для доступа к странице (первая строка) и ссылку на страницу с приложением, размещённую на временном сервере (вторая строка). Пример:"
   ]
  },
  {
   "cell_type": "raw",
   "metadata": {},
   "source": [
    "35.237.134.255\n",
    "⠙your url is: https://lucky-bees-flash.loca.lt"
   ]
  },
  {
   "cell_type": "markdown",
   "metadata": {},
   "source": [
    "Переходим по ссылке (здесь `https://lucky-bees-flash.loca.lt`) и вводим в поле *Tunnel Password* пароль (здесь `35.237.134.255`), нажимаем *Click to submit*. Через некоторое время должна открыться страница с приложением."
   ]
  },
  {
   "cell_type": "markdown",
   "metadata": {},
   "source": [
    "Если файл `app.py` нужно изменить (исправить/дополнить приложение), останавливаем исполнение ячейки с кодом выше `!streamlit run app.py ...`, перезаписываем `app.py` или загружаем его новую версию с компьютера, запускаем команду `!streamlit run app.py ...` еще раз. \n",
    "\n",
    "Пароль, скорее всего, если прошло несколько минут, будет тем же, а вот ссылка будет другой (для приложения предоставляется новый рандомный адрес), поэтому придется еще раз его ввести."
   ]
  }
 ],
 "metadata": {
  "kernelspec": {
   "display_name": "Python 3",
   "language": "python",
   "name": "python3"
  },
  "language_info": {
   "codemirror_mode": {
    "name": "ipython",
    "version": 3
   },
   "file_extension": ".py",
   "mimetype": "text/x-python",
   "name": "python",
   "nbconvert_exporter": "python",
   "pygments_lexer": "ipython3",
   "version": "3.7.4"
  }
 },
 "nbformat": 4,
 "nbformat_minor": 2
}

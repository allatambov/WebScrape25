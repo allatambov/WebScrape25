{
 "cells": [
  {
   "cell_type": "markdown",
   "metadata": {},
   "source": [
    "# Web-scraping: сбор данных из баз данных и интернет-источников\n",
    "\n",
    "*Алла Тамбовцева*\n",
    "\n",
    "## Практикум 2.2. Формирование ссылок и парсинг полученных страниц"
   ]
  },
  {
   "cell_type": "markdown",
   "metadata": {},
   "source": [
    "**Полезное напоминание 1.** Чтобы получать списки с нужной структурой, давайте вспомним, в чем различие методов `.append()` и `.extend()` для добавления элементов списка."
   ]
  },
  {
   "cell_type": "code",
   "execution_count": null,
   "metadata": {},
   "outputs": [],
   "source": [
    "L = []\n",
    "L.append(3)\n",
    "L.append(5)\n",
    "L.append([3, 8, 10])\n",
    "print(L)"
   ]
  },
  {
   "cell_type": "code",
   "execution_count": null,
   "metadata": {},
   "outputs": [],
   "source": [
    "K = []\n",
    "# K.extend(3)"
   ]
  },
  {
   "cell_type": "code",
   "execution_count": null,
   "metadata": {},
   "outputs": [],
   "source": [
    "K.extend([3])\n",
    "K.extend([5])\n",
    "K.extend([3, 8, 10])\n",
    "print(K)"
   ]
  },
  {
   "cell_type": "markdown",
   "metadata": {},
   "source": [
    "Чтобы понять, как это может быть полезно при сборе данных, представьте, что нам нужно собрать однотипные данные не с одной страницы, а сразу с нескольких. Какой способ предпочтительнее, например, если мы хотим получить список ссылок на все товары, которые есть на первой, второй и третьей странице каталога?"
   ]
  },
  {
   "cell_type": "markdown",
   "metadata": {},
   "source": [
    "**Полезное напоминание 2.** Чтобы объединить элементы списков попарно, можно воспользоваться функцией `zip()`:"
   ]
  },
  {
   "cell_type": "code",
   "execution_count": null,
   "metadata": {},
   "outputs": [],
   "source": [
    "zip([\"A\", \"B\", \"C\"], [10, 20, 30])"
   ]
  },
  {
   "cell_type": "code",
   "execution_count": null,
   "metadata": {},
   "outputs": [],
   "source": [
    "print(*zip([\"A\", \"B\", \"C\"], [10, 20, 30]))"
   ]
  },
  {
   "cell_type": "markdown",
   "metadata": {},
   "source": [
    "По перечню пар можно двигаться в рамках одного цикла `for`, присваивая названия первому и второму элементу пары соответственно:"
   ]
  },
  {
   "cell_type": "code",
   "execution_count": null,
   "metadata": {},
   "outputs": [],
   "source": [
    "pairs = zip([\"A\", \"B\", \"C\"], [10, 20, 30])\n",
    "\n",
    "for letter, number in pairs:\n",
    "    print(letter, \"has\", number, \"apples\")"
   ]
  },
  {
   "cell_type": "markdown",
   "metadata": {},
   "source": [
    "Чтобы понять, как это может быть полезно при сборе данных, представьте, что нам нужно сформировать ссылки, которые содержат даты. Для перебора дней в каждом месяце будет полезно иметь набор пар «месяц-число дней в месяце»."
   ]
  },
  {
   "cell_type": "markdown",
   "metadata": {},
   "source": [
    "**Полезное напоминание 3.** Вспомним про форматирование строк через f-строки (*f-strings*, *formatted sring literals*):"
   ]
  },
  {
   "cell_type": "code",
   "execution_count": null,
   "metadata": {},
   "outputs": [],
   "source": [
    "name = \"Alla\"\n",
    "surname = \"Turner\"\n",
    "print(f\"Hello, {name} {surname}!\")"
   ]
  },
  {
   "cell_type": "code",
   "execution_count": null,
   "metadata": {},
   "outputs": [],
   "source": [
    "N = 5\n",
    "print(f\"Let's count from 1 to {5}!\")\n",
    "for i in range(1, N+1):\n",
    "    print(f\"{i}\")"
   ]
  },
  {
   "cell_type": "markdown",
   "metadata": {},
   "source": [
    "Чтобы понять, как это может быть полезно при сборе данных, представьте, что в однотипные по структуре ссылки нам необходимо подставлять какие-то слова или числа во избежание «ручного» формирования списка ссылок."
   ]
  },
  {
   "cell_type": "markdown",
   "metadata": {},
   "source": [
    "Перейдем к содержательным задачам. Импортируем модуль `requests`, функцию `BeautifulSoup`, а также библиотеку `pandas` для дальнейшей обработки данных:"
   ]
  },
  {
   "cell_type": "code",
   "execution_count": null,
   "metadata": {},
   "outputs": [],
   "source": [
    "import requests\n",
    "import pandas as pd\n",
    "from bs4 import BeautifulSoup"
   ]
  },
  {
   "cell_type": "markdown",
   "metadata": {},
   "source": [
    "### Сюжет 1. Форматирование строк и подстановка текста в ссылки"
   ]
  },
  {
   "cell_type": "markdown",
   "metadata": {},
   "source": [
    "Зайдем на [сайт](https://www.chitai-gorod.ru) книжного магазина «Читай-город» и посмотрим, что происходит с ссылкой в адресной строке браузера, когда мы отправляем запрос для поиска товара. Давайте введем слово `python` и скопируем ссылку из адресной строки."
   ]
  },
  {
   "cell_type": "code",
   "execution_count": null,
   "metadata": {},
   "outputs": [],
   "source": [
    "### YOUR CODE HERE ###"
   ]
  },
  {
   "cell_type": "markdown",
   "metadata": {},
   "source": [
    "### Задача 1\n",
    "\n",
    "Напишите код, который отправляет запрос к странице по ссылке выше, забирает HTML-код, находит все «карточки» товаров на первой странице результатов и сохраняет их в виде списка объектов типа `BeautifulSoup`."
   ]
  },
  {
   "cell_type": "code",
   "execution_count": null,
   "metadata": {},
   "outputs": [],
   "source": [
    "### YOUR CODE HERE ###"
   ]
  },
  {
   "cell_type": "markdown",
   "metadata": {},
   "source": [
    "### Задача 2\n",
    "\n",
    "Напишите функцию, которая принимает на вход объект типа `BeautifulSoup` с «карточкой» товара (как в списке выше) и возвращает список, состоящий из: \n",
    "\n",
    "* названия товара;\n",
    "* ссылки на страницу товара;\n",
    "* цены товара.\n",
    "\n",
    "Примените функцию ко всем элементам списка из предыдущей задачи и проверьте, что все работает."
   ]
  },
  {
   "cell_type": "code",
   "execution_count": null,
   "metadata": {},
   "outputs": [],
   "source": [
    "### YOUR CODE HERE ###"
   ]
  },
  {
   "cell_type": "markdown",
   "metadata": {},
   "source": [
    "### Задача 3\n",
    "\n",
    "Полистайте страницы с результатами поиска в браузере и посмотрите, как изменяется ссылка в адресной строке при переходе к следующей странице с результатами.\n",
    "\n",
    "Напишите код, который подставляет в ссылку номера страниц 1-3 и возвращает список с «карточками» всех товаров на этих странице (как в задаче 1, только теперь больше товаров). Примените функцию из задачи 2 ко всем элементам полученного списка и преобразуйте полученный результат в датафрейм pandas."
   ]
  },
  {
   "cell_type": "code",
   "execution_count": null,
   "metadata": {},
   "outputs": [],
   "source": [
    "### YOUR CODE HERE ###"
   ]
  },
  {
   "cell_type": "markdown",
   "metadata": {},
   "source": [
    "### Сюжет 2. Форматирование строк и подстановка чисел в ссылки"
   ]
  },
  {
   "cell_type": "markdown",
   "metadata": {},
   "source": [
    "В практикуме 2.1 мы написали универсальную функцию для сайта [nplus1.ru](https://nplus1.ru), которая принимает на вход ссылку на новость, а возвращает кортеж с текстом новости и другими ее атрибутами. Остается вопрос: а как быть, если мы хотим собрать новости за конкретный период? Не на всех сайтах это возможно сделать удобным образом, однако в данном случае на сайте есть удобные разделы по датам. Например, откроем новости за 27 января 2025 года: https://nplus1.ru/news/2025/01/27."
   ]
  },
  {
   "cell_type": "markdown",
   "metadata": {},
   "source": [
    "Если мы посмотрим на страницу по ссылке выше, заметим, что на ней хранятся обычные ссылки на новости, как их собирать, мы уже знаем. Поэтому давайте поймем, как сформировать список ссылок с датами внутри.\n",
    "\n",
    "### Задача 1\n",
    "\n",
    "Получите список ссылок на новости за январь 2025 года (с 1 января по 31 января включительно). "
   ]
  },
  {
   "cell_type": "code",
   "execution_count": null,
   "metadata": {},
   "outputs": [],
   "source": [
    "### YOUR CODE HERE ###"
   ]
  },
  {
   "cell_type": "markdown",
   "metadata": {},
   "source": [
    "### Задача 2\n",
    "\n",
    "Напишите код, который сформирует список ссылок на даты за весь 2024 год (31 ссылка на даты января, 29 ссылок на даты февраля и так далее).\n",
    "\n",
    "**Подсказка:** начните со списка с номерами месяцев и списка с числом дней в них."
   ]
  },
  {
   "cell_type": "code",
   "execution_count": null,
   "metadata": {},
   "outputs": [],
   "source": [
    "### YOUR CODE HERE ###"
   ]
  },
  {
   "cell_type": "markdown",
   "metadata": {},
   "source": [
    "### Задача 3\n",
    "\n",
    "Перейдите по [ссылке](https://nplus1.ru/news/2025/01/03) на страницу с новостями за 3 января 2025 года. Сравните полный исходный код страницы и код, который отображается в инструментах разработчика. Подумайте, каким образом в данном случае забирать все ссылки на новости за конкретную дату."
   ]
  },
  {
   "cell_type": "code",
   "execution_count": null,
   "metadata": {},
   "outputs": [],
   "source": [
    "### YOUR CODE HERE ###"
   ]
  }
 ],
 "metadata": {
  "kernelspec": {
   "display_name": "Python 3",
   "language": "python",
   "name": "python3"
  },
  "language_info": {
   "codemirror_mode": {
    "name": "ipython",
    "version": 3
   },
   "file_extension": ".py",
   "mimetype": "text/x-python",
   "name": "python",
   "nbconvert_exporter": "python",
   "pygments_lexer": "ipython3",
   "version": "3.7.4"
  }
 },
 "nbformat": 4,
 "nbformat_minor": 2
}

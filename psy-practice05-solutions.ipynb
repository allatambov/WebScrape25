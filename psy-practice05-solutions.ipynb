{
 "cells": [
  {
   "cell_type": "markdown",
   "metadata": {},
   "source": [
    "# Web-scraping: сбор данных из баз данных и интернет-источников\n",
    "\n",
    "*Алла Тамбовцева*\n",
    "\n",
    "\n",
    "## Практикум 5. Управление браузером с Selenium: продолжение"
   ]
  },
  {
   "cell_type": "markdown",
   "metadata": {},
   "source": [
    "Импортируем всё необходимое – это все модули, библиотеки и функции, которые мы успели изучить на данный момент:"
   ]
  },
  {
   "cell_type": "code",
   "execution_count": 1,
   "metadata": {},
   "outputs": [],
   "source": [
    "import re\n",
    "import requests\n",
    "import pandas as pd\n",
    "\n",
    "from selenium import webdriver as wd\n",
    "from selenium.webdriver.common.by import By\n",
    "from selenium.webdriver.common.keys import Keys\n",
    "from bs4 import BeautifulSoup"
   ]
  },
  {
   "cell_type": "markdown",
   "metadata": {},
   "source": [
    "Вспомним, на чем мы остановились в прошлый раз. Запустим код, который открывает окно браузера через Selenium, переходит на главную страницу книжного магазина «Библио-Глобус», вводит в строку поиска запрос *python* и сохраняет карточки с товарами в виде объектов BeautifulSoup:"
   ]
  },
  {
   "cell_type": "code",
   "execution_count": 2,
   "metadata": {},
   "outputs": [],
   "source": [
    "# чтобы все можно было запускать сразу (не в отдельных ячейках)\n",
    "# и не беспокоиться о том, что страница не прогрузится,\n",
    "# добавляем время ожидания через implicitly_wait()\n",
    "\n",
    "br = wd.Chrome()\n",
    "br.maximize_window()\n",
    "\n",
    "br.get(\"https://www.biblio-globus.ru/\")\n",
    "br.implicitly_wait(5)\n",
    "\n",
    "search = br.find_element(By.ID, \"SearchBooks\")\n",
    "search.send_keys(\"python\")\n",
    "br.implicitly_wait(2)\n",
    "\n",
    "search.send_keys(Keys.ENTER)\n",
    "br.implicitly_wait(2)\n",
    "\n",
    "options = br.find_element(By.TAG_NAME, \"select\")\n",
    "options.send_keys(\" Сначала дешевле \")\n",
    "tick = br.find_element(By.CLASS_NAME, \"custom-control-label\")\n",
    "tick.click()\n",
    "br.implicitly_wait(2)\n",
    "\n",
    "html = br.page_source\n",
    "soup = BeautifulSoup(html)\n",
    "cards = soup.find_all(\"div\", class_ = \"card\")"
   ]
  },
  {
   "cell_type": "markdown",
   "metadata": {},
   "source": [
    "### Задача 0\n",
    "\n",
    "Для бодрого начала сделайте скриншот той страницы, которая сейчас открыта в окне браузера, запущенном через Selenium, используя \n",
    "метод `.save_screenshot()`."
   ]
  },
  {
   "cell_type": "code",
   "execution_count": 3,
   "metadata": {},
   "outputs": [
    {
     "data": {
      "text/plain": [
       "True"
      ]
     },
     "execution_count": 3,
     "metadata": {},
     "output_type": "execute_result"
    }
   ],
   "source": [
    "# сохраняем в файл test.png\n",
    "br.save_screenshot(\"test.png\")"
   ]
  },
  {
   "cell_type": "markdown",
   "metadata": {},
   "source": [
    "### Задача 1\n",
    "\n",
    "Напишите функцию `get_cards()`, которая принимает на вход строку с кодом HTML, соответствующим странице с результатами запроса (пока это первая страница результатов), и возвращает список объектов BeautifulSoup с карточками товаров (как `cards` выше). "
   ]
  },
  {
   "cell_type": "code",
   "execution_count": 4,
   "metadata": {},
   "outputs": [
    {
     "data": {
      "text/plain": [
       "bs4.element.Tag"
      ]
     },
     "execution_count": 4,
     "metadata": {},
     "output_type": "execute_result"
    }
   ],
   "source": [
    "type(cards[0]) # изучаем тип данных"
   ]
  },
  {
   "cell_type": "code",
   "execution_count": 5,
   "metadata": {},
   "outputs": [],
   "source": [
    "def get_cards(html):\n",
    "    soup = BeautifulSoup(html)\n",
    "    cards = soup.find_all(\"div\", class_ = \"card\")\n",
    "    return cards"
   ]
  },
  {
   "cell_type": "markdown",
   "metadata": {},
   "source": [
    "### Задача 2\n",
    "\n",
    "Найдите фрагмент (объект типа `WebElement` в Selenium) с кнопкой, которая позволяет переходить на *следующую* страницу поиска, и сохраните его в переменную `next_page`. Найдите фрагмент с кнопкой , которая позволяет переходить на *последнюю* страницу поиска, и сохраните его в переменную `last_page`."
   ]
  },
  {
   "cell_type": "code",
   "execution_count": 6,
   "metadata": {},
   "outputs": [],
   "source": [
    "# поиск по частичному совпадению текста ссылки (» или »»)\n",
    "\n",
    "next_page = br.find_element(By.PARTIAL_LINK_TEXT, \"»\")\n",
    "last_page = br.find_element(By.PARTIAL_LINK_TEXT, \"»»\")"
   ]
  },
  {
   "cell_type": "code",
   "execution_count": 7,
   "metadata": {},
   "outputs": [
    {
     "data": {
      "text/plain": [
       "'<span aria-hidden=\"true\">»»</span><span class=\"sr-only\">Next</span>'"
      ]
     },
     "execution_count": 7,
     "metadata": {},
     "output_type": "execute_result"
    }
   ],
   "source": [
    "# полезные примеры – как понять, что внутри объекта WebElement\n",
    "# innerHTML – какой код HTML внутри фрагмента last_page\n",
    "\n",
    "last_page.get_attribute(\"innerHTML\")"
   ]
  },
  {
   "cell_type": "code",
   "execution_count": 8,
   "metadata": {},
   "outputs": [
    {
     "data": {
      "text/plain": [
       "'<a aria-label=\"Next\" class=\"page-link\" href=\"search?query=python&amp;page=8&amp;sort=5&amp;instock=on&amp;cat=0&amp;isdiscount=\"><span aria-hidden=\"true\">»»</span><span class=\"sr-only\">Next</span></a>'"
      ]
     },
     "execution_count": 8,
     "metadata": {},
     "output_type": "execute_result"
    }
   ],
   "source": [
    "# outerHTML – какой код HTML снаружи фрагмента last_page\n",
    "# в какие тэги он вложен\n",
    "\n",
    "last_page.get_attribute(\"outerHTML\")"
   ]
  },
  {
   "cell_type": "markdown",
   "metadata": {},
   "source": [
    "### Задача 3\n",
    "\n",
    "Используя метод `.get_attribute()`, извлеките из `last_page` ссылку на последнюю страницу поиска, сохраните ее в переменную `last_href`."
   ]
  },
  {
   "cell_type": "code",
   "execution_count": 9,
   "metadata": {},
   "outputs": [],
   "source": [
    "last_href = last_page.get_attribute(\"href\")"
   ]
  },
  {
   "cell_type": "code",
   "execution_count": 10,
   "metadata": {},
   "outputs": [
    {
     "name": "stdout",
     "output_type": "stream",
     "text": [
      "https://www.biblio-globus.ru/catalog/search?query=python&page=8&sort=5&instock=on&cat=0&isdiscount=\n"
     ]
    }
   ],
   "source": [
    "print(last_href)"
   ]
  },
  {
   "cell_type": "markdown",
   "metadata": {},
   "source": [
    "### Задача 4\n",
    "\n",
    "Используя регулярные выражения, извлеките из `last_href` номер последней страницы с результатами поиска и превратите результат в целое число (тип `integer`)."
   ]
  },
  {
   "cell_type": "code",
   "execution_count": 11,
   "metadata": {},
   "outputs": [
    {
     "name": "stdout",
     "output_type": "stream",
     "text": [
      "8\n"
     ]
    }
   ],
   "source": [
    "last_n = int(re.search(\"page=(\\d+)\", last_href).group(1))\n",
    "print(last_n)"
   ]
  },
  {
   "cell_type": "markdown",
   "metadata": {},
   "source": [
    "### Задача 5\n",
    "\n",
    "Допишите код ниже таким образом, чтобы все страницы с результатами поиска прокликались в открытом окне браузера, а в `full_res` оказались все карточки с товарами."
   ]
  },
  {
   "cell_type": "code",
   "execution_count": 12,
   "metadata": {},
   "outputs": [],
   "source": [
    "full_res = cards.copy()\n",
    "\n",
    "for i in range(0, last_n - 1):\n",
    "    \n",
    "    next_page = br.find_element(By.PARTIAL_LINK_TEXT, \"»\")\n",
    "    next_page.click()\n",
    "    \n",
    "    br.implicitly_wait(2)\n",
    "    \n",
    "    html = br.page_source\n",
    "    cards_to_add = get_cards(html)\n",
    "    full_res.extend(cards_to_add)"
   ]
  },
  {
   "cell_type": "code",
   "execution_count": 13,
   "metadata": {},
   "outputs": [
    {
     "name": "stdout",
     "output_type": "stream",
     "text": [
      "94\n"
     ]
    }
   ],
   "source": [
    "print(len(full_res)) # примерное число результатов"
   ]
  },
  {
   "cell_type": "markdown",
   "metadata": {},
   "source": [
    "### Задача 6\n",
    "\n",
    "Изучите элементы списка `full_res` и придумайте способ, который позволит универсальным образом различать карточки с товарами и «пустые» карточки с фрагментами меню. \n",
    "\n",
    "Подсказка: сравните атрибуты у первого и второго элемента в `full_res`."
   ]
  },
  {
   "cell_type": "code",
   "execution_count": null,
   "metadata": {},
   "outputs": [],
   "source": [
    "# print(full_res[0])\n",
    "# print(full_res[1])"
   ]
  },
  {
   "cell_type": "code",
   "execution_count": 14,
   "metadata": {},
   "outputs": [
    {
     "name": "stdout",
     "output_type": "stream",
     "text": [
      "['card', 'sidebar-menu', 'mb-4']\n",
      "['card']\n"
     ]
    }
   ],
   "source": [
    "item0 = full_res[0]\n",
    "item1 = full_res[1]\n",
    "\n",
    "print(item0.get(\"class\")) # 4 элемента = 4 слова внутри атрибута class\n",
    "print(item1.get(\"class\")) # 1 элемент = 1 слова внутри атрибута class\n",
    "\n",
    "# итог: чтобы различать такие объекты, можем поставить условие на длину списка внутри class"
   ]
  },
  {
   "cell_type": "markdown",
   "metadata": {},
   "source": [
    "### Задача 7\n",
    "\n",
    "Опираясь на решение предыдущей задачи, сохраните в список `full_clean` только те элементы, которые содержат информацию о товарах."
   ]
  },
  {
   "cell_type": "code",
   "execution_count": 15,
   "metadata": {},
   "outputs": [
    {
     "name": "stdout",
     "output_type": "stream",
     "text": [
      "78\n"
     ]
    }
   ],
   "source": [
    "full_clean = []\n",
    "\n",
    "for item in full_res:\n",
    "    if len(item.get(\"class\")) == 1:\n",
    "        full_clean.append(item)\n",
    "        \n",
    "print(len(full_clean)) # теперь лишнее убрано, элементов меньше"
   ]
  },
  {
   "cell_type": "markdown",
   "metadata": {},
   "source": [
    "### Задача 8\n",
    "\n",
    "Изучите один элемент списка `full_clean` и напишите функцию `get_info()`, которая принимает на вход карточку товара и возвращает список из следующих элементов:\n",
    "\n",
    "* название товара (самое полное);\n",
    "* ссылка на файл с изображением товара;\n",
    "* цена товара (в текстовом формате с указанием валюты);\n",
    "* полная ссылка на страницу с полным описанием товара."
   ]
  },
  {
   "cell_type": "code",
   "execution_count": 16,
   "metadata": {},
   "outputs": [],
   "source": [
    "# самое полное название – в альтернативном тексте к изображению (атрибут alt в тэге <img>)\n",
    "# ссылка на изображение – в источнике изображения (атрибут src в тэге <img>)\n",
    "# далее ищем подходящие разделы и ссылки, как обычно\n",
    "\n",
    "def get_info(item):\n",
    "    \n",
    "    img = item.find(\"img\")\n",
    "    name = img.get(\"alt\")\n",
    "    image_link = img.get(\"src\")\n",
    "    price = item.find(\"div\", class_ = \"price_item_block\").text\n",
    "    link = item.find(\"a\", class_ = \"img-wrapper-index\").get(\"href\")\n",
    "        \n",
    "    return name, price, link, image_link"
   ]
  },
  {
   "cell_type": "markdown",
   "metadata": {},
   "source": [
    "### Задача 9\n",
    "\n",
    "Примените функцию `get_info()` ко всем элементам из `full_clean`, соберите информацию о всех товарах и сохраните ее в датафрейм. Скорректируйте данные или типы столбцов в датафрейме при необходимости. Экспортируйте данные в файл Excel."
   ]
  },
  {
   "cell_type": "code",
   "execution_count": 17,
   "metadata": {},
   "outputs": [
    {
     "data": {
      "text/html": [
       "<div>\n",
       "<style scoped>\n",
       "    .dataframe tbody tr th:only-of-type {\n",
       "        vertical-align: middle;\n",
       "    }\n",
       "\n",
       "    .dataframe tbody tr th {\n",
       "        vertical-align: top;\n",
       "    }\n",
       "\n",
       "    .dataframe thead th {\n",
       "        text-align: right;\n",
       "    }\n",
       "</style>\n",
       "<table border=\"1\" class=\"dataframe\">\n",
       "  <thead>\n",
       "    <tr style=\"text-align: right;\">\n",
       "      <th></th>\n",
       "      <th>0</th>\n",
       "      <th>1</th>\n",
       "      <th>2</th>\n",
       "      <th>3</th>\n",
       "    </tr>\n",
       "  </thead>\n",
       "  <tbody>\n",
       "    <tr>\n",
       "      <th>0</th>\n",
       "      <td>Быстрый доступ. Python: советы, функции, подск...</td>\n",
       "      <td>399 ₽</td>\n",
       "      <td>/product/11015030</td>\n",
       "      <td>https://static1.bgshop.ru/imagehandler.ashx?fi...</td>\n",
       "    </tr>\n",
       "    <tr>\n",
       "      <th>1</th>\n",
       "      <td>Тетрадь общая с пластиковой обложкой на спирал...</td>\n",
       "      <td>419 ₽</td>\n",
       "      <td>/product/10657321</td>\n",
       "      <td>https://static1.bgshop.ru/imagehandler.ashx?fi...</td>\n",
       "    </tr>\n",
       "    <tr>\n",
       "      <th>2</th>\n",
       "      <td>Python для непрограммистов. Самоучитель в прим...</td>\n",
       "      <td>479 ₽</td>\n",
       "      <td>/product/10992579</td>\n",
       "      <td>https://static1.bgshop.ru/imagehandler.ashx?fi...</td>\n",
       "    </tr>\n",
       "    <tr>\n",
       "      <th>3</th>\n",
       "      <td>Python глазами хакера</td>\n",
       "      <td>509 ₽</td>\n",
       "      <td>/product/10823441</td>\n",
       "      <td>https://static1.bgshop.ru/imagehandler.ashx?fi...</td>\n",
       "    </tr>\n",
       "    <tr>\n",
       "      <th>4</th>\n",
       "      <td>Практикум по анализу данных на языках Python и R</td>\n",
       "      <td>509 ₽</td>\n",
       "      <td>/product/10882364</td>\n",
       "      <td>https://static1.bgshop.ru/imagehandler.ashx?fi...</td>\n",
       "    </tr>\n",
       "  </tbody>\n",
       "</table>\n",
       "</div>"
      ],
      "text/plain": [
       "                                                   0      1  \\\n",
       "0  Быстрый доступ. Python: советы, функции, подск...  399 ₽   \n",
       "1  Тетрадь общая с пластиковой обложкой на спирал...  419 ₽   \n",
       "2  Python для непрограммистов. Самоучитель в прим...  479 ₽   \n",
       "3                              Python глазами хакера  509 ₽   \n",
       "4   Практикум по анализу данных на языках Python и R  509 ₽   \n",
       "\n",
       "                   2                                                  3  \n",
       "0  /product/11015030  https://static1.bgshop.ru/imagehandler.ashx?fi...  \n",
       "1  /product/10657321  https://static1.bgshop.ru/imagehandler.ashx?fi...  \n",
       "2  /product/10992579  https://static1.bgshop.ru/imagehandler.ashx?fi...  \n",
       "3  /product/10823441  https://static1.bgshop.ru/imagehandler.ashx?fi...  \n",
       "4  /product/10882364  https://static1.bgshop.ru/imagehandler.ashx?fi...  "
      ]
     },
     "execution_count": 17,
     "metadata": {},
     "output_type": "execute_result"
    }
   ],
   "source": [
    "L = [get_info(item) for item in full_clean]\n",
    "df = pd.DataFrame(L)\n",
    "df.head()"
   ]
  },
  {
   "cell_type": "code",
   "execution_count": 18,
   "metadata": {},
   "outputs": [],
   "source": [
    "# добавляем названия столбцов\n",
    "df.columns = [\"title\", \"price\", \"link\", \"image_link\"]"
   ]
  },
  {
   "cell_type": "code",
   "execution_count": 19,
   "metadata": {},
   "outputs": [],
   "source": [
    "# преобразуем текст с ценой и делаем столбец числовым\n",
    "df[\"price\"] = df[\"price\"].str.strip(\" ₽\").astype(int)"
   ]
  },
  {
   "cell_type": "code",
   "execution_count": 20,
   "metadata": {},
   "outputs": [
    {
     "data": {
      "text/plain": [
       "title         object\n",
       "price          int64\n",
       "link          object\n",
       "image_link    object\n",
       "dtype: object"
      ]
     },
     "execution_count": 20,
     "metadata": {},
     "output_type": "execute_result"
    }
   ],
   "source": [
    "df.dtypes # все ок"
   ]
  },
  {
   "cell_type": "code",
   "execution_count": 21,
   "metadata": {},
   "outputs": [
    {
     "data": {
      "text/html": [
       "<div>\n",
       "<style scoped>\n",
       "    .dataframe tbody tr th:only-of-type {\n",
       "        vertical-align: middle;\n",
       "    }\n",
       "\n",
       "    .dataframe tbody tr th {\n",
       "        vertical-align: top;\n",
       "    }\n",
       "\n",
       "    .dataframe thead th {\n",
       "        text-align: right;\n",
       "    }\n",
       "</style>\n",
       "<table border=\"1\" class=\"dataframe\">\n",
       "  <thead>\n",
       "    <tr style=\"text-align: right;\">\n",
       "      <th></th>\n",
       "      <th>title</th>\n",
       "      <th>price</th>\n",
       "      <th>link</th>\n",
       "      <th>image_link</th>\n",
       "    </tr>\n",
       "  </thead>\n",
       "  <tbody>\n",
       "    <tr>\n",
       "      <th>0</th>\n",
       "      <td>Быстрый доступ. Python: советы, функции, подск...</td>\n",
       "      <td>399</td>\n",
       "      <td>/product/11015030</td>\n",
       "      <td>https://static1.bgshop.ru/imagehandler.ashx?fi...</td>\n",
       "    </tr>\n",
       "    <tr>\n",
       "      <th>1</th>\n",
       "      <td>Тетрадь общая с пластиковой обложкой на спирал...</td>\n",
       "      <td>419</td>\n",
       "      <td>/product/10657321</td>\n",
       "      <td>https://static1.bgshop.ru/imagehandler.ashx?fi...</td>\n",
       "    </tr>\n",
       "    <tr>\n",
       "      <th>2</th>\n",
       "      <td>Python для непрограммистов. Самоучитель в прим...</td>\n",
       "      <td>479</td>\n",
       "      <td>/product/10992579</td>\n",
       "      <td>https://static1.bgshop.ru/imagehandler.ashx?fi...</td>\n",
       "    </tr>\n",
       "    <tr>\n",
       "      <th>3</th>\n",
       "      <td>Python глазами хакера</td>\n",
       "      <td>509</td>\n",
       "      <td>/product/10823441</td>\n",
       "      <td>https://static1.bgshop.ru/imagehandler.ashx?fi...</td>\n",
       "    </tr>\n",
       "    <tr>\n",
       "      <th>4</th>\n",
       "      <td>Практикум по анализу данных на языках Python и R</td>\n",
       "      <td>509</td>\n",
       "      <td>/product/10882364</td>\n",
       "      <td>https://static1.bgshop.ru/imagehandler.ashx?fi...</td>\n",
       "    </tr>\n",
       "  </tbody>\n",
       "</table>\n",
       "</div>"
      ],
      "text/plain": [
       "                                               title  price  \\\n",
       "0  Быстрый доступ. Python: советы, функции, подск...    399   \n",
       "1  Тетрадь общая с пластиковой обложкой на спирал...    419   \n",
       "2  Python для непрограммистов. Самоучитель в прим...    479   \n",
       "3                              Python глазами хакера    509   \n",
       "4   Практикум по анализу данных на языках Python и R    509   \n",
       "\n",
       "                link                                         image_link  \n",
       "0  /product/11015030  https://static1.bgshop.ru/imagehandler.ashx?fi...  \n",
       "1  /product/10657321  https://static1.bgshop.ru/imagehandler.ashx?fi...  \n",
       "2  /product/10992579  https://static1.bgshop.ru/imagehandler.ashx?fi...  \n",
       "3  /product/10823441  https://static1.bgshop.ru/imagehandler.ashx?fi...  \n",
       "4  /product/10882364  https://static1.bgshop.ru/imagehandler.ashx?fi...  "
      ]
     },
     "execution_count": 21,
     "metadata": {},
     "output_type": "execute_result"
    }
   ],
   "source": [
    "df.head()"
   ]
  },
  {
   "cell_type": "markdown",
   "metadata": {},
   "source": [
    "### Задача 10\n",
    "\n",
    "Используя полученный в предыдущей задаче датафрейм, создайте список пар *номер строки в датафрейме*-*ссылка на изображения товаров*. Используя функцию ниже, сохраните в папку `imgs` файлы с изображениями товаров. Названия файлов должны содержать номер строки в \n",
    "датафрейме, например, `1.jpg`."
   ]
  },
  {
   "cell_type": "code",
   "execution_count": 23,
   "metadata": {},
   "outputs": [],
   "source": [
    "def download_img(img_link, file_name):\n",
    "    \"\"\"\n",
    "    img_link: link to the image (str)\n",
    "    file_name: name of file to save the image (str)\n",
    "    \"\"\"\n",
    "    img_data = requests.get(img_link).content\n",
    "    with open(file_name, 'wb') as file:\n",
    "        file.write(img_data)"
   ]
  },
  {
   "cell_type": "code",
   "execution_count": 22,
   "metadata": {},
   "outputs": [
    {
     "name": "stdout",
     "output_type": "stream",
     "text": [
      "(0, 'https://static1.bgshop.ru/imagehandler.ashx?fileName=11015030.jpg&width=200')\n"
     ]
    }
   ],
   "source": [
    "pairs = list(zip(list(df.index), list(df[\"image_link\"].values)))\n",
    "\n",
    "# пример пары\n",
    "print(pairs[0])"
   ]
  },
  {
   "cell_type": "markdown",
   "metadata": {},
   "source": [
    "Импортируем модуль `os` для работы с системой (*operating system*):"
   ]
  },
  {
   "cell_type": "code",
   "execution_count": 24,
   "metadata": {},
   "outputs": [],
   "source": [
    "import os"
   ]
  },
  {
   "cell_type": "code",
   "execution_count": 26,
   "metadata": {},
   "outputs": [],
   "source": [
    "# создаем папку imgs внутри текущей рабочей папки\n",
    "\n",
    "os.makedirs(\"imgs\") "
   ]
  },
  {
   "cell_type": "code",
   "execution_count": 27,
   "metadata": {},
   "outputs": [],
   "source": [
    "# перед индексом строки index доклеиваем imgs/, чтобы сохранение происходило в эту папку\n",
    "# после него доклеиваем расширение файлов .jpg\n",
    "# после запуска кода в папке imgs должны появиться файлы с картинками (фото товаров)\n",
    "\n",
    "for index, link in pairs:\n",
    "    name = \"imgs/\" + str(index) + \".jpg\"\n",
    "    download_img(link, name)"
   ]
  },
  {
   "cell_type": "code",
   "execution_count": null,
   "metadata": {},
   "outputs": [],
   "source": []
  }
 ],
 "metadata": {
  "kernelspec": {
   "display_name": "Python 3",
   "language": "python",
   "name": "python3"
  },
  "language_info": {
   "codemirror_mode": {
    "name": "ipython",
    "version": 3
   },
   "file_extension": ".py",
   "mimetype": "text/x-python",
   "name": "python",
   "nbconvert_exporter": "python",
   "pygments_lexer": "ipython3",
   "version": "3.7.4"
  }
 },
 "nbformat": 4,
 "nbformat_minor": 2
}

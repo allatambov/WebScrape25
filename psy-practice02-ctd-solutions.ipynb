{
 "cells": [
  {
   "cell_type": "markdown",
   "metadata": {},
   "source": [
    "# Web-scraping: сбор данных из баз данных и интернет-источников\n",
    "\n",
    "*Алла Тамбовцева*\n",
    "\n",
    "## Практикум 2.2. Формирование ссылок и парсинг полученных страниц"
   ]
  },
  {
   "cell_type": "markdown",
   "metadata": {},
   "source": [
    "**Полезное напоминание 1.** Чтобы получать списки с нужной структурой, давайте вспомним, в чем различие методов `.append()` и `.extend()` для добавления элементов списка."
   ]
  },
  {
   "cell_type": "code",
   "execution_count": 1,
   "metadata": {},
   "outputs": [
    {
     "name": "stdout",
     "output_type": "stream",
     "text": [
      "[3, 5, [3, 8, 10]]\n"
     ]
    }
   ],
   "source": [
    "L = []\n",
    "L.append(3)\n",
    "L.append(5)\n",
    "L.append([3, 8, 10])\n",
    "print(L)"
   ]
  },
  {
   "cell_type": "code",
   "execution_count": 2,
   "metadata": {},
   "outputs": [],
   "source": [
    "K = []\n",
    "# K.extend(3)"
   ]
  },
  {
   "cell_type": "code",
   "execution_count": 3,
   "metadata": {},
   "outputs": [
    {
     "name": "stdout",
     "output_type": "stream",
     "text": [
      "[3, 5, 3, 8, 10]\n"
     ]
    }
   ],
   "source": [
    "K.extend([3])\n",
    "K.extend([5])\n",
    "K.extend([3, 8, 10])\n",
    "print(K)"
   ]
  },
  {
   "cell_type": "markdown",
   "metadata": {},
   "source": [
    "Чтобы понять, как это может быть полезно при сборе данных, представьте, что нам нужно собрать однотипные данные не с одной страницы, а сразу с нескольких. Какой способ предпочтительнее, например, если мы хотим получить список ссылок на все товары, которые есть на первой, второй и третьей странице каталога?"
   ]
  },
  {
   "cell_type": "markdown",
   "metadata": {},
   "source": [
    "**Полезное напоминание 2.** Чтобы объединить элементы списков попарно, можно воспользоваться функцией `zip()`:"
   ]
  },
  {
   "cell_type": "code",
   "execution_count": 4,
   "metadata": {},
   "outputs": [
    {
     "data": {
      "text/plain": [
       "<zip at 0x10bd64370>"
      ]
     },
     "execution_count": 4,
     "metadata": {},
     "output_type": "execute_result"
    }
   ],
   "source": [
    "zip([\"A\", \"B\", \"C\"], [10, 20, 30])"
   ]
  },
  {
   "cell_type": "code",
   "execution_count": 5,
   "metadata": {},
   "outputs": [
    {
     "name": "stdout",
     "output_type": "stream",
     "text": [
      "('A', 10) ('B', 20) ('C', 30)\n"
     ]
    }
   ],
   "source": [
    "print(*zip([\"A\", \"B\", \"C\"], [10, 20, 30]))"
   ]
  },
  {
   "cell_type": "markdown",
   "metadata": {},
   "source": [
    "По перечню пар можно двигаться в рамках одного цикла `for`, присваивая названия первому и второму элементу пары соответственно:"
   ]
  },
  {
   "cell_type": "code",
   "execution_count": 6,
   "metadata": {},
   "outputs": [
    {
     "name": "stdout",
     "output_type": "stream",
     "text": [
      "A has 10 apples\n",
      "B has 20 apples\n",
      "C has 30 apples\n"
     ]
    }
   ],
   "source": [
    "pairs = zip([\"A\", \"B\", \"C\"], [10, 20, 30])\n",
    "\n",
    "for letter, number in pairs:\n",
    "    print(letter, \"has\", number, \"apples\")"
   ]
  },
  {
   "cell_type": "markdown",
   "metadata": {},
   "source": [
    "Чтобы понять, как это может быть полезно при сборе данных, представьте, что нам нужно сформировать ссылки, которые содержат даты. Для перебора дней в каждом месяце будет полезно иметь набор пар «месяц-число дней в месяце»."
   ]
  },
  {
   "cell_type": "markdown",
   "metadata": {},
   "source": [
    "**Полезное напоминание 3.** Вспомним про форматирование строк через f-строки (*f-strings*, *formatted string literals*):"
   ]
  },
  {
   "cell_type": "code",
   "execution_count": 7,
   "metadata": {},
   "outputs": [
    {
     "name": "stdout",
     "output_type": "stream",
     "text": [
      "Hello, Alla Turner!\n"
     ]
    }
   ],
   "source": [
    "name = \"Alla\"\n",
    "surname = \"Turner\"\n",
    "print(f\"Hello, {name} {surname}!\")"
   ]
  },
  {
   "cell_type": "code",
   "execution_count": 8,
   "metadata": {},
   "outputs": [
    {
     "name": "stdout",
     "output_type": "stream",
     "text": [
      "Let's count from 1 to 5!\n",
      "1\n",
      "2\n",
      "3\n",
      "4\n",
      "5\n"
     ]
    }
   ],
   "source": [
    "N = 5\n",
    "print(f\"Let's count from 1 to {5}!\")\n",
    "for i in range(1, N+1):\n",
    "    print(f\"{i}\")"
   ]
  },
  {
   "cell_type": "markdown",
   "metadata": {},
   "source": [
    "Чтобы понять, как это может быть полезно при сборе данных, представьте, что в однотипные по структуре ссылки нам необходимо подставлять какие-то слова или числа во избежание «ручного» формирования списка ссылок."
   ]
  },
  {
   "cell_type": "markdown",
   "metadata": {},
   "source": [
    "Перейдем к содержательным задачам. Импортируем модуль `requests`, функцию `BeautifulSoup`, а также библиотеку `pandas` для дальнейшей обработки данных:"
   ]
  },
  {
   "cell_type": "code",
   "execution_count": 9,
   "metadata": {},
   "outputs": [],
   "source": [
    "import requests\n",
    "import pandas as pd\n",
    "from bs4 import BeautifulSoup"
   ]
  },
  {
   "cell_type": "markdown",
   "metadata": {},
   "source": [
    "### Сюжет 1. Форматирование строк и подстановка текста в ссылки"
   ]
  },
  {
   "cell_type": "markdown",
   "metadata": {},
   "source": [
    "Зайдем на [сайт](https://www.chitai-gorod.ru) книжного магазина «Читай-город» и посмотрим, что происходит с ссылкой в адресной строке браузера, когда мы отправляем запрос для поиска товара. Давайте введем слово `python` и скопируем ссылку из адресной строки."
   ]
  },
  {
   "cell_type": "code",
   "execution_count": 10,
   "metadata": {},
   "outputs": [],
   "source": [
    "# сама ссылка для python – будем с ней работать\n",
    "u = \"https://www.chitai-gorod.ru/search?phrase=python\""
   ]
  },
  {
   "cell_type": "markdown",
   "metadata": {},
   "source": [
    "Пример общего варианта с подстановкой любого запроса из переменной `q` (в том числе на случай запроса из нескольких слов):"
   ]
  },
  {
   "cell_type": "code",
   "execution_count": 11,
   "metadata": {},
   "outputs": [
    {
     "name": "stdout",
     "output_type": "stream",
     "text": [
      "https://www.chitai-gorod.ru/search?phrase=python%20для%20детей\n"
     ]
    }
   ],
   "source": [
    "q = \"python для детей\"\n",
    "\n",
    "# заменяем пробелы на %20 – см сайт магазина\n",
    "q_upd = q.replace(\" \", \"%20\")\n",
    "\n",
    "# подставляем q_upd в ссылку\n",
    "q_link = f\"https://www.chitai-gorod.ru/search?phrase={q_upd}\"\n",
    "print(q_link)"
   ]
  },
  {
   "cell_type": "markdown",
   "metadata": {},
   "source": [
    "### Задача 1\n",
    "\n",
    "Напишите код, который отправляет запрос к странице по ссылке выше, забирает HTML-код, находит все «карточки» товаров на первой странице результатов и сохраняет их в виде списка объектов типа `BeautifulSoup`."
   ]
  },
  {
   "cell_type": "code",
   "execution_count": 12,
   "metadata": {},
   "outputs": [],
   "source": [
    "soup = BeautifulSoup(requests.get(u).text)\n",
    "arts = soup.find_all(\"article\")"
   ]
  },
  {
   "cell_type": "code",
   "execution_count": 13,
   "metadata": {},
   "outputs": [],
   "source": [
    "# пример одного элемента из arts,\n",
    "# объект BeautifulSoup – сырой фрагмент кода HTML\n",
    "\n",
    "a = arts[0]\n",
    "#print(a)"
   ]
  },
  {
   "cell_type": "markdown",
   "metadata": {},
   "source": [
    "### Задача 2\n",
    "\n",
    "Напишите функцию, которая принимает на вход объект типа `BeautifulSoup` с «карточкой» товара (как в списке выше) и возвращает список, состоящий из: \n",
    "\n",
    "* названия товара;\n",
    "* ссылки на страницу товара;\n",
    "* цены товара.\n",
    "\n",
    "Примените функцию ко всем элементам списка из предыдущей задачи и проверьте, что все работает."
   ]
  },
  {
   "cell_type": "code",
   "execution_count": 14,
   "metadata": {},
   "outputs": [],
   "source": [
    "# на входе: сырой фрагмент кода с карточкой товара (как в списке выше)\n",
    "# на выходе: список с элементами из этой карточки в чистом виде\n",
    "\n",
    "def get_item(a):\n",
    "    name = a.get(\"data-chg-product-name\")\n",
    "    price = a.get(\"data-chg-product-price\")\n",
    "    url = a.find(\"a\").get(\"href\")\n",
    "    full_url = \"https://www.chitai-gorod.ru\" + url\n",
    "    return [name, price, full_url]"
   ]
  },
  {
   "cell_type": "code",
   "execution_count": 15,
   "metadata": {},
   "outputs": [
    {
     "data": {
      "text/plain": [
       "[['Python. Полное руководство',\n",
       "  '906',\n",
       "  'https://www.chitai-gorod.ru/product/python-polnoe-rukovodstvo-2893579'],\n",
       " ['Справочник PYTHON. Кратко, быстро, под рукой',\n",
       "  '528',\n",
       "  'https://www.chitai-gorod.ru/product/spravochnik-python-kratko-bystro-pod-rukoy-2854644'],\n",
       " ['Python с нуля',\n",
       "  '1799',\n",
       "  'https://www.chitai-gorod.ru/product/python-s-nulya-3028159']]"
      ]
     },
     "execution_count": 15,
     "metadata": {},
     "output_type": "execute_result"
    }
   ],
   "source": [
    "L = [get_item(a) for a in arts]\n",
    "# первые три элемента для примера\n",
    "L[0:3]"
   ]
  },
  {
   "cell_type": "markdown",
   "metadata": {},
   "source": [
    "### Задача 3\n",
    "\n",
    "Полистайте страницы с результатами поиска в браузере и посмотрите, как изменяется ссылка в адресной строке при переходе к следующей странице с результатами.\n",
    "\n",
    "Напишите код, который подставляет в ссылку номера страниц 1-3 и возвращает список с «карточками» всех товаров на этих странице (как в задаче 1, только теперь больше товаров). Примените функцию из задачи 2 ко всем элементам полученного списка и преобразуйте полученный результат в датафрейм pandas."
   ]
  },
  {
   "cell_type": "code",
   "execution_count": 16,
   "metadata": {},
   "outputs": [],
   "source": [
    "all_pages = []\n",
    "for i in range(1, 4):\n",
    "    link = f\"https://www.chitai-gorod.ru/search?phrase=python&page={i}\"\n",
    "    s = BeautifulSoup(requests.get(link).text)\n",
    "    one_page = s.find_all(\"article\")\n",
    "    all_pages.extend(one_page)"
   ]
  },
  {
   "cell_type": "code",
   "execution_count": 17,
   "metadata": {},
   "outputs": [
    {
     "name": "stdout",
     "output_type": "stream",
     "text": [
      "144\n"
     ]
    }
   ],
   "source": [
    "print(len(all_pages)) # 48 * 3 = 144 товара"
   ]
  },
  {
   "cell_type": "markdown",
   "metadata": {},
   "source": [
    "### Сюжет 2. Форматирование строк и подстановка чисел в ссылки"
   ]
  },
  {
   "cell_type": "markdown",
   "metadata": {},
   "source": [
    "В практикуме 2.1 мы написали универсальную функцию для сайта [nplus1.ru](https://nplus1.ru), которая принимает на вход ссылку на новость, а возвращает кортеж с текстом новости и другими ее атрибутами. Остается вопрос: а как быть, если мы хотим собрать новости за конкретный период? Не на всех сайтах это возможно сделать удобным образом, однако в данном случае на сайте есть удобные разделы по датам. Например, откроем новости за 27 января 2025 года: https://nplus1.ru/news/2025/01/27."
   ]
  },
  {
   "cell_type": "markdown",
   "metadata": {},
   "source": [
    "Если мы посмотрим на страницу по ссылке выше, заметим, что на ней хранятся обычные ссылки на новости, как их собирать, мы уже знаем. Поэтому давайте поймем, как сформировать список ссылок с датами внутри.\n",
    "\n",
    "### Задача 1\n",
    "\n",
    "Получите список ссылок на новости за январь 2025 года (с 1 января по 31 января включительно). "
   ]
  },
  {
   "cell_type": "code",
   "execution_count": 18,
   "metadata": {},
   "outputs": [
    {
     "name": "stdout",
     "output_type": "stream",
     "text": [
      "01\n",
      "001\n",
      "123\n"
     ]
    }
   ],
   "source": [
    "# работа .zfill()\n",
    "# в начало строки дописываются 0, чтобы получить нужное число символов\n",
    "\n",
    "print(\"1\".zfill(2))\n",
    "print(\"1\".zfill(3))\n",
    "print(\"123\".zfill(3))"
   ]
  },
  {
   "cell_type": "code",
   "execution_count": 19,
   "metadata": {},
   "outputs": [
    {
     "name": "stdout",
     "output_type": "stream",
     "text": [
      "['https://nplus1.ru/news/2025/01/01', 'https://nplus1.ru/news/2025/01/02', 'https://nplus1.ru/news/2025/01/03', 'https://nplus1.ru/news/2025/01/04', 'https://nplus1.ru/news/2025/01/05', 'https://nplus1.ru/news/2025/01/06', 'https://nplus1.ru/news/2025/01/07', 'https://nplus1.ru/news/2025/01/08', 'https://nplus1.ru/news/2025/01/09', 'https://nplus1.ru/news/2025/01/10', 'https://nplus1.ru/news/2025/01/11', 'https://nplus1.ru/news/2025/01/12', 'https://nplus1.ru/news/2025/01/13', 'https://nplus1.ru/news/2025/01/14', 'https://nplus1.ru/news/2025/01/15', 'https://nplus1.ru/news/2025/01/16', 'https://nplus1.ru/news/2025/01/17', 'https://nplus1.ru/news/2025/01/18', 'https://nplus1.ru/news/2025/01/19', 'https://nplus1.ru/news/2025/01/20', 'https://nplus1.ru/news/2025/01/21', 'https://nplus1.ru/news/2025/01/22', 'https://nplus1.ru/news/2025/01/23', 'https://nplus1.ru/news/2025/01/24', 'https://nplus1.ru/news/2025/01/25', 'https://nplus1.ru/news/2025/01/26', 'https://nplus1.ru/news/2025/01/27', 'https://nplus1.ru/news/2025/01/28', 'https://nplus1.ru/news/2025/01/29', 'https://nplus1.ru/news/2025/01/30', 'https://nplus1.ru/news/2025/01/31']\n"
     ]
    }
   ],
   "source": [
    "# незабываем превратить i в строку,\n",
    "# .zfill() с числоами не работает\n",
    "\n",
    "jan = []\n",
    "for i in range(1, 32):\n",
    "    day = str(i).zfill(2)\n",
    "    url = f\"https://nplus1.ru/news/2025/01/{day}\"\n",
    "    jan.append(url)\n",
    "    \n",
    "print(jan)"
   ]
  },
  {
   "cell_type": "markdown",
   "metadata": {},
   "source": [
    "### Задача 2\n",
    "\n",
    "Напишите код, который сформирует список ссылок на даты за весь 2024 год (31 ссылка на даты января, 29 ссылок на даты февраля и так далее).\n",
    "\n",
    "**Подсказка:** начните со списка с номерами месяцев и списка с числом дней в них."
   ]
  },
  {
   "cell_type": "code",
   "execution_count": 20,
   "metadata": {},
   "outputs": [
    {
     "name": "stdout",
     "output_type": "stream",
     "text": [
      "1 2 3 4 5 6 7 8 9 10 11 12\n",
      "31 29 31 30 31 30 31 31 30 31 30 31\n",
      "(1, 31) (2, 29) (3, 31) (4, 30) (5, 31) (6, 30) (7, 31) (8, 31) (9, 30) (10, 31) (11, 30) (12, 31)\n"
     ]
    }
   ],
   "source": [
    "# месяцы\n",
    "months = range(1, 13)\n",
    "print(*months)\n",
    "\n",
    "# дни в каждом месяце\n",
    "ndays = [31, 29, 31, 30, 31, 30, 31, 31, 30, 31, 30, 31]\n",
    "print(*ndays)\n",
    "\n",
    "# пары\n",
    "print(*zip(months, ndays))"
   ]
  },
  {
   "cell_type": "code",
   "execution_count": 21,
   "metadata": {},
   "outputs": [
    {
     "name": "stdout",
     "output_type": "stream",
     "text": [
      "366\n"
     ]
    }
   ],
   "source": [
    "year = []\n",
    "for mon, n in zip(months, ndays):\n",
    "    for date in range(1, n + 1):\n",
    "        link_date = f\"https://nplus1.ru/news/2024/{str(mon).zfill(2)}/{str(date).zfill(2)}\"\n",
    "        year.append(link_date)\n",
    "print(len(year)) # 366 ссылок, високосный год"
   ]
  },
  {
   "cell_type": "markdown",
   "metadata": {},
   "source": [
    "### Задача 3\n",
    "\n",
    "Перейдите по [ссылке](https://nplus1.ru/news/2025/01/03) на страницу с новостями за 3 января 2025 года. Сравните полный исходный код страницы и код, который отображается в инструментах разработчика. Подумайте, каким образом в данном случае забирать все ссылки на новости за конкретную дату."
   ]
  },
  {
   "cell_type": "code",
   "execution_count": 22,
   "metadata": {},
   "outputs": [],
   "source": [
    "# в исходном коде нет ссылок на новости с тэгом <a>,\n",
    "# но они есть где-то в блоке кода JavaScript с тэгом <script>\n",
    "# поймем, в каком из элементов <script> эта информация,\n",
    "# заберем текст и перейдем к практикуму 3\n",
    "\n",
    "url = \"https://nplus1.ru/news/2025/01/03\"\n",
    "soup = BeautifulSoup(requests.get(url).text)\n",
    "js = soup.find_all(\"script\")[8].text\n",
    "# print(js)"
   ]
  },
  {
   "cell_type": "markdown",
   "metadata": {},
   "source": [
    "**NB.** Если после исполнения кода выше в `js` пустая строка с текстом – замените `.text` на `.next`, это особенность другой версии `bs4`:\n",
    "\n",
    "    soup.find_all(\"script\")[8].next\n",
    "    \n",
    "Так как формально внутри `<script>` не текст, а код JavaScript, текст через атрибут `.text` в более новой версии `bs4` не находится (более строгое отношение к типам). А атрибут `.next` возвращает содержимое, следующее за тэгом, что в нашем случае – ровно то, что нужно."
   ]
  }
 ],
 "metadata": {
  "kernelspec": {
   "display_name": "Python 3",
   "language": "python",
   "name": "python3"
  },
  "language_info": {
   "codemirror_mode": {
    "name": "ipython",
    "version": 3
   },
   "file_extension": ".py",
   "mimetype": "text/x-python",
   "name": "python",
   "nbconvert_exporter": "python",
   "pygments_lexer": "ipython3",
   "version": "3.7.4"
  }
 },
 "nbformat": 4,
 "nbformat_minor": 2
}

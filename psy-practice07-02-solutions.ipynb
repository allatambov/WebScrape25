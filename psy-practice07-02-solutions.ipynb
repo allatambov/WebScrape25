{
 "cells": [
  {
   "cell_type": "markdown",
   "metadata": {},
   "source": [
    "# Web-scraping: сбор данных из баз данных и интернет-источников\n",
    "\n",
    "*Алла Тамбовцева, НИУ ВШЭ*\n",
    "\n",
    "## Практикум 7.2. Управление браузером с Selenium: скроллинг"
   ]
  },
  {
   "cell_type": "markdown",
   "metadata": {},
   "source": [
    "Импортируем функцию `sleep` и необходимые инструменты для работы с Selenium:m"
   ]
  },
  {
   "cell_type": "code",
   "execution_count": 1,
   "metadata": {},
   "outputs": [],
   "source": [
    "from time import sleep\n",
    "from selenium import webdriver as wd\n",
    "from selenium.webdriver.common.keys import Keys\n",
    "from selenium.webdriver.common.by import By"
   ]
  },
  {
   "cell_type": "markdown",
   "metadata": {},
   "source": [
    "Запустим новую сессию работы с Selenium – откроем окно браузера на весь экран:"
   ]
  },
  {
   "cell_type": "code",
   "execution_count": 2,
   "metadata": {},
   "outputs": [],
   "source": [
    "br = wd.Chrome()\n",
    "br.maximize_window()"
   ]
  },
  {
   "cell_type": "markdown",
   "metadata": {},
   "source": [
    "Перейдем на сайт онлайн-магазина Гжельского завода:"
   ]
  },
  {
   "cell_type": "code",
   "execution_count": 3,
   "metadata": {},
   "outputs": [],
   "source": [
    "url = \"https://farfor-gzhel.ru/internetmagazin/922/filter/color_list-is-deaf-cobalt/apply/\""
   ]
  },
  {
   "cell_type": "markdown",
   "metadata": {},
   "source": [
    "### Задача 1\n",
    "\n",
    "Найдите, используя XPATH, все фрагменты кода HTML с названием товара и ссылкой на его страницу. Пример фрагмента для определенности:\n",
    "\n",
    "    <a class=\"section-item-name intec-cl-text-hover\" href=\"/internetmagazin/chaynye-pary/31847/\" target=\"_blank\" data-role=\"offer.link\" data-id=\"31847\">Чайная пара Граненая в глухом кобальте объем 330 мл.</a>\n",
    "    \n",
    "Результат – список `htmls` со строками, содержащими HTML-код."
   ]
  },
  {
   "cell_type": "code",
   "execution_count": 4,
   "metadata": {},
   "outputs": [],
   "source": [
    "br.get(url)"
   ]
  },
  {
   "cell_type": "code",
   "execution_count": 5,
   "metadata": {},
   "outputs": [
    {
     "name": "stdout",
     "output_type": "stream",
     "text": [
      "<a class=\"section-item-name intec-cl-text-hover\" href=\"/internetmagazin/chaynye-pary/31847/\" target=\"_blank\" data-role=\"offer.link\" data-id=\"31847\">Чайная пара Граненая в глухом кобальте объем 330 мл.</a>\n"
     ]
    }
   ],
   "source": [
    "divs = br.find_elements(By.XPATH, \"//div[@class='catalog-section-item-name']\")\n",
    "htmls = [d.get_attribute(\"innerHTML\") for d in divs]\n",
    "print(htmls[0])"
   ]
  },
  {
   "cell_type": "markdown",
   "metadata": {},
   "source": [
    "### Задача 2\n",
    "\n",
    "Найдите, используя поиск по названию атрибута `class`, кнопку «Показать еще» (это будет объект типа `WebElement`). Извлеките ее положение на странице и сохраните ее вертикальную координату в переменную `y`.\n",
    "\n",
    "**Подсказка:** положение на странице – атрибут `.location`."
   ]
  },
  {
   "cell_type": "code",
   "execution_count": 6,
   "metadata": {},
   "outputs": [
    {
     "name": "stdout",
     "output_type": "stream",
     "text": [
      "{'x': 310, 'y': 5431}\n"
     ]
    }
   ],
   "source": [
    "more = br.find_element(By.CLASS_NAME, \"catalog-section-more\")\n",
    "print(more.location)\n",
    "\n",
    "# x, y – координаты кнопки на страницы в пикселях,\n",
    "# у каждого свои – зависит от размера экрана ноутбука\n",
    "y = more.location[\"y\"]"
   ]
  },
  {
   "cell_type": "markdown",
   "metadata": {},
   "source": [
    "Библиотека Selenium умеет скроллить страницы, точнее, активировать запуск кода на JavaScript, который отвечает за скроллинг. В общем виде строка с кодом для скроллинга выглядит так (`Y` – на сколько пикселей нужно проскроллить):\n",
    "\n",
    "    br.execute_script(\"window.scrollTo(0, Y);\") \n",
    "\n",
    "Если нужно проскроллить до конца страницы, то тогда вместо `Y` нужно вписать значение, которое извлекается из тела документа HTML:\n",
    "\n",
    "    document.body.scrollHeight"
   ]
  },
  {
   "cell_type": "markdown",
   "metadata": {},
   "source": [
    "### Задача 3\n",
    "\n",
    "Проскролльте страницу до конца. Попробуйте найти кнопку «Показать еще». Что замечаете?"
   ]
  },
  {
   "cell_type": "code",
   "execution_count": 7,
   "metadata": {},
   "outputs": [],
   "source": [
    "br.execute_script(\"window.scrollTo(0, document.body.scrollHeight);\")"
   ]
  },
  {
   "cell_type": "code",
   "execution_count": 8,
   "metadata": {},
   "outputs": [],
   "source": [
    "# после скроллинга кнопка находится на границах страницы, \n",
    "# не исключено, что на другом компьютере после скроллинга \n",
    "# кнопка останется вне зоны видимости, особенно, если мы добавим еще \n",
    "# результаты поиска – тогда она не будет обнаружена через find_element()"
   ]
  },
  {
   "cell_type": "markdown",
   "metadata": {},
   "source": [
    "### Задача 4\n",
    "\n",
    "Предложите более удачный вариант скроллинга и напишите код, который подставляет необходимое число пикселей для скроллинга вниз в f-строку. Пример – в `{}` подставить нужное число:\n",
    "\n",
    "    script = f\"window.scrollTo(0, {});\"\n",
    "    br.execute_script(script)"
   ]
  },
  {
   "cell_type": "code",
   "execution_count": 9,
   "metadata": {},
   "outputs": [],
   "source": [
    "# скроллим не до конца страницы, а до точки чуть выше кнопки\n",
    "# координата y минус 100 пикселей\n",
    "\n",
    "script = f\"window.scrollTo(0, {y - 100});\"\n",
    "br.execute_script(script)"
   ]
  },
  {
   "cell_type": "markdown",
   "metadata": {},
   "source": [
    "### Задача 5\n",
    "\n",
    "Допишите цикл `while` ниже, который будет скроллить страницу и извлекать результаты до тех пор, пока они не закончатся, то есть пока на странице будет кнопка «Показать еще». \n",
    "\n",
    "Примечание: чтобы в случае отсутствия кнопки код не выдавал ошибку `NoSuchElementException`, а возвращал пустой результат, в коде ниже используется не метод `.find_element()`, а `.find_elements()`. Этот метод ищет все совпадения, не только первое, поэтому в случае отсутствия результатов вместо ошибки возвращается пустой список.\n",
    "\n",
    "**NB.** Не забудьте добавить небольшую задержку в конце каждой итерации цикла."
   ]
  },
  {
   "cell_type": "code",
   "execution_count": 10,
   "metadata": {},
   "outputs": [],
   "source": [
    "br = wd.Chrome()\n",
    "br.maximize_window()\n",
    "br.get(url)\n",
    "\n",
    "all_results = []\n",
    "\n",
    "# while True = бесконечный вариант цикла for,\n",
    "# код будет исполняться до тех пор, пока не столкнется с break\n",
    "# или ошибкой\n",
    "\n",
    "# если кнопка «Показать еще» найдена (есть куда скроллить далее),\n",
    "# список more_list не пустой (его длина больше 0),\n",
    "# мы продолжаем скроллить и извлекать результаты,\n",
    "# если иначе – выходим из цикла через break\n",
    "\n",
    "while True:\n",
    "    more_list = br.find_elements(By.CLASS_NAME, \n",
    "                                \"catalog-section-more\")\n",
    "    \n",
    "    if len(more_list) > 0:\n",
    "        \n",
    "        # выбираем единственный элемент списка – кнопку\n",
    "        # скроллим страницу до нее\n",
    "        \n",
    "        more = more_list[0]\n",
    "        y = more.location[\"y\"]\n",
    "        script = f\"window.scrollTo(0, {y - 100});\"\n",
    "        br.execute_script(script)\n",
    "        \n",
    "        # забираем фрагменты HTML с информацией о товарах\n",
    "        # добавляем их в список all_results\n",
    "        \n",
    "        divs = br.find_elements(By.XPATH, \n",
    "                                \"//div[@class='catalog-section-item-name']\")\n",
    "        htmls = [d.get_attribute(\"innerHTML\") for d in divs]\n",
    "        all_results.extend(htmls)\n",
    "        \n",
    "        # как собрали – кликаем на кнопку и немного ждем\n",
    "        # далее возвращаемся к началу цикла и скроллим дальше\n",
    "        more.click()\n",
    "        sleep(2)\n",
    "    else:\n",
    "        break"
   ]
  },
  {
   "cell_type": "markdown",
   "metadata": {},
   "source": [
    "**Дополнение 1.** Полученные результаты нужно обработать. При скроллинге почти всегда возникает дублирование информации – при перелистывании часть результатов оказывается «на стыке» вида страницы до скроллинга и после, а значит, собирается дважды. Проверим длину списка с результатами:"
   ]
  },
  {
   "cell_type": "code",
   "execution_count": 11,
   "metadata": {},
   "outputs": [
    {
     "name": "stdout",
     "output_type": "stream",
     "text": [
      "180\n"
     ]
    }
   ],
   "source": [
    "print(len(all_results))"
   ]
  },
  {
   "cell_type": "markdown",
   "metadata": {},
   "source": [
    "Так как порядок элементов здесь не важен (мы просто сгрузили все товары в данном разделе, без сортировки), можем превратить список в множество, чтобы избавиться от дубликатов, а затем – снова в список, потому что с ним удобнее работать, чем с множеством:"
   ]
  },
  {
   "cell_type": "code",
   "execution_count": 12,
   "metadata": {},
   "outputs": [
    {
     "name": "stdout",
     "output_type": "stream",
     "text": [
      "72\n"
     ]
    }
   ],
   "source": [
    "uniq_results = list(set(all_results))\n",
    "print(len(uniq_results))"
   ]
  },
  {
   "cell_type": "markdown",
   "metadata": {},
   "source": [
    "Один элемент `uniq_results` – это просто текст с кодом HTML:"
   ]
  },
  {
   "cell_type": "code",
   "execution_count": 13,
   "metadata": {},
   "outputs": [
    {
     "name": "stdout",
     "output_type": "stream",
     "text": [
      "\n",
      "                <a class=\"section-item-name intec-cl-text-hover\" href=\"/internetmagazin/fruktovnitsy/12608/\" target=\"_blank\" data-role=\"offer.link\" data-id=\"12608\">Фруктовница Идиллия кобальт краски зол объем 550 мл.</a>            \n"
     ]
    }
   ],
   "source": [
    "print(uniq_results[0])"
   ]
  },
  {
   "cell_type": "markdown",
   "metadata": {},
   "source": [
    "Можем импортировать `BeautifulSoup` и извлечь название и ссылку:"
   ]
  },
  {
   "cell_type": "code",
   "execution_count": 14,
   "metadata": {},
   "outputs": [],
   "source": [
    "from bs4 import BeautifulSoup"
   ]
  },
  {
   "cell_type": "code",
   "execution_count": 15,
   "metadata": {},
   "outputs": [],
   "source": [
    "# превращаем все строки с HTML в объекты BeautifulSoup\n",
    "\n",
    "soups = [BeautifulSoup(u) for u in uniq_results]"
   ]
  },
  {
   "cell_type": "code",
   "execution_count": 16,
   "metadata": {},
   "outputs": [],
   "source": [
    "pairs = []\n",
    "\n",
    "for s in soups:\n",
    "    a = s.find(\"a\")\n",
    "    title = a.text\n",
    "    link = a.get(\"href\")\n",
    "    full_link = \"https://farfor-gzhel.ru\" + link\n",
    "    pairs.append([title, full_link])"
   ]
  },
  {
   "cell_type": "code",
   "execution_count": 17,
   "metadata": {},
   "outputs": [
    {
     "name": "stdout",
     "output_type": "stream",
     "text": [
      "['Фруктовница Идиллия кобальт краски зол объем 550 мл.', 'https://farfor-gzhel.ru/internetmagazin/fruktovnitsy/12608/']\n"
     ]
    }
   ],
   "source": [
    "# пример результата\n",
    "print(pairs[0])"
   ]
  },
  {
   "cell_type": "markdown",
   "metadata": {},
   "source": [
    "**Дополнение 2.** Превратим список пар выше в датафрейм:"
   ]
  },
  {
   "cell_type": "code",
   "execution_count": 18,
   "metadata": {},
   "outputs": [],
   "source": [
    "import pandas as pd"
   ]
  },
  {
   "cell_type": "code",
   "execution_count": 19,
   "metadata": {},
   "outputs": [],
   "source": [
    "df = pd.DataFrame(pairs)"
   ]
  },
  {
   "cell_type": "code",
   "execution_count": 20,
   "metadata": {},
   "outputs": [],
   "source": [
    "df.columns = [\"title\", \"url\"]"
   ]
  },
  {
   "cell_type": "code",
   "execution_count": 21,
   "metadata": {},
   "outputs": [
    {
     "data": {
      "text/html": [
       "<div>\n",
       "<style scoped>\n",
       "    .dataframe tbody tr th:only-of-type {\n",
       "        vertical-align: middle;\n",
       "    }\n",
       "\n",
       "    .dataframe tbody tr th {\n",
       "        vertical-align: top;\n",
       "    }\n",
       "\n",
       "    .dataframe thead th {\n",
       "        text-align: right;\n",
       "    }\n",
       "</style>\n",
       "<table border=\"1\" class=\"dataframe\">\n",
       "  <thead>\n",
       "    <tr style=\"text-align: right;\">\n",
       "      <th></th>\n",
       "      <th>title</th>\n",
       "      <th>url</th>\n",
       "    </tr>\n",
       "  </thead>\n",
       "  <tbody>\n",
       "    <tr>\n",
       "      <th>0</th>\n",
       "      <td>Фруктовница Идиллия кобальт краски зол объем 5...</td>\n",
       "      <td>https://farfor-gzhel.ru/internetmagazin/frukto...</td>\n",
       "    </tr>\n",
       "    <tr>\n",
       "      <th>1</th>\n",
       "      <td>Кувшин Полдень (кобальт, краски, золото) объем...</td>\n",
       "      <td>https://farfor-gzhel.ru/internetmagazin/kuvshi...</td>\n",
       "    </tr>\n",
       "    <tr>\n",
       "      <th>2</th>\n",
       "      <td>Чайник Пышка кобальт краски золото объем 450 мл.</td>\n",
       "      <td>https://farfor-gzhel.ru/internetmagazin/chayni...</td>\n",
       "    </tr>\n",
       "    <tr>\n",
       "      <th>3</th>\n",
       "      <td>Конфетница идиллия (кобальт, краски, золото)</td>\n",
       "      <td>https://farfor-gzhel.ru/internetmagazin/konfet...</td>\n",
       "    </tr>\n",
       "    <tr>\n",
       "      <th>4</th>\n",
       "      <td>Чайная пара Орхидея Ночной сад 220 мл.</td>\n",
       "      <td>https://farfor-gzhel.ru/internetmagazin/chayny...</td>\n",
       "    </tr>\n",
       "  </tbody>\n",
       "</table>\n",
       "</div>"
      ],
      "text/plain": [
       "                                               title  \\\n",
       "0  Фруктовница Идиллия кобальт краски зол объем 5...   \n",
       "1  Кувшин Полдень (кобальт, краски, золото) объем...   \n",
       "2   Чайник Пышка кобальт краски золото объем 450 мл.   \n",
       "3       Конфетница идиллия (кобальт, краски, золото)   \n",
       "4             Чайная пара Орхидея Ночной сад 220 мл.   \n",
       "\n",
       "                                                 url  \n",
       "0  https://farfor-gzhel.ru/internetmagazin/frukto...  \n",
       "1  https://farfor-gzhel.ru/internetmagazin/kuvshi...  \n",
       "2  https://farfor-gzhel.ru/internetmagazin/chayni...  \n",
       "3  https://farfor-gzhel.ru/internetmagazin/konfet...  \n",
       "4  https://farfor-gzhel.ru/internetmagazin/chayny...  "
      ]
     },
     "execution_count": 21,
     "metadata": {},
     "output_type": "execute_result"
    }
   ],
   "source": [
    "# первые 5 строк\n",
    "df.head()"
   ]
  },
  {
   "cell_type": "markdown",
   "metadata": {},
   "source": [
    "У некоторых товаров указан объем (у кувшинов, чашек и подобных изделий), можем через метод `extract()` подмодуля `str` в `pandas` его извлечь. И тут пригодятся регулярные выражения и группы:"
   ]
  },
  {
   "cell_type": "code",
   "execution_count": 22,
   "metadata": {},
   "outputs": [
    {
     "data": {
      "text/html": [
       "<div>\n",
       "<style scoped>\n",
       "    .dataframe tbody tr th:only-of-type {\n",
       "        vertical-align: middle;\n",
       "    }\n",
       "\n",
       "    .dataframe tbody tr th {\n",
       "        vertical-align: top;\n",
       "    }\n",
       "\n",
       "    .dataframe thead th {\n",
       "        text-align: right;\n",
       "    }\n",
       "</style>\n",
       "<table border=\"1\" class=\"dataframe\">\n",
       "  <thead>\n",
       "    <tr style=\"text-align: right;\">\n",
       "      <th></th>\n",
       "      <th>0</th>\n",
       "    </tr>\n",
       "  </thead>\n",
       "  <tbody>\n",
       "    <tr>\n",
       "      <th>0</th>\n",
       "      <td>550</td>\n",
       "    </tr>\n",
       "    <tr>\n",
       "      <th>1</th>\n",
       "      <td>1768</td>\n",
       "    </tr>\n",
       "    <tr>\n",
       "      <th>2</th>\n",
       "      <td>450</td>\n",
       "    </tr>\n",
       "    <tr>\n",
       "      <th>3</th>\n",
       "      <td>NaN</td>\n",
       "    </tr>\n",
       "    <tr>\n",
       "      <th>4</th>\n",
       "      <td>NaN</td>\n",
       "    </tr>\n",
       "    <tr>\n",
       "      <th>...</th>\n",
       "      <td>...</td>\n",
       "    </tr>\n",
       "    <tr>\n",
       "      <th>67</th>\n",
       "      <td>360</td>\n",
       "    </tr>\n",
       "    <tr>\n",
       "      <th>68</th>\n",
       "      <td>187</td>\n",
       "    </tr>\n",
       "    <tr>\n",
       "      <th>69</th>\n",
       "      <td>170</td>\n",
       "    </tr>\n",
       "    <tr>\n",
       "      <th>70</th>\n",
       "      <td>NaN</td>\n",
       "    </tr>\n",
       "    <tr>\n",
       "      <th>71</th>\n",
       "      <td>540</td>\n",
       "    </tr>\n",
       "  </tbody>\n",
       "</table>\n",
       "<p>72 rows × 1 columns</p>\n",
       "</div>"
      ],
      "text/plain": [
       "       0\n",
       "0    550\n",
       "1   1768\n",
       "2    450\n",
       "3    NaN\n",
       "4    NaN\n",
       "..   ...\n",
       "67   360\n",
       "68   187\n",
       "69   170\n",
       "70   NaN\n",
       "71   540\n",
       "\n",
       "[72 rows x 1 columns]"
      ]
     },
     "execution_count": 22,
     "metadata": {},
     "output_type": "execute_result"
    }
   ],
   "source": [
    "df[\"title\"].str.extract(\"объем (\\d+) мл\")"
   ]
  },
  {
   "cell_type": "markdown",
   "metadata": {},
   "source": [
    "Добавим полученный столбец в датафрейм:"
   ]
  },
  {
   "cell_type": "code",
   "execution_count": 23,
   "metadata": {},
   "outputs": [
    {
     "data": {
      "text/html": [
       "<div>\n",
       "<style scoped>\n",
       "    .dataframe tbody tr th:only-of-type {\n",
       "        vertical-align: middle;\n",
       "    }\n",
       "\n",
       "    .dataframe tbody tr th {\n",
       "        vertical-align: top;\n",
       "    }\n",
       "\n",
       "    .dataframe thead th {\n",
       "        text-align: right;\n",
       "    }\n",
       "</style>\n",
       "<table border=\"1\" class=\"dataframe\">\n",
       "  <thead>\n",
       "    <tr style=\"text-align: right;\">\n",
       "      <th></th>\n",
       "      <th>title</th>\n",
       "      <th>url</th>\n",
       "      <th>volume</th>\n",
       "    </tr>\n",
       "  </thead>\n",
       "  <tbody>\n",
       "    <tr>\n",
       "      <th>0</th>\n",
       "      <td>Фруктовница Идиллия кобальт краски зол объем 5...</td>\n",
       "      <td>https://farfor-gzhel.ru/internetmagazin/frukto...</td>\n",
       "      <td>550</td>\n",
       "    </tr>\n",
       "    <tr>\n",
       "      <th>1</th>\n",
       "      <td>Кувшин Полдень (кобальт, краски, золото) объем...</td>\n",
       "      <td>https://farfor-gzhel.ru/internetmagazin/kuvshi...</td>\n",
       "      <td>1768</td>\n",
       "    </tr>\n",
       "    <tr>\n",
       "      <th>2</th>\n",
       "      <td>Чайник Пышка кобальт краски золото объем 450 мл.</td>\n",
       "      <td>https://farfor-gzhel.ru/internetmagazin/chayni...</td>\n",
       "      <td>450</td>\n",
       "    </tr>\n",
       "    <tr>\n",
       "      <th>3</th>\n",
       "      <td>Конфетница идиллия (кобальт, краски, золото)</td>\n",
       "      <td>https://farfor-gzhel.ru/internetmagazin/konfet...</td>\n",
       "      <td>NaN</td>\n",
       "    </tr>\n",
       "    <tr>\n",
       "      <th>4</th>\n",
       "      <td>Чайная пара Орхидея Ночной сад 220 мл.</td>\n",
       "      <td>https://farfor-gzhel.ru/internetmagazin/chayny...</td>\n",
       "      <td>NaN</td>\n",
       "    </tr>\n",
       "    <tr>\n",
       "      <th>5</th>\n",
       "      <td>Сервиз чайно-кофейный Чародейка \"Зимний\" в глу...</td>\n",
       "      <td>https://farfor-gzhel.ru/internetmagazin/serviz...</td>\n",
       "      <td>NaN</td>\n",
       "    </tr>\n",
       "    <tr>\n",
       "      <th>6</th>\n",
       "      <td>Чайник Юность (кобальт, краски, золото) объем ...</td>\n",
       "      <td>https://farfor-gzhel.ru/internetmagazin/chayni...</td>\n",
       "      <td>1050</td>\n",
       "    </tr>\n",
       "    <tr>\n",
       "      <th>7</th>\n",
       "      <td>Набор столовый Дубок: глухой кобальт и золото</td>\n",
       "      <td>https://farfor-gzhel.ru/internetmagazin/serviz...</td>\n",
       "      <td>NaN</td>\n",
       "    </tr>\n",
       "    <tr>\n",
       "      <th>8</th>\n",
       "      <td>Креманка вазочка для варенья сластена кобальт ...</td>\n",
       "      <td>https://farfor-gzhel.ru/internetmagazin/kreman...</td>\n",
       "      <td>NaN</td>\n",
       "    </tr>\n",
       "    <tr>\n",
       "      <th>9</th>\n",
       "      <td>Салфетница Идиллия глухой кобальт</td>\n",
       "      <td>https://farfor-gzhel.ru/internetmagazin/salfet...</td>\n",
       "      <td>NaN</td>\n",
       "    </tr>\n",
       "  </tbody>\n",
       "</table>\n",
       "</div>"
      ],
      "text/plain": [
       "                                               title  \\\n",
       "0  Фруктовница Идиллия кобальт краски зол объем 5...   \n",
       "1  Кувшин Полдень (кобальт, краски, золото) объем...   \n",
       "2   Чайник Пышка кобальт краски золото объем 450 мл.   \n",
       "3       Конфетница идиллия (кобальт, краски, золото)   \n",
       "4             Чайная пара Орхидея Ночной сад 220 мл.   \n",
       "5  Сервиз чайно-кофейный Чародейка \"Зимний\" в глу...   \n",
       "6  Чайник Юность (кобальт, краски, золото) объем ...   \n",
       "7      Набор столовый Дубок: глухой кобальт и золото   \n",
       "8  Креманка вазочка для варенья сластена кобальт ...   \n",
       "9                  Салфетница Идиллия глухой кобальт   \n",
       "\n",
       "                                                 url volume  \n",
       "0  https://farfor-gzhel.ru/internetmagazin/frukto...    550  \n",
       "1  https://farfor-gzhel.ru/internetmagazin/kuvshi...   1768  \n",
       "2  https://farfor-gzhel.ru/internetmagazin/chayni...    450  \n",
       "3  https://farfor-gzhel.ru/internetmagazin/konfet...    NaN  \n",
       "4  https://farfor-gzhel.ru/internetmagazin/chayny...    NaN  \n",
       "5  https://farfor-gzhel.ru/internetmagazin/serviz...    NaN  \n",
       "6  https://farfor-gzhel.ru/internetmagazin/chayni...   1050  \n",
       "7  https://farfor-gzhel.ru/internetmagazin/serviz...    NaN  \n",
       "8  https://farfor-gzhel.ru/internetmagazin/kreman...    NaN  \n",
       "9  https://farfor-gzhel.ru/internetmagazin/salfet...    NaN  "
      ]
     },
     "execution_count": 23,
     "metadata": {},
     "output_type": "execute_result"
    }
   ],
   "source": [
    "df[\"volume\"] = df[\"title\"].str.extract(\"объем (\\d+) мл\")\n",
    "df.head(10)"
   ]
  },
  {
   "cell_type": "markdown",
   "metadata": {},
   "source": [
    "Отдельная долгоиграющая задача – придумать выражение, которое поможет извлечь тип изделия. С одной стороны, можно брать из `title` все, с первого символа до следующей заглавной буквы (`Чайная пара Орхидея` – `Чайная пара`, `Сервиз чайно-кофейный Чародейка` – `Сервиз чайно-кофейный`). С другой стороны, есть примеры, где название идет не с большой буквы (`Креманка вазочка для варенья сластена` и `Конфетница идиллия`). Не исключено, что проще написать отдельный парсер, который по ссылке на товар будет выгружать и добавлять более подробную информацию  :) "
   ]
  }
 ],
 "metadata": {
  "kernelspec": {
   "display_name": "Python 3",
   "language": "python",
   "name": "python3"
  },
  "language_info": {
   "codemirror_mode": {
    "name": "ipython",
    "version": 3
   },
   "file_extension": ".py",
   "mimetype": "text/x-python",
   "name": "python",
   "nbconvert_exporter": "python",
   "pygments_lexer": "ipython3",
   "version": "3.7.4"
  }
 },
 "nbformat": 4,
 "nbformat_minor": 2
}

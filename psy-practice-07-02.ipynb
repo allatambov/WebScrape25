{
 "cells": [
  {
   "cell_type": "markdown",
   "metadata": {},
   "source": [
    "# Web-scraping: сбор данных из баз данных и интернет-источников\n",
    "\n",
    "*Алла Тамбовцева, НИУ ВШЭ*\n",
    "\n",
    "## Практикум 7.2. Управление браузером с Selenium: скроллинг"
   ]
  },
  {
   "cell_type": "markdown",
   "metadata": {},
   "source": [
    "Импортируем функцию `sleep` и необходимые инструменты для работы с Selenium:m"
   ]
  },
  {
   "cell_type": "code",
   "execution_count": 1,
   "metadata": {},
   "outputs": [],
   "source": [
    "from time import sleep\n",
    "from selenium import webdriver as wd\n",
    "from selenium.webdriver.common.keys import Keys\n",
    "from selenium.webdriver.common.by import By"
   ]
  },
  {
   "cell_type": "markdown",
   "metadata": {},
   "source": [
    "Запустим новую сессию работы с Selenium – откроем окно браузера на весь экран:"
   ]
  },
  {
   "cell_type": "code",
   "execution_count": 62,
   "metadata": {},
   "outputs": [],
   "source": [
    "br = wd.Chrome()\n",
    "br.maximize_window()"
   ]
  },
  {
   "cell_type": "markdown",
   "metadata": {},
   "source": [
    "Перейдем на сайт онлайн-магазина Гжельского завода:"
   ]
  },
  {
   "cell_type": "code",
   "execution_count": null,
   "metadata": {},
   "outputs": [],
   "source": [
    "url = \"https://farfor-gzhel.ru/internetmagazin/922/filter/color_list-is-deaf-cobalt/apply/\""
   ]
  },
  {
   "cell_type": "markdown",
   "metadata": {},
   "source": [
    "### Задача 1\n",
    "\n",
    "Найдите, используя XPATH, все фрагменты кода HTML с названием товара и ссылкой на его страницу. Пример фрагмента для определенности:\n",
    "\n",
    "    <a class=\"section-item-name intec-cl-text-hover\" href=\"/internetmagazin/chaynye-pary/31847/\" target=\"_blank\" data-role=\"offer.link\" data-id=\"31847\">Чайная пара Граненая в глухом кобальте объем 330 мл.</a>\n",
    "    \n",
    "Результат – список `htmls` со строками, содержащими HTML-код."
   ]
  },
  {
   "cell_type": "code",
   "execution_count": null,
   "metadata": {},
   "outputs": [],
   "source": [
    "### YOUR CODE HERE ###"
   ]
  },
  {
   "cell_type": "markdown",
   "metadata": {},
   "source": [
    "### Задача 2\n",
    "\n",
    "Найдите, используя поиск по названию атрибута `class`, кнопку «Показать еще» (это будет объект типа `WebElement`). Извлеките ее положение на странице и сохраните ее вертикальную координату в переменную `y`.\n",
    "\n",
    "**Подсказка:** положение на странице – атрибут `.location`."
   ]
  },
  {
   "cell_type": "code",
   "execution_count": null,
   "metadata": {},
   "outputs": [],
   "source": [
    "### YOUR CODE HERE ###"
   ]
  },
  {
   "cell_type": "markdown",
   "metadata": {},
   "source": [
    "Библиотека Selenium умеет скроллить страницы, точнее, активировать запуск кода на JavaScript, который отвечает за скроллинг. В общем виде строка с кодом для скроллинга выглядит так (`Y` – на сколько пикселей нужно проскроллить):\n",
    "\n",
    "    br.execute_script(\"window.scrollTo(0, Y);\") \n",
    "\n",
    "Если нужно проскроллить до конца страницы, то тогда вместо `Y` нужно вписать значение, которое извлекается из тела документа HTML:\n",
    "\n",
    "    document.body.scrollHeight"
   ]
  },
  {
   "cell_type": "markdown",
   "metadata": {},
   "source": [
    "### Задача 3\n",
    "\n",
    "Проскролльте страницу до конца. Попробуйте найти кнопку «Показать еще». Что замечаете?"
   ]
  },
  {
   "cell_type": "code",
   "execution_count": null,
   "metadata": {},
   "outputs": [],
   "source": [
    "### YOUR CODE HERE ###"
   ]
  },
  {
   "cell_type": "markdown",
   "metadata": {},
   "source": [
    "### Задача 4\n",
    "\n",
    "Предложите более удачный вариант скроллинга и напишите код, который подставляет необходимое число пикселей для скроллинга вниз в f-строку. Пример – в `{}` подставить нужное число:\n",
    "\n",
    "    script = f\"window.scrollTo(0, {});\"\n",
    "    br.execute_script(script)"
   ]
  },
  {
   "cell_type": "markdown",
   "metadata": {},
   "source": [
    "### Задача 5\n",
    "\n",
    "Допишите цикл `while` ниже, который будет скроллить страницу и извлекать результаты до тех пор, пока они не закончатся, то есть пока на странице будет кнопка «Показать еще». \n",
    "\n",
    "Примечание: чтобы в случае отсутствия кнопки код не выдавал ошибку `NoSuchElementException`, а возвращал пустой результат, в коде ниже используется не метод `.find_element()`, а `.find_elements()`. Этот метод ищет все совпадения, не только первое, поэтому в случае отсутствия результатов вместо ошибки возвращается пустой список.\n",
    "\n",
    "**NB.** Не забудьте добавить небольшую задержку в конце каждой итерации цикла."
   ]
  },
  {
   "cell_type": "code",
   "execution_count": null,
   "metadata": {},
   "outputs": [],
   "source": [
    "br = wd.Chrome()\n",
    "br.maximize_window()\n",
    "br.get(url)\n",
    "\n",
    "all_results = []\n",
    "\n",
    "while True:\n",
    "    \n",
    "    more_list = br.find_elements(By.CLASS_NAME, \n",
    "                                \"catalog-section-more\")\n",
    "    ### YOUR CODE HERE ###"
   ]
  }
 ],
 "metadata": {
  "kernelspec": {
   "display_name": "Python 3",
   "language": "python",
   "name": "python3"
  },
  "language_info": {
   "codemirror_mode": {
    "name": "ipython",
    "version": 3
   },
   "file_extension": ".py",
   "mimetype": "text/x-python",
   "name": "python",
   "nbconvert_exporter": "python",
   "pygments_lexer": "ipython3",
   "version": "3.7.4"
  }
 },
 "nbformat": 4,
 "nbformat_minor": 2
}

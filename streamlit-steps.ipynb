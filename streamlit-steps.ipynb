{
 "cells": [
  {
   "cell_type": "markdown",
   "metadata": {},
   "source": [
    "## Установка, импорт  и проверка `streamlit`\n",
    "\n",
    "### Часть 1. Установка `streamlit`\n",
    "\n",
    "**Важный момент 1.** Чтобы пользоваться всеми возможностями библиотеки `streamlit`, нужна версия Python не ниже 3.8. Проверим свою версию Python:"
   ]
  },
  {
   "cell_type": "code",
   "execution_count": 1,
   "metadata": {},
   "outputs": [
    {
     "name": "stdout",
     "output_type": "stream",
     "text": [
      "Python 3.7.4\r\n"
     ]
    }
   ],
   "source": [
    "!python --version"
   ]
  },
  {
   "cell_type": "markdown",
   "metadata": {},
   "source": [
    "**Важный момент 2.** На всякий случай обновим установщик `pip`. Команда выглядит так, как будто `pip` устанавливает сам себя, но за счет опции `--upgrade` выполняется установка более новой доступной версии:"
   ]
  },
  {
   "cell_type": "code",
   "execution_count": null,
   "metadata": {},
   "outputs": [],
   "source": [
    "!pip install pip --upgrade"
   ]
  },
  {
   "cell_type": "markdown",
   "metadata": {},
   "source": [
    "Установим `streamlit` и принудительно обновим (с той же опцией `--upgrade`) на случай, если библиотека уже есть, но в старой версии:"
   ]
  },
  {
   "cell_type": "code",
   "execution_count": null,
   "metadata": {},
   "outputs": [],
   "source": [
    "!pip install streamlit --upgrade"
   ]
  },
  {
   "cell_type": "markdown",
   "metadata": {},
   "source": [
    "Если в конце установки мы получили сообщение `Successfully installed streamlit` с указанием версии этой библиотеки, все хорошо, библиотеку можно импортировать. \n",
    "\n",
    "Если в момент установки возникает ошибка (текст подсвечивается красным), нужно разобраться, из-за какой библиотеки среди зависимостей для `streamlit` это происходит. Обычно проблемы возникают на Mac OS или Linux, и связаны они с библиотекой `pyarrow`. Ошибка описывается таким сообщением:\n",
    "\n",
    "```\n",
    "note: This error originates from a subprocess, and is likely not a problem with pip.\n",
    "  ERROR: Failed building wheel for pyarrow\n",
    "Failed to build pyarrow\n",
    "ERROR: Could not build wheels for pyarrow, which is required to install pyproject.toml-based projects\n",
    "```"
   ]
  },
  {
   "cell_type": "markdown",
   "metadata": {},
   "source": [
    "Чтобы справиться с ней, нужно попробовать установить `pyarrow` отдельно:"
   ]
  },
  {
   "cell_type": "code",
   "execution_count": null,
   "metadata": {},
   "outputs": [],
   "source": [
    "!pip install pyarrow"
   ]
  },
  {
   "cell_type": "markdown",
   "metadata": {},
   "source": [
    "Если и эта команда вызывает ошибку того же типа (`failed to build`), установим версию 9.0.0, обычно помогает:"
   ]
  },
  {
   "cell_type": "code",
   "execution_count": null,
   "metadata": {},
   "outputs": [],
   "source": [
    "!pip install pyarrow==9.0.0"
   ]
  },
  {
   "cell_type": "markdown",
   "metadata": {},
   "source": [
    "После этого, если получили сообщение с `Successfully installed` в конце, снова устанавливаем `streamlit`:"
   ]
  },
  {
   "cell_type": "code",
   "execution_count": null,
   "metadata": {},
   "outputs": [],
   "source": [
    "!pip install streamlit --upgrade"
   ]
  },
  {
   "cell_type": "markdown",
   "metadata": {},
   "source": [
    "Если после всех манипуляций ничего не помогает, см. отдельный инструкции по запуску того же через Colab или сервер `streamlit`."
   ]
  },
  {
   "cell_type": "markdown",
   "metadata": {},
   "source": [
    "### Часть 2. Импорт `streamlit`"
   ]
  },
  {
   "cell_type": "markdown",
   "metadata": {},
   "source": [
    "Импортируем библиотеку:"
   ]
  },
  {
   "cell_type": "code",
   "execution_count": null,
   "metadata": {},
   "outputs": [],
   "source": [
    "import streamlit as st"
   ]
  },
  {
   "cell_type": "markdown",
   "metadata": {},
   "source": [
    "Если импортируется с некоторым небольшим предупреждением о  `numexpr`, нестрашно, если вылетает ошибка `ImportError`, нужно разобраться с тем, какие версии каких модулей оказались несовместимыми (обычно проблема с теми инструментами, которые общие и у `streamlit`, и у `pandas`). Пример проблемного импорта ниже:"
   ]
  },
  {
   "cell_type": "raw",
   "metadata": {},
   "source": [
    "2024-03-24 08:52:12.089 INFO    numexpr.utils: NumExpr defaulting to 8 threads.\n",
    "/opt/anaconda3/lib/python3.9/site-packages/pandas/core/computation/expressions.py:21: UserWarning: Pandas requires version '2.8.4' or newer of 'numexpr' (version '2.7.3' currently installed).\n",
    "  from pandas.core.computation.check import NUMEXPR_INSTALLED\n",
    "/opt/anaconda3/lib/python3.9/site-packages/pandas/core/arrays/masked.py:60: UserWarning: Pandas requires version '1.3.6' or newer of 'bottleneck' (version '1.3.2' currently installed).\n",
    "  from pandas.core import ("
   ]
  },
  {
   "cell_type": "markdown",
   "metadata": {},
   "source": [
    "В примере выше проблема с `numexpr` и `bottleneck`, их можно обновить отдельно:"
   ]
  },
  {
   "cell_type": "code",
   "execution_count": null,
   "metadata": {},
   "outputs": [],
   "source": [
    "!pip install numexpr --upgrade"
   ]
  },
  {
   "cell_type": "code",
   "execution_count": null,
   "metadata": {},
   "outputs": [],
   "source": [
    "!pip install bottleneck --upgrade"
   ]
  },
  {
   "cell_type": "markdown",
   "metadata": {},
   "source": [
    "А теперь можно перезапустить ядро (в меню *Kernel – Restart*) и снова попробовать импортировать `streamlit`:"
   ]
  },
  {
   "cell_type": "code",
   "execution_count": null,
   "metadata": {},
   "outputs": [],
   "source": [
    "import streamlit as st"
   ]
  },
  {
   "cell_type": "markdown",
   "metadata": {},
   "source": [
    "### Часть 3. Проверка `streamlit`\n",
    "\n",
    "Если со `streamlit` работаем в первый раз, нужно запустить встроенный в него пример, чтобы проверить, запускаются ли веб-приложения в принципе. \n",
    "\n",
    "Сделать это нужно с помощью командной строки, иначе в Jupyter ничего не получится – при первичном вызове `streamlit` ожидается ввод email с клавиатуры: \n",
    "\n",
    "* В Windows можно зайти в консоль Anaconda (в меню *Пуск* ищем папку *Anaconda*, в ней терминал/командную строку). \n",
    "\n",
    "* На Mac запускаем терминал (в *Launchpad* ищем *Терминал*, открываем новое окно, не нужно что-то вводить что-то в черное/белое окно, которое используется для запуска работающего Jupyter).\n",
    "\n",
    "В терминале/командной строке пишем:\n",
    "\n",
    "    streamlit hello\n",
    "    \n",
    "Если запрашивается email, вводим его и нажимаем *Enter* (или просто нажимаем на *Enter*, если не хотим вводить email, это необязательно). Если команда `streamlit` не найдена, можно записать полную версию:\n",
    "\n",
    "        python -m streamlit hello\n",
    "\n",
    "Пример окна консоли после успешного запуска команды:\n",
    "\n",
    "<img src=\"https://raw.githubusercontent.com/allatambov/WebScrape25/refs/heads/main/one.jpeg\" width=\"70%\">\n",
    "\n",
    "Запускается шаблонное приложение, иллюстрирующее возможности этой библиотеки. Оно открывается в новой вкладке браузера, локально, обычно по адресу `http://localhost:8501/`. Эта ссылка является активной только на текущем ноутбуке, пока приложение работает, то есть пока окно с консолью не закрыто (исполнение ячейки в Jupyter не остановлено)."
   ]
  }
 ],
 "metadata": {
  "kernelspec": {
   "display_name": "Python 3",
   "language": "python",
   "name": "python3"
  },
  "language_info": {
   "codemirror_mode": {
    "name": "ipython",
    "version": 3
   },
   "file_extension": ".py",
   "mimetype": "text/x-python",
   "name": "python",
   "nbconvert_exporter": "python",
   "pygments_lexer": "ipython3",
   "version": "3.7.4"
  }
 },
 "nbformat": 4,
 "nbformat_minor": 5
}

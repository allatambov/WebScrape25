{
 "cells": [
  {
   "cell_type": "markdown",
   "metadata": {},
   "source": [
    "# Web-scraping: сбор данных из баз данных и интернет-источников\n",
    "\n",
    "*Алла Тамбовцева*\n",
    "\n",
    "## Практикум 3. Формат JSON и его обработка в рамках блока кода JavaScript"
   ]
  },
  {
   "cell_type": "markdown",
   "metadata": {},
   "source": [
    "Импортируем все необходимое:"
   ]
  },
  {
   "cell_type": "code",
   "execution_count": 1,
   "metadata": {},
   "outputs": [],
   "source": [
    "import requests\n",
    "import pandas as pd\n",
    "from bs4 import BeautifulSoup"
   ]
  },
  {
   "cell_type": "markdown",
   "metadata": {},
   "source": [
    "### Словари и датафреймы"
   ]
  },
  {
   "cell_type": "markdown",
   "metadata": {},
   "source": [
    "Если нам нужно хранить много информации разного уровня в Python, это удобно делать с помощью словарей (тип `dict`):"
   ]
  },
  {
   "cell_type": "code",
   "execution_count": 2,
   "metadata": {},
   "outputs": [
    {
     "data": {
      "text/plain": [
       "{'database': 'HP',\n",
       " 'data': [{'name': 'Dobby', 'type': 'house-elf'},\n",
       "  {'name': 'Harry Potter', 'type': 'human'},\n",
       "  {'name': 'Griphook', 'type': 'goblin'}]}"
      ]
     },
     "execution_count": 2,
     "metadata": {},
     "output_type": "execute_result"
    }
   ],
   "source": [
    "info = {\"database\" : \"HP\", \n",
    " \"data\" : [{\"name\" : \"Dobby\", \"type\" : \"house-elf\"}, \n",
    "           {\"name\": \"Harry Potter\", \"type\": \"human\"}, \n",
    "           {\"name\" : \"Griphook\", \"type\" : \"goblin\"}]}\n",
    "info"
   ]
  },
  {
   "cell_type": "markdown",
   "metadata": {},
   "source": [
    "В таком же виде удобно хранить информацию где-то на сервере, чтобы в нужный момент выбирать по ключу подходящие данные и подставлять в нужное место на страницу сайта. Так, в примере выше, известно, что есть база данных `HP`, в ней есть набор данных `data`, в котором есть характеристики разных героев из вселенной Дж.Роулинг. \n",
    "\n",
    "Как преобразовать данные выше в более привычный табличный формат? Вспомнить, что функция `DataFrame()` из `pandas` умеет преобразовывать списки словарей в датафреймы (один словарь внутри списка равен одной строке таблицы). Давайте выберем список с характеристиками героев и получим удобную таблицу!"
   ]
  },
  {
   "cell_type": "code",
   "execution_count": 3,
   "metadata": {},
   "outputs": [
    {
     "data": {
      "text/html": [
       "<div>\n",
       "<style scoped>\n",
       "    .dataframe tbody tr th:only-of-type {\n",
       "        vertical-align: middle;\n",
       "    }\n",
       "\n",
       "    .dataframe tbody tr th {\n",
       "        vertical-align: top;\n",
       "    }\n",
       "\n",
       "    .dataframe thead th {\n",
       "        text-align: right;\n",
       "    }\n",
       "</style>\n",
       "<table border=\"1\" class=\"dataframe\">\n",
       "  <thead>\n",
       "    <tr style=\"text-align: right;\">\n",
       "      <th></th>\n",
       "      <th>name</th>\n",
       "      <th>type</th>\n",
       "    </tr>\n",
       "  </thead>\n",
       "  <tbody>\n",
       "    <tr>\n",
       "      <th>0</th>\n",
       "      <td>Dobby</td>\n",
       "      <td>house-elf</td>\n",
       "    </tr>\n",
       "    <tr>\n",
       "      <th>1</th>\n",
       "      <td>Harry Potter</td>\n",
       "      <td>human</td>\n",
       "    </tr>\n",
       "    <tr>\n",
       "      <th>2</th>\n",
       "      <td>Griphook</td>\n",
       "      <td>goblin</td>\n",
       "    </tr>\n",
       "  </tbody>\n",
       "</table>\n",
       "</div>"
      ],
      "text/plain": [
       "           name       type\n",
       "0         Dobby  house-elf\n",
       "1  Harry Potter      human\n",
       "2      Griphook     goblin"
      ]
     },
     "execution_count": 3,
     "metadata": {},
     "output_type": "execute_result"
    }
   ],
   "source": [
    "pd.DataFrame(info[\"data\"])"
   ]
  },
  {
   "cell_type": "markdown",
   "metadata": {},
   "source": [
    "Теперь давайте разберемся, в каком виде могут храниться подобного вида данные в исходном коде веб-страницы."
   ]
  },
  {
   "cell_type": "markdown",
   "metadata": {},
   "source": [
    "### Формат JSON\n",
    "\n",
    "JSON (от *JavaScript Object Notation*) – текстовый формат хранения данных, изначально использовался в языке JavaScript, но затем стал универсальным машиночитаемым форматом, распознаваемым разными языками программирования. Различают:\n",
    "\n",
    "* JSON-строки (текст с определённой структурой данных внутри);\n",
    "* JSON-файлы (текстовые файлы с расширением `.json` со строкой JSON-внутри).\n",
    "\n",
    "Какие структуры данных Python могут встретиться внутри JSON-строки? Знакомые нам списки и словари!"
   ]
  },
  {
   "cell_type": "markdown",
   "metadata": {},
   "source": [
    "**Пример JSON-строки, содержащей списки:**"
   ]
  },
  {
   "cell_type": "code",
   "execution_count": 4,
   "metadata": {},
   "outputs": [],
   "source": [
    "# фрагмент результатов голосования в Арбитражный комитет Википедии: \n",
    "# время голосования, голос, кандидат, избиратель:\n",
    "\n",
    "example01 = \"\"\"\n",
    "[[\"2008-11-23 00:32:00\", \"-\", \"Solon\", \"Kalan\"], \n",
    "  [\"2008-11-23 00:34:00\", \"+\", \"Chronicler\", \"Altes\"], \n",
    "  [\"2008-11-23 00:34:00\", \"+\", \"Ilya Voyager\", \"Altes\"]]\n",
    "\"\"\""
   ]
  },
  {
   "cell_type": "markdown",
   "metadata": {},
   "source": [
    "**Пример JSON-строки, содержащей словари:**"
   ]
  },
  {
   "cell_type": "code",
   "execution_count": 5,
   "metadata": {},
   "outputs": [],
   "source": [
    "# фрагмент результатов голосования за актеров \n",
    "# на сайте kinoteatr.ru\n",
    "\n",
    "example02 = \"\"\"\n",
    "[{ \"id\":\"16804\", \"plus\":\"131\", \"minus\":\"4\", \"voted\":\"\" },\n",
    "{ \"id\":\"56008\", \"plus\":\"91\", \"minus\":\"10\", \"voted\":\"\" },\n",
    "{ \"id\":\"62460\", \"plus\":\"94\", \"minus\":\"4\", \"voted\":\"\" }]\n",
    "\"\"\""
   ]
  },
  {
   "cell_type": "markdown",
   "metadata": {},
   "source": [
    "Этот формат хранения данных удобен своей универсальностью. Во-первых, он позволяет сохранять и выгружать в компактные текстовые файлы данные со сложной структурой (например, словари, внутри которых есть ещё словари). Во-вторых, формат JSON не привязан к какому-то конкретному языку программирования. Можно создать список списков в Python, выгрузить его в строку JSON, затем считать эту строку с помощью другого языка и получить результат в виде аналогичных структур данных, принятых в этом языке (например, аналогом питоновского словаря `dict` в языке R может выступить поименованный вектор или фрейм `list`).\n",
    "\n",
    "По этим причинам формат JSON очень популярен. Его можно встретить при работе с географическими данными (файлы с особым расширением `.geojson`, которые содержат метки с координатами объектов), при парсинге HTML-страниц (файлы `.json`, из которых «подтягивается» регулярно обновляемая информация для построения всяких интерактивных визуализаций на сайте) и при подключении к API – интерфейсам, которые можно использовать как базы данных для автоматизированной выгрузки данных из приложений и социальных сетей.\n",
    "\n",
    "В этом практикуме мы поработаем с JSON-строками. Импортируем необходимый для работы модуль `json`. Этот модуль `json` – базовый (как знакомые нам `requests` или `os`), он не требует дополнительной установки.  "
   ]
  },
  {
   "cell_type": "code",
   "execution_count": 6,
   "metadata": {},
   "outputs": [],
   "source": [
    "import json"
   ]
  },
  {
   "cell_type": "markdown",
   "metadata": {},
   "source": [
    "В модуле `json` есть две функции, `loads()` и `load()`. Первая преобразует данные из обычной строки (как здесь), вторая – данные, загруженные из файла с расширением `.json`. Преобразование JSON-строки в структуру данных называется **десериализацией JSON**. \n",
    "\n",
    "Обратная операция – превращение структуры данных в Python в JSON-строку – тоже существует, и называется она **сериализацией JSON**. Для сериализации используется аналогичная пара функций, `dumps()` и `dump()`. Первая будет превращать структуру данных в JSON-строку, вторая – превращать структуру данных в строку и выгружать эту строку в файл с расширением `.json`.\n",
    "\n",
    "В качестве наглядного примера десериализуем строки `example01` и `example02` – превратим валидные (корректные, где все скобки и кавычки на месте) JSON-сроки в питоновские списки и словари:"
   ]
  },
  {
   "cell_type": "code",
   "execution_count": 7,
   "metadata": {},
   "outputs": [
    {
     "data": {
      "text/plain": [
       "[['2008-11-23 00:32:00', '-', 'Solon', 'Kalan'],\n",
       " ['2008-11-23 00:34:00', '+', 'Chronicler', 'Altes'],\n",
       " ['2008-11-23 00:34:00', '+', 'Ilya Voyager', 'Altes']]"
      ]
     },
     "execution_count": 7,
     "metadata": {},
     "output_type": "execute_result"
    }
   ],
   "source": [
    "# строка с текстом -> список списков\n",
    "json.loads(example01)"
   ]
  },
  {
   "cell_type": "code",
   "execution_count": 8,
   "metadata": {},
   "outputs": [
    {
     "data": {
      "text/plain": [
       "[{'id': '16804', 'plus': '131', 'minus': '4', 'voted': ''},\n",
       " {'id': '56008', 'plus': '91', 'minus': '10', 'voted': ''},\n",
       " {'id': '62460', 'plus': '94', 'minus': '4', 'voted': ''}]"
      ]
     },
     "execution_count": 8,
     "metadata": {},
     "output_type": "execute_result"
    }
   ],
   "source": [
    "# строка с текстом -> список словарей\n",
    "json.loads(example02)"
   ]
  },
  {
   "cell_type": "markdown",
   "metadata": {},
   "source": [
    "И сериализуем словарь `info`:"
   ]
  },
  {
   "cell_type": "code",
   "execution_count": 9,
   "metadata": {},
   "outputs": [
    {
     "data": {
      "text/plain": [
       "'{\"database\": \"HP\", \"data\": [{\"name\": \"Dobby\", \"type\": \"house-elf\"}, {\"name\": \"Harry Potter\", \"type\": \"human\"}, {\"name\": \"Griphook\", \"type\": \"goblin\"}]}'"
      ]
     },
     "execution_count": 9,
     "metadata": {},
     "output_type": "execute_result"
    }
   ],
   "source": [
    "# словарь -> текст\n",
    "json.dumps(info)"
   ]
  },
  {
   "cell_type": "code",
   "execution_count": 10,
   "metadata": {},
   "outputs": [],
   "source": [
    "# словарь -> файл .json\n",
    "f = open(\"info.json\", \"w\")\n",
    "json.dump(info, f)\n",
    "f.close()"
   ]
  },
  {
   "cell_type": "markdown",
   "metadata": {},
   "source": [
    "### Извлечение кода JavaScript из HTML и обработка JSON-строк"
   ]
  },
  {
   "cell_type": "markdown",
   "metadata": {},
   "source": [
    "Вернемся к задаче сбора ссылок на новости по дате. В предыдущем практикуме мы написали код, который находит нужный фрагмент с кодом на JavaScript (с тэгом `<script>`), в котором явно есть ссылки на новости:"
   ]
  },
  {
   "cell_type": "code",
   "execution_count": 11,
   "metadata": {},
   "outputs": [],
   "source": [
    "url = \"https://nplus1.ru/news/2025/01/03\"\n",
    "soup = BeautifulSoup(requests.get(url).text)\n",
    "js = soup.find_all(\"script\")[8].text\n",
    "\n",
    "# print(js)"
   ]
  },
  {
   "cell_type": "markdown",
   "metadata": {},
   "source": [
    "**NB.** Если после исполнения кода выше в `js` пустая строка с текстом – замените `.text` на `.next`, это особенность другой версии `bs4`:\n",
    "\n",
    "    soup.find_all(\"script\")[8].next\n",
    "    \n",
    "Так как формально внутри `<script>` не текст, а код JavaScript, текст через атрибут `.text` в более новой версии `bs4` не находится (более строгое отношение к типам). А атрибут `.next` возвращает содержимое, следующее за тэгом, что в нашем случае – ровно то, что нужно."
   ]
  },
  {
   "cell_type": "markdown",
   "metadata": {},
   "source": [
    "Объект `js` сейчас – это обычная строка (текст) с кодом на языке JavaScript. Знать этот язык нам совсем не обязательно, достаточно понять, какой фрагмент текста содержит ссылки. В данном случае текст в `js` выглядит жутко, это из-за того, что двойные кавычки местами представлены в виде символов Unicode. Выполним замену, чтобы меньше пугаться:"
   ]
  },
  {
   "cell_type": "code",
   "execution_count": 12,
   "metadata": {},
   "outputs": [],
   "source": [
    "js = js.replace(\"\\\\u0022\", '\"')"
   ]
  },
  {
   "cell_type": "markdown",
   "metadata": {},
   "source": [
    "Чтобы еще меньше пугаться, давайте заменим блоки из `\\` на один слэш:"
   ]
  },
  {
   "cell_type": "code",
   "execution_count": 13,
   "metadata": {},
   "outputs": [],
   "source": [
    "js_clean = js.replace(\"\\\\\\\\\\\\\", \"\")"
   ]
  },
  {
   "cell_type": "markdown",
   "metadata": {},
   "source": [
    "В целом, уже сейчас можно попытаться найти в `js_clean` фрагменты со ссылками на новости, но это неудобно. Поэтому давайте выберем текст после `JSON.parse(` и попробуем привести его к «чистой» JSON-строке!"
   ]
  },
  {
   "cell_type": "code",
   "execution_count": 14,
   "metadata": {},
   "outputs": [],
   "source": [
    "# разбиваем по JSON.parse(\\' и забираем все, что после (индекс 1)\n",
    "# метод .strip() без текста внутри убирает отступы в начале/конце строки,\n",
    "# а с текстом внутри – убирает этот текст в начале/конце строки\n",
    "\n",
    "final = js_clean.split(\"JSON.parse(\\'\")[1].strip().strip(\"\\');\")\n",
    "# final"
   ]
  },
  {
   "cell_type": "markdown",
   "metadata": {},
   "source": [
    "Теперь эту строку можно десериализовать – превратить в словарь!"
   ]
  },
  {
   "cell_type": "code",
   "execution_count": 15,
   "metadata": {},
   "outputs": [],
   "source": [
    "D = json.loads(final)"
   ]
  },
  {
   "cell_type": "markdown",
   "metadata": {},
   "source": [
    "Давайте выберем из словаря запись с нужными данными и превратим их в таблицу!"
   ]
  },
  {
   "cell_type": "code",
   "execution_count": 16,
   "metadata": {},
   "outputs": [
    {
     "data": {
      "text/html": [
       "<div>\n",
       "<style scoped>\n",
       "    .dataframe tbody tr th:only-of-type {\n",
       "        vertical-align: middle;\n",
       "    }\n",
       "\n",
       "    .dataframe tbody tr th {\n",
       "        vertical-align: top;\n",
       "    }\n",
       "\n",
       "    .dataframe thead th {\n",
       "        text-align: right;\n",
       "    }\n",
       "</style>\n",
       "<table border=\"1\" class=\"dataframe\">\n",
       "  <thead>\n",
       "    <tr style=\"text-align: right;\">\n",
       "      <th></th>\n",
       "      <th>type</th>\n",
       "      <th>title</th>\n",
       "      <th>typeKey</th>\n",
       "      <th>isImage</th>\n",
       "      <th>difficulty</th>\n",
       "      <th>themes</th>\n",
       "      <th>url</th>\n",
       "      <th>imageBg</th>\n",
       "      <th>rubrics</th>\n",
       "      <th>isVisibleTime</th>\n",
       "      <th>author</th>\n",
       "      <th>date</th>\n",
       "      <th>image</th>\n",
       "      <th>time</th>\n",
       "      <th>titleClear</th>\n",
       "      <th>subtitle</th>\n",
       "      <th>imageBox</th>\n",
       "    </tr>\n",
       "  </thead>\n",
       "  <tbody>\n",
       "    <tr>\n",
       "      <th>0</th>\n",
       "      <td>default</td>\n",
       "      <td>\\u0422\\u0435\\u043c\\u043f\\u0435\\u0440\\u0430\\u04...</td>\n",
       "      <td>news</td>\n",
       "      <td>True</td>\n",
       "      <td>{'link': '/material/difficulty/2', 'value': 2....</td>\n",
       "      <td>[]</td>\n",
       "      <td>https://nplus1.ru/news/2025/01/03/shocked-iron...</td>\n",
       "      <td>#ffffff</td>\n",
       "      <td>[{'id': 837, 'name': '\\u0424\\u0438\\u0437\\u0438...</td>\n",
       "      <td>False</td>\n",
       "      <td>{'id': 470, 'name': '\\u0415\\u0433\\u043e\\u0440 ...</td>\n",
       "      <td>{'link': '/news/2025/01/03', 'value': '03.01.2...</td>\n",
       "      <td>None</td>\n",
       "      <td>{'link': '/search/empty/', 'value': '14:15', '...</td>\n",
       "      <td>None</td>\n",
       "      <td>\\u041d\\u043e\\u0432\\u0430\\u044f \\u043e\\u0446\\u0...</td>\n",
       "      <td>{'original': {'hex': None, 'src': 'https://min...</td>\n",
       "    </tr>\n",
       "    <tr>\n",
       "      <th>1</th>\n",
       "      <td>default</td>\n",
       "      <td>\\u0411\\u043e\\u043b\\u044c\\u0448\\u0438\\u043d\\u04...</td>\n",
       "      <td>news</td>\n",
       "      <td>True</td>\n",
       "      <td>{'link': '/material/difficulty/3', 'value': 3....</td>\n",
       "      <td>[]</td>\n",
       "      <td>https://nplus1.ru/news/2025/01/03/mesolithic-p...</td>\n",
       "      <td>#ffffff</td>\n",
       "      <td>[{'id': 844, 'name': '\\u0410\\u0440\\u0445\\u0435...</td>\n",
       "      <td>False</td>\n",
       "      <td>{'id': 275, 'name': '\\u041c\\u0438\\u0445\\u0430\\...</td>\n",
       "      <td>{'link': '/news/2025/01/03', 'value': '03.01.2...</td>\n",
       "      <td>None</td>\n",
       "      <td>{'link': '/search/empty/', 'value': '11:25', '...</td>\n",
       "      <td>None</td>\n",
       "      <td>\\u041e\\u043d\\u0438 \\u0436\\u0438\\u043b\\u0438 \\u...</td>\n",
       "      <td>{'original': {'hex': None, 'src': 'https://min...</td>\n",
       "    </tr>\n",
       "    <tr>\n",
       "      <th>2</th>\n",
       "      <td>default</td>\n",
       "      <td>\\u0424\\u0438\\u0437\\u0438\\u043a\\u0438 \\u0440\\u0...</td>\n",
       "      <td>news</td>\n",
       "      <td>True</td>\n",
       "      <td>{'link': '/material/difficulty/2', 'value': 2....</td>\n",
       "      <td>[]</td>\n",
       "      <td>https://nplus1.ru/news/2025/01/03/knitted-fabr...</td>\n",
       "      <td>#ffffff</td>\n",
       "      <td>[{'id': 837, 'name': '\\u0424\\u0438\\u0437\\u0438...</td>\n",
       "      <td>False</td>\n",
       "      <td>{'id': 470, 'name': '\\u0415\\u0433\\u043e\\u0440 ...</td>\n",
       "      <td>{'link': '/news/2025/01/03', 'value': '03.01.2...</td>\n",
       "      <td>None</td>\n",
       "      <td>{'link': '/search/empty/', 'value': '09:20', '...</td>\n",
       "      <td>None</td>\n",
       "      <td>\\u041e\\u043d\\u043e \\u043e\\u043a\\u0430\\u0437\\u0...</td>\n",
       "      <td>{'original': {'hex': None, 'src': 'https://min...</td>\n",
       "    </tr>\n",
       "  </tbody>\n",
       "</table>\n",
       "</div>"
      ],
      "text/plain": [
       "      type                                              title typeKey  \\\n",
       "0  default  \\u0422\\u0435\\u043c\\u043f\\u0435\\u0440\\u0430\\u04...    news   \n",
       "1  default  \\u0411\\u043e\\u043b\\u044c\\u0448\\u0438\\u043d\\u04...    news   \n",
       "2  default  \\u0424\\u0438\\u0437\\u0438\\u043a\\u0438 \\u0440\\u0...    news   \n",
       "\n",
       "   isImage                                         difficulty themes  \\\n",
       "0     True  {'link': '/material/difficulty/2', 'value': 2....     []   \n",
       "1     True  {'link': '/material/difficulty/3', 'value': 3....     []   \n",
       "2     True  {'link': '/material/difficulty/2', 'value': 2....     []   \n",
       "\n",
       "                                                 url  imageBg  \\\n",
       "0  https://nplus1.ru/news/2025/01/03/shocked-iron...  #ffffff   \n",
       "1  https://nplus1.ru/news/2025/01/03/mesolithic-p...  #ffffff   \n",
       "2  https://nplus1.ru/news/2025/01/03/knitted-fabr...  #ffffff   \n",
       "\n",
       "                                             rubrics  isVisibleTime  \\\n",
       "0  [{'id': 837, 'name': '\\u0424\\u0438\\u0437\\u0438...          False   \n",
       "1  [{'id': 844, 'name': '\\u0410\\u0440\\u0445\\u0435...          False   \n",
       "2  [{'id': 837, 'name': '\\u0424\\u0438\\u0437\\u0438...          False   \n",
       "\n",
       "                                              author  \\\n",
       "0  {'id': 470, 'name': '\\u0415\\u0433\\u043e\\u0440 ...   \n",
       "1  {'id': 275, 'name': '\\u041c\\u0438\\u0445\\u0430\\...   \n",
       "2  {'id': 470, 'name': '\\u0415\\u0433\\u043e\\u0440 ...   \n",
       "\n",
       "                                                date image  \\\n",
       "0  {'link': '/news/2025/01/03', 'value': '03.01.2...  None   \n",
       "1  {'link': '/news/2025/01/03', 'value': '03.01.2...  None   \n",
       "2  {'link': '/news/2025/01/03', 'value': '03.01.2...  None   \n",
       "\n",
       "                                                time titleClear  \\\n",
       "0  {'link': '/search/empty/', 'value': '14:15', '...       None   \n",
       "1  {'link': '/search/empty/', 'value': '11:25', '...       None   \n",
       "2  {'link': '/search/empty/', 'value': '09:20', '...       None   \n",
       "\n",
       "                                            subtitle  \\\n",
       "0  \\u041d\\u043e\\u0432\\u0430\\u044f \\u043e\\u0446\\u0...   \n",
       "1  \\u041e\\u043d\\u0438 \\u0436\\u0438\\u043b\\u0438 \\u...   \n",
       "2  \\u041e\\u043d\\u043e \\u043e\\u043a\\u0430\\u0437\\u0...   \n",
       "\n",
       "                                            imageBox  \n",
       "0  {'original': {'hex': None, 'src': 'https://min...  \n",
       "1  {'original': {'hex': None, 'src': 'https://min...  \n",
       "2  {'original': {'hex': None, 'src': 'https://min...  "
      ]
     },
     "execution_count": 16,
     "metadata": {},
     "output_type": "execute_result"
    }
   ],
   "source": [
    "df = pd.DataFrame(D[\"data\"])\n",
    "df"
   ]
  },
  {
   "cell_type": "markdown",
   "metadata": {},
   "source": [
    "### Задача 1\n",
    "\n",
    "Выберите из полученного датафрейма столбец со ссылками и превратите его в массив или список ссылок (тип `list` или `array`)."
   ]
  },
  {
   "cell_type": "code",
   "execution_count": 17,
   "metadata": {},
   "outputs": [
    {
     "data": {
      "text/plain": [
       "0    https://nplus1.ru/news/2025/01/03/shocked-iron...\n",
       "1    https://nplus1.ru/news/2025/01/03/mesolithic-p...\n",
       "2    https://nplus1.ru/news/2025/01/03/knitted-fabr...\n",
       "Name: url, dtype: object"
      ]
     },
     "execution_count": 17,
     "metadata": {},
     "output_type": "execute_result"
    }
   ],
   "source": [
    "# объект Pandas Series, \n",
    "# пары «номер строки – значение»\n",
    "\n",
    "df[\"url\"]"
   ]
  },
  {
   "cell_type": "code",
   "execution_count": 18,
   "metadata": {},
   "outputs": [
    {
     "data": {
      "text/plain": [
       "array(['https://nplus1.ru/news/2025/01/03/shocked-iron-melting',\n",
       "       'https://nplus1.ru/news/2025/01/03/mesolithic-people-from-karelia',\n",
       "       'https://nplus1.ru/news/2025/01/03/knitted-fabric-shapes'],\n",
       "      dtype=object)"
      ]
     },
     "execution_count": 18,
     "metadata": {},
     "output_type": "execute_result"
    }
   ],
   "source": [
    "# объект Numpy Array, массив,\n",
    "# перечень значений без номеров\n",
    "\n",
    "df[\"url\"].values"
   ]
  },
  {
   "cell_type": "code",
   "execution_count": 19,
   "metadata": {},
   "outputs": [
    {
     "data": {
      "text/plain": [
       "['https://nplus1.ru/news/2025/01/03/shocked-iron-melting',\n",
       " 'https://nplus1.ru/news/2025/01/03/mesolithic-people-from-karelia',\n",
       " 'https://nplus1.ru/news/2025/01/03/knitted-fabric-shapes']"
      ]
     },
     "execution_count": 19,
     "metadata": {},
     "output_type": "execute_result"
    }
   ],
   "source": [
    "# обычный список\n",
    "\n",
    "L = list(df[\"url\"].values)\n",
    "L"
   ]
  },
  {
   "cell_type": "markdown",
   "metadata": {},
   "source": [
    "### Задача 2\n",
    "\n",
    "Напишите функцию `get_url_by_date()`, которая принимает на вход ссылку на страницу новостей за определенную дату и возвращает список ссылок на все новости в этот день."
   ]
  },
  {
   "cell_type": "code",
   "execution_count": 20,
   "metadata": {},
   "outputs": [],
   "source": [
    "def get_url_by_date(url):\n",
    "    soup = BeautifulSoup(requests.get(url).text)\n",
    "    js = soup.find_all(\"script\")[8].text\n",
    "    js = js.replace(\"\\\\u0022\", '\"')\n",
    "    js_clean = js.replace(\"\\\\\\\\\\\\\", \"\")\n",
    "    final = js_clean.split(\"JSON.parse(\\'\")[1].strip().strip(\"\\');\")\n",
    "    D = json.loads(final)\n",
    "    df = pd.DataFrame(D[\"data\"])\n",
    "    L = list(df[\"url\"].values)\n",
    "    return L"
   ]
  },
  {
   "cell_type": "code",
   "execution_count": 21,
   "metadata": {},
   "outputs": [
    {
     "data": {
      "text/plain": [
       "['https://nplus1.ru/news/2025/01/08/two-dimensional-salt',\n",
       " 'https://nplus1.ru/news/2025/01/08/lilium-episode-four-new-hope',\n",
       " 'https://nplus1.ru/news/2025/01/08/choose-the-right-regimen',\n",
       " 'https://nplus1.ru/news/2025/01/08/meningocele-cured',\n",
       " 'https://nplus1.ru/news/2025/01/08/watch-the-larynx',\n",
       " 'https://nplus1.ru/news/2025/01/08/doxy-pep-ok']"
      ]
     },
     "execution_count": 21,
     "metadata": {},
     "output_type": "execute_result"
    }
   ],
   "source": [
    "# проверяем\n",
    "get_url_by_date(\"https://nplus1.ru/news/2025/01/08/\")"
   ]
  },
  {
   "cell_type": "markdown",
   "metadata": {},
   "source": [
    "**NB.** Так как есть дни, в которые новости не публиковались, функция выше не универсальна. В случае отсутствия новостей на странице она будет выдавать ошибку при запуске строки `L = list(df[\"url\"].values)`, так как внутри `df` – пустая таблица, а значит, столбца с названием `url` там нет (`KeyError`). \n",
    "\n",
    "Исправим это – добавим развилку с `try-except`:"
   ]
  },
  {
   "cell_type": "code",
   "execution_count": 22,
   "metadata": {},
   "outputs": [],
   "source": [
    "def get_url_by_date(url):\n",
    "    soup = BeautifulSoup(requests.get(url).text)\n",
    "    js = soup.find_all(\"script\")[8].text\n",
    "    js = js.replace(\"\\\\u0022\", '\"')\n",
    "    js_clean = js.replace(\"\\\\\\\\\\\\\", \"\")\n",
    "    final = js_clean.split(\"JSON.parse(\\'\")[1].strip().strip(\"\\');\")\n",
    "    D = json.loads(final)\n",
    "    df = pd.DataFrame(D[\"data\"])\n",
    "    try:\n",
    "        L = list(df[\"url\"].values)\n",
    "    except:\n",
    "        L = []\n",
    "    return L"
   ]
  },
  {
   "cell_type": "code",
   "execution_count": 23,
   "metadata": {},
   "outputs": [
    {
     "data": {
      "text/plain": [
       "[]"
      ]
     },
     "execution_count": 23,
     "metadata": {},
     "output_type": "execute_result"
    }
   ],
   "source": [
    "# проверяем – 1-го января новостей нет\n",
    "get_url_by_date(\"https://nplus1.ru/news/2025/01/01/\")"
   ]
  },
  {
   "cell_type": "markdown",
   "metadata": {},
   "source": [
    "Теперь мы можем совместить код из практикума 2.2 для получения ссылок на страницы всех дат (задача №2 в сюжете 2) и код выше, чтобы получить программу, которая сформирует список ссылок на все новости за 2024 год."
   ]
  },
  {
   "cell_type": "markdown",
   "metadata": {},
   "source": [
    "Однако мы можем пойти дальше и получить гораздо больше информации из датафрейма, который получился преобразованием JSON-строки с кода внутри `<script>` на странице. Давайте в свободном режиме изучим структуру этого датафрейма!"
   ]
  },
  {
   "cell_type": "code",
   "execution_count": 24,
   "metadata": {},
   "outputs": [
    {
     "data": {
      "text/plain": [
       "'Те'"
      ]
     },
     "execution_count": 24,
     "metadata": {},
     "output_type": "execute_result"
    }
   ],
   "source": [
    "# полезный код для перекодирования текста\n",
    "\n",
    "\"\\\\u0422\\\\u0435\".encode().decode('unicode_escape')"
   ]
  },
  {
   "cell_type": "markdown",
   "metadata": {},
   "source": [
    "Давайте оставим в `df` только те столбцы, из которых можно забрать полезную информацию:\n",
    "\n",
    "* `title`: заголовок;\n",
    "* `subtitle`: подзаголовок;\n",
    "* `difficulty`: сложность новости;\n",
    "* `url`: ссылка на новость;\n",
    "* `rubrics`: рубрики новости;\n",
    "* `author`: автор;\n",
    "* `date` и `time`: дата и время публикации."
   ]
  },
  {
   "cell_type": "code",
   "execution_count": 25,
   "metadata": {},
   "outputs": [
    {
     "data": {
      "text/html": [
       "<div>\n",
       "<style scoped>\n",
       "    .dataframe tbody tr th:only-of-type {\n",
       "        vertical-align: middle;\n",
       "    }\n",
       "\n",
       "    .dataframe tbody tr th {\n",
       "        vertical-align: top;\n",
       "    }\n",
       "\n",
       "    .dataframe thead th {\n",
       "        text-align: right;\n",
       "    }\n",
       "</style>\n",
       "<table border=\"1\" class=\"dataframe\">\n",
       "  <thead>\n",
       "    <tr style=\"text-align: right;\">\n",
       "      <th></th>\n",
       "      <th>title</th>\n",
       "      <th>subtitle</th>\n",
       "      <th>difficulty</th>\n",
       "      <th>url</th>\n",
       "      <th>rubrics</th>\n",
       "      <th>author</th>\n",
       "      <th>date</th>\n",
       "      <th>time</th>\n",
       "    </tr>\n",
       "  </thead>\n",
       "  <tbody>\n",
       "    <tr>\n",
       "      <th>0</th>\n",
       "      <td>\\u0422\\u0435\\u043c\\u043f\\u0435\\u0440\\u0430\\u04...</td>\n",
       "      <td>\\u041d\\u043e\\u0432\\u0430\\u044f \\u043e\\u0446\\u0...</td>\n",
       "      <td>{'link': '/material/difficulty/2', 'value': 2....</td>\n",
       "      <td>https://nplus1.ru/news/2025/01/03/shocked-iron...</td>\n",
       "      <td>[{'id': 837, 'name': '\\u0424\\u0438\\u0437\\u0438...</td>\n",
       "      <td>{'id': 470, 'name': '\\u0415\\u0433\\u043e\\u0440 ...</td>\n",
       "      <td>{'link': '/news/2025/01/03', 'value': '03.01.2...</td>\n",
       "      <td>{'link': '/search/empty/', 'value': '14:15', '...</td>\n",
       "    </tr>\n",
       "    <tr>\n",
       "      <th>1</th>\n",
       "      <td>\\u0411\\u043e\\u043b\\u044c\\u0448\\u0438\\u043d\\u04...</td>\n",
       "      <td>\\u041e\\u043d\\u0438 \\u0436\\u0438\\u043b\\u0438 \\u...</td>\n",
       "      <td>{'link': '/material/difficulty/3', 'value': 3....</td>\n",
       "      <td>https://nplus1.ru/news/2025/01/03/mesolithic-p...</td>\n",
       "      <td>[{'id': 844, 'name': '\\u0410\\u0440\\u0445\\u0435...</td>\n",
       "      <td>{'id': 275, 'name': '\\u041c\\u0438\\u0445\\u0430\\...</td>\n",
       "      <td>{'link': '/news/2025/01/03', 'value': '03.01.2...</td>\n",
       "      <td>{'link': '/search/empty/', 'value': '11:25', '...</td>\n",
       "    </tr>\n",
       "    <tr>\n",
       "      <th>2</th>\n",
       "      <td>\\u0424\\u0438\\u0437\\u0438\\u043a\\u0438 \\u0440\\u0...</td>\n",
       "      <td>\\u041e\\u043d\\u043e \\u043e\\u043a\\u0430\\u0437\\u0...</td>\n",
       "      <td>{'link': '/material/difficulty/2', 'value': 2....</td>\n",
       "      <td>https://nplus1.ru/news/2025/01/03/knitted-fabr...</td>\n",
       "      <td>[{'id': 837, 'name': '\\u0424\\u0438\\u0437\\u0438...</td>\n",
       "      <td>{'id': 470, 'name': '\\u0415\\u0433\\u043e\\u0440 ...</td>\n",
       "      <td>{'link': '/news/2025/01/03', 'value': '03.01.2...</td>\n",
       "      <td>{'link': '/search/empty/', 'value': '09:20', '...</td>\n",
       "    </tr>\n",
       "  </tbody>\n",
       "</table>\n",
       "</div>"
      ],
      "text/plain": [
       "                                               title  \\\n",
       "0  \\u0422\\u0435\\u043c\\u043f\\u0435\\u0440\\u0430\\u04...   \n",
       "1  \\u0411\\u043e\\u043b\\u044c\\u0448\\u0438\\u043d\\u04...   \n",
       "2  \\u0424\\u0438\\u0437\\u0438\\u043a\\u0438 \\u0440\\u0...   \n",
       "\n",
       "                                            subtitle  \\\n",
       "0  \\u041d\\u043e\\u0432\\u0430\\u044f \\u043e\\u0446\\u0...   \n",
       "1  \\u041e\\u043d\\u0438 \\u0436\\u0438\\u043b\\u0438 \\u...   \n",
       "2  \\u041e\\u043d\\u043e \\u043e\\u043a\\u0430\\u0437\\u0...   \n",
       "\n",
       "                                          difficulty  \\\n",
       "0  {'link': '/material/difficulty/2', 'value': 2....   \n",
       "1  {'link': '/material/difficulty/3', 'value': 3....   \n",
       "2  {'link': '/material/difficulty/2', 'value': 2....   \n",
       "\n",
       "                                                 url  \\\n",
       "0  https://nplus1.ru/news/2025/01/03/shocked-iron...   \n",
       "1  https://nplus1.ru/news/2025/01/03/mesolithic-p...   \n",
       "2  https://nplus1.ru/news/2025/01/03/knitted-fabr...   \n",
       "\n",
       "                                             rubrics  \\\n",
       "0  [{'id': 837, 'name': '\\u0424\\u0438\\u0437\\u0438...   \n",
       "1  [{'id': 844, 'name': '\\u0410\\u0440\\u0445\\u0435...   \n",
       "2  [{'id': 837, 'name': '\\u0424\\u0438\\u0437\\u0438...   \n",
       "\n",
       "                                              author  \\\n",
       "0  {'id': 470, 'name': '\\u0415\\u0433\\u043e\\u0440 ...   \n",
       "1  {'id': 275, 'name': '\\u041c\\u0438\\u0445\\u0430\\...   \n",
       "2  {'id': 470, 'name': '\\u0415\\u0433\\u043e\\u0440 ...   \n",
       "\n",
       "                                                date  \\\n",
       "0  {'link': '/news/2025/01/03', 'value': '03.01.2...   \n",
       "1  {'link': '/news/2025/01/03', 'value': '03.01.2...   \n",
       "2  {'link': '/news/2025/01/03', 'value': '03.01.2...   \n",
       "\n",
       "                                                time  \n",
       "0  {'link': '/search/empty/', 'value': '14:15', '...  \n",
       "1  {'link': '/search/empty/', 'value': '11:25', '...  \n",
       "2  {'link': '/search/empty/', 'value': '09:20', '...  "
      ]
     },
     "execution_count": 25,
     "metadata": {},
     "output_type": "execute_result"
    }
   ],
   "source": [
    "small = df[[\"title\", \"subtitle\", \"difficulty\", \"url\", \n",
    "            \"rubrics\", \"author\", \"date\", \"time\"]]\n",
    "small"
   ]
  },
  {
   "cell_type": "code",
   "execution_count": 26,
   "metadata": {},
   "outputs": [
    {
     "name": "stderr",
     "output_type": "stream",
     "text": [
      "/opt/anaconda3/lib/python3.7/site-packages/ipykernel_launcher.py:5: SettingWithCopyWarning: \n",
      "A value is trying to be set on a copy of a slice from a DataFrame.\n",
      "Try using .loc[row_indexer,col_indexer] = value instead\n",
      "\n",
      "See the caveats in the documentation: https://pandas.pydata.org/pandas-docs/stable/user_guide/indexing.html#returning-a-view-versus-a-copy\n",
      "  \"\"\"\n"
     ]
    },
    {
     "data": {
      "text/html": [
       "<div>\n",
       "<style scoped>\n",
       "    .dataframe tbody tr th:only-of-type {\n",
       "        vertical-align: middle;\n",
       "    }\n",
       "\n",
       "    .dataframe tbody tr th {\n",
       "        vertical-align: top;\n",
       "    }\n",
       "\n",
       "    .dataframe thead th {\n",
       "        text-align: right;\n",
       "    }\n",
       "</style>\n",
       "<table border=\"1\" class=\"dataframe\">\n",
       "  <thead>\n",
       "    <tr style=\"text-align: right;\">\n",
       "      <th></th>\n",
       "      <th>title</th>\n",
       "      <th>subtitle</th>\n",
       "      <th>difficulty</th>\n",
       "      <th>url</th>\n",
       "      <th>rubrics</th>\n",
       "      <th>author</th>\n",
       "      <th>date</th>\n",
       "      <th>time</th>\n",
       "      <th>title_c</th>\n",
       "    </tr>\n",
       "  </thead>\n",
       "  <tbody>\n",
       "    <tr>\n",
       "      <th>0</th>\n",
       "      <td>\\u0422\\u0435\\u043c\\u043f\\u0435\\u0440\\u0430\\u04...</td>\n",
       "      <td>\\u041d\\u043e\\u0432\\u0430\\u044f \\u043e\\u0446\\u0...</td>\n",
       "      <td>{'link': '/material/difficulty/2', 'value': 2....</td>\n",
       "      <td>https://nplus1.ru/news/2025/01/03/shocked-iron...</td>\n",
       "      <td>[{'id': 837, 'name': '\\u0424\\u0438\\u0437\\u0438...</td>\n",
       "      <td>{'id': 470, 'name': '\\u0415\\u0433\\u043e\\u0440 ...</td>\n",
       "      <td>{'link': '/news/2025/01/03', 'value': '03.01.2...</td>\n",
       "      <td>{'link': '/search/empty/', 'value': '14:15', '...</td>\n",
       "      <td>Температуру ядра Земли уточнили с помощью лазе...</td>\n",
       "    </tr>\n",
       "    <tr>\n",
       "      <th>1</th>\n",
       "      <td>\\u0411\\u043e\\u043b\\u044c\\u0448\\u0438\\u043d\\u04...</td>\n",
       "      <td>\\u041e\\u043d\\u0438 \\u0436\\u0438\\u043b\\u0438 \\u...</td>\n",
       "      <td>{'link': '/material/difficulty/3', 'value': 3....</td>\n",
       "      <td>https://nplus1.ru/news/2025/01/03/mesolithic-p...</td>\n",
       "      <td>[{'id': 844, 'name': '\\u0410\\u0440\\u0445\\u0435...</td>\n",
       "      <td>{'id': 275, 'name': '\\u041c\\u0438\\u0445\\u0430\\...</td>\n",
       "      <td>{'link': '/news/2025/01/03', 'value': '03.01.2...</td>\n",
       "      <td>{'link': '/search/empty/', 'value': '11:25', '...</td>\n",
       "      <td>Большинство людей эпохи мезолита из Оленеостро...</td>\n",
       "    </tr>\n",
       "    <tr>\n",
       "      <th>2</th>\n",
       "      <td>\\u0424\\u0438\\u0437\\u0438\\u043a\\u0438 \\u0440\\u0...</td>\n",
       "      <td>\\u041e\\u043d\\u043e \\u043e\\u043a\\u0430\\u0437\\u0...</td>\n",
       "      <td>{'link': '/material/difficulty/2', 'value': 2....</td>\n",
       "      <td>https://nplus1.ru/news/2025/01/03/knitted-fabr...</td>\n",
       "      <td>[{'id': 837, 'name': '\\u0424\\u0438\\u0437\\u0438...</td>\n",
       "      <td>{'id': 470, 'name': '\\u0415\\u0433\\u043e\\u0440 ...</td>\n",
       "      <td>{'link': '/news/2025/01/03', 'value': '03.01.2...</td>\n",
       "      <td>{'link': '/search/empty/', 'value': '09:20', '...</td>\n",
       "      <td>Физики разобрались в состоянии покоя ткани</td>\n",
       "    </tr>\n",
       "  </tbody>\n",
       "</table>\n",
       "</div>"
      ],
      "text/plain": [
       "                                               title  \\\n",
       "0  \\u0422\\u0435\\u043c\\u043f\\u0435\\u0440\\u0430\\u04...   \n",
       "1  \\u0411\\u043e\\u043b\\u044c\\u0448\\u0438\\u043d\\u04...   \n",
       "2  \\u0424\\u0438\\u0437\\u0438\\u043a\\u0438 \\u0440\\u0...   \n",
       "\n",
       "                                            subtitle  \\\n",
       "0  \\u041d\\u043e\\u0432\\u0430\\u044f \\u043e\\u0446\\u0...   \n",
       "1  \\u041e\\u043d\\u0438 \\u0436\\u0438\\u043b\\u0438 \\u...   \n",
       "2  \\u041e\\u043d\\u043e \\u043e\\u043a\\u0430\\u0437\\u0...   \n",
       "\n",
       "                                          difficulty  \\\n",
       "0  {'link': '/material/difficulty/2', 'value': 2....   \n",
       "1  {'link': '/material/difficulty/3', 'value': 3....   \n",
       "2  {'link': '/material/difficulty/2', 'value': 2....   \n",
       "\n",
       "                                                 url  \\\n",
       "0  https://nplus1.ru/news/2025/01/03/shocked-iron...   \n",
       "1  https://nplus1.ru/news/2025/01/03/mesolithic-p...   \n",
       "2  https://nplus1.ru/news/2025/01/03/knitted-fabr...   \n",
       "\n",
       "                                             rubrics  \\\n",
       "0  [{'id': 837, 'name': '\\u0424\\u0438\\u0437\\u0438...   \n",
       "1  [{'id': 844, 'name': '\\u0410\\u0440\\u0445\\u0435...   \n",
       "2  [{'id': 837, 'name': '\\u0424\\u0438\\u0437\\u0438...   \n",
       "\n",
       "                                              author  \\\n",
       "0  {'id': 470, 'name': '\\u0415\\u0433\\u043e\\u0440 ...   \n",
       "1  {'id': 275, 'name': '\\u041c\\u0438\\u0445\\u0430\\...   \n",
       "2  {'id': 470, 'name': '\\u0415\\u0433\\u043e\\u0440 ...   \n",
       "\n",
       "                                                date  \\\n",
       "0  {'link': '/news/2025/01/03', 'value': '03.01.2...   \n",
       "1  {'link': '/news/2025/01/03', 'value': '03.01.2...   \n",
       "2  {'link': '/news/2025/01/03', 'value': '03.01.2...   \n",
       "\n",
       "                                                time  \\\n",
       "0  {'link': '/search/empty/', 'value': '14:15', '...   \n",
       "1  {'link': '/search/empty/', 'value': '11:25', '...   \n",
       "2  {'link': '/search/empty/', 'value': '09:20', '...   \n",
       "\n",
       "                                             title_c  \n",
       "0  Температуру ядра Земли уточнили с помощью лазе...  \n",
       "1  Большинство людей эпохи мезолита из Оленеостро...  \n",
       "2         Физики разобрались в состоянии покоя ткани  "
      ]
     },
     "execution_count": 26,
     "metadata": {},
     "output_type": "execute_result"
    }
   ],
   "source": [
    "# выберем столбец с заголовком новости title\n",
    "# применим ко всем ячейкам lambda-функцию, которая\n",
    "# перекодирует текст в понятный вид\n",
    "\n",
    "small[\"title_c\"] = small[\"title\"].apply(lambda x: x.encode().decode('unicode_escape'))\n",
    "small # см столбцы в конце"
   ]
  },
  {
   "cell_type": "markdown",
   "metadata": {},
   "source": [
    "Перекодируем подзаголовок новости по аналогии с заголовком:"
   ]
  },
  {
   "cell_type": "code",
   "execution_count": 27,
   "metadata": {},
   "outputs": [
    {
     "name": "stderr",
     "output_type": "stream",
     "text": [
      "/opt/anaconda3/lib/python3.7/site-packages/ipykernel_launcher.py:1: SettingWithCopyWarning: \n",
      "A value is trying to be set on a copy of a slice from a DataFrame.\n",
      "Try using .loc[row_indexer,col_indexer] = value instead\n",
      "\n",
      "See the caveats in the documentation: https://pandas.pydata.org/pandas-docs/stable/user_guide/indexing.html#returning-a-view-versus-a-copy\n",
      "  \"\"\"Entry point for launching an IPython kernel.\n"
     ]
    },
    {
     "data": {
      "text/html": [
       "<div>\n",
       "<style scoped>\n",
       "    .dataframe tbody tr th:only-of-type {\n",
       "        vertical-align: middle;\n",
       "    }\n",
       "\n",
       "    .dataframe tbody tr th {\n",
       "        vertical-align: top;\n",
       "    }\n",
       "\n",
       "    .dataframe thead th {\n",
       "        text-align: right;\n",
       "    }\n",
       "</style>\n",
       "<table border=\"1\" class=\"dataframe\">\n",
       "  <thead>\n",
       "    <tr style=\"text-align: right;\">\n",
       "      <th></th>\n",
       "      <th>title</th>\n",
       "      <th>subtitle</th>\n",
       "      <th>difficulty</th>\n",
       "      <th>url</th>\n",
       "      <th>rubrics</th>\n",
       "      <th>author</th>\n",
       "      <th>date</th>\n",
       "      <th>time</th>\n",
       "      <th>title_c</th>\n",
       "      <th>subtitle_c</th>\n",
       "    </tr>\n",
       "  </thead>\n",
       "  <tbody>\n",
       "    <tr>\n",
       "      <th>0</th>\n",
       "      <td>\\u0422\\u0435\\u043c\\u043f\\u0435\\u0440\\u0430\\u04...</td>\n",
       "      <td>\\u041d\\u043e\\u0432\\u0430\\u044f \\u043e\\u0446\\u0...</td>\n",
       "      <td>{'link': '/material/difficulty/2', 'value': 2....</td>\n",
       "      <td>https://nplus1.ru/news/2025/01/03/shocked-iron...</td>\n",
       "      <td>[{'id': 837, 'name': '\\u0424\\u0438\\u0437\\u0438...</td>\n",
       "      <td>{'id': 470, 'name': '\\u0415\\u0433\\u043e\\u0440 ...</td>\n",
       "      <td>{'link': '/news/2025/01/03', 'value': '03.01.2...</td>\n",
       "      <td>{'link': '/search/empty/', 'value': '14:15', '...</td>\n",
       "      <td>Температуру ядра Земли уточнили с помощью лазе...</td>\n",
       "      <td>Новая оценка составила 6202 кельвина</td>\n",
       "    </tr>\n",
       "    <tr>\n",
       "      <th>1</th>\n",
       "      <td>\\u0411\\u043e\\u043b\\u044c\\u0448\\u0438\\u043d\\u04...</td>\n",
       "      <td>\\u041e\\u043d\\u0438 \\u0436\\u0438\\u043b\\u0438 \\u...</td>\n",
       "      <td>{'link': '/material/difficulty/3', 'value': 3....</td>\n",
       "      <td>https://nplus1.ru/news/2025/01/03/mesolithic-p...</td>\n",
       "      <td>[{'id': 844, 'name': '\\u0410\\u0440\\u0445\\u0435...</td>\n",
       "      <td>{'id': 275, 'name': '\\u041c\\u0438\\u0445\\u0430\\...</td>\n",
       "      <td>{'link': '/news/2025/01/03', 'value': '03.01.2...</td>\n",
       "      <td>{'link': '/search/empty/', 'value': '11:25', '...</td>\n",
       "      <td>Большинство людей эпохи мезолита из Оленеостро...</td>\n",
       "      <td>Они жили около восьми тысяч лет назад</td>\n",
       "    </tr>\n",
       "    <tr>\n",
       "      <th>2</th>\n",
       "      <td>\\u0424\\u0438\\u0437\\u0438\\u043a\\u0438 \\u0440\\u0...</td>\n",
       "      <td>\\u041e\\u043d\\u043e \\u043e\\u043a\\u0430\\u0437\\u0...</td>\n",
       "      <td>{'link': '/material/difficulty/2', 'value': 2....</td>\n",
       "      <td>https://nplus1.ru/news/2025/01/03/knitted-fabr...</td>\n",
       "      <td>[{'id': 837, 'name': '\\u0424\\u0438\\u0437\\u0438...</td>\n",
       "      <td>{'id': 470, 'name': '\\u0415\\u0433\\u043e\\u0440 ...</td>\n",
       "      <td>{'link': '/news/2025/01/03', 'value': '03.01.2...</td>\n",
       "      <td>{'link': '/search/empty/', 'value': '09:20', '...</td>\n",
       "      <td>Физики разобрались в состоянии покоя ткани</td>\n",
       "      <td>Оно оказалось не единственным</td>\n",
       "    </tr>\n",
       "  </tbody>\n",
       "</table>\n",
       "</div>"
      ],
      "text/plain": [
       "                                               title  \\\n",
       "0  \\u0422\\u0435\\u043c\\u043f\\u0435\\u0440\\u0430\\u04...   \n",
       "1  \\u0411\\u043e\\u043b\\u044c\\u0448\\u0438\\u043d\\u04...   \n",
       "2  \\u0424\\u0438\\u0437\\u0438\\u043a\\u0438 \\u0440\\u0...   \n",
       "\n",
       "                                            subtitle  \\\n",
       "0  \\u041d\\u043e\\u0432\\u0430\\u044f \\u043e\\u0446\\u0...   \n",
       "1  \\u041e\\u043d\\u0438 \\u0436\\u0438\\u043b\\u0438 \\u...   \n",
       "2  \\u041e\\u043d\\u043e \\u043e\\u043a\\u0430\\u0437\\u0...   \n",
       "\n",
       "                                          difficulty  \\\n",
       "0  {'link': '/material/difficulty/2', 'value': 2....   \n",
       "1  {'link': '/material/difficulty/3', 'value': 3....   \n",
       "2  {'link': '/material/difficulty/2', 'value': 2....   \n",
       "\n",
       "                                                 url  \\\n",
       "0  https://nplus1.ru/news/2025/01/03/shocked-iron...   \n",
       "1  https://nplus1.ru/news/2025/01/03/mesolithic-p...   \n",
       "2  https://nplus1.ru/news/2025/01/03/knitted-fabr...   \n",
       "\n",
       "                                             rubrics  \\\n",
       "0  [{'id': 837, 'name': '\\u0424\\u0438\\u0437\\u0438...   \n",
       "1  [{'id': 844, 'name': '\\u0410\\u0440\\u0445\\u0435...   \n",
       "2  [{'id': 837, 'name': '\\u0424\\u0438\\u0437\\u0438...   \n",
       "\n",
       "                                              author  \\\n",
       "0  {'id': 470, 'name': '\\u0415\\u0433\\u043e\\u0440 ...   \n",
       "1  {'id': 275, 'name': '\\u041c\\u0438\\u0445\\u0430\\...   \n",
       "2  {'id': 470, 'name': '\\u0415\\u0433\\u043e\\u0440 ...   \n",
       "\n",
       "                                                date  \\\n",
       "0  {'link': '/news/2025/01/03', 'value': '03.01.2...   \n",
       "1  {'link': '/news/2025/01/03', 'value': '03.01.2...   \n",
       "2  {'link': '/news/2025/01/03', 'value': '03.01.2...   \n",
       "\n",
       "                                                time  \\\n",
       "0  {'link': '/search/empty/', 'value': '14:15', '...   \n",
       "1  {'link': '/search/empty/', 'value': '11:25', '...   \n",
       "2  {'link': '/search/empty/', 'value': '09:20', '...   \n",
       "\n",
       "                                             title_c  \\\n",
       "0  Температуру ядра Земли уточнили с помощью лазе...   \n",
       "1  Большинство людей эпохи мезолита из Оленеостро...   \n",
       "2         Физики разобрались в состоянии покоя ткани   \n",
       "\n",
       "                              subtitle_c  \n",
       "0   Новая оценка составила 6202 кельвина  \n",
       "1  Они жили около восьми тысяч лет назад  \n",
       "2          Оно оказалось не единственным  "
      ]
     },
     "execution_count": 27,
     "metadata": {},
     "output_type": "execute_result"
    }
   ],
   "source": [
    "small[\"subtitle_c\"] = small[\"subtitle\"].apply(lambda x: x.encode().decode('unicode_escape'))\n",
    "small # см столбцы в конце"
   ]
  },
  {
   "cell_type": "markdown",
   "metadata": {},
   "source": [
    "Заберем из столбца со сложностью только числовое значение сложности. Внутри одной ячейки в столбце `difficulty` – словарь, а значит, из словаря можно забрать запись по подходящему ключу (здесь `value`):"
   ]
  },
  {
   "cell_type": "code",
   "execution_count": 28,
   "metadata": {},
   "outputs": [
    {
     "data": {
      "text/plain": [
       "{'link': '/material/difficulty/2', 'value': 2.9, 'type': 'difficulty'}"
      ]
     },
     "execution_count": 28,
     "metadata": {},
     "output_type": "execute_result"
    }
   ],
   "source": [
    "small[\"difficulty\"][0] # одна ячейка"
   ]
  },
  {
   "cell_type": "code",
   "execution_count": 29,
   "metadata": {},
   "outputs": [
    {
     "name": "stderr",
     "output_type": "stream",
     "text": [
      "/opt/anaconda3/lib/python3.7/site-packages/ipykernel_launcher.py:4: SettingWithCopyWarning: \n",
      "A value is trying to be set on a copy of a slice from a DataFrame.\n",
      "Try using .loc[row_indexer,col_indexer] = value instead\n",
      "\n",
      "See the caveats in the documentation: https://pandas.pydata.org/pandas-docs/stable/user_guide/indexing.html#returning-a-view-versus-a-copy\n",
      "  after removing the cwd from sys.path.\n"
     ]
    },
    {
     "data": {
      "text/html": [
       "<div>\n",
       "<style scoped>\n",
       "    .dataframe tbody tr th:only-of-type {\n",
       "        vertical-align: middle;\n",
       "    }\n",
       "\n",
       "    .dataframe tbody tr th {\n",
       "        vertical-align: top;\n",
       "    }\n",
       "\n",
       "    .dataframe thead th {\n",
       "        text-align: right;\n",
       "    }\n",
       "</style>\n",
       "<table border=\"1\" class=\"dataframe\">\n",
       "  <thead>\n",
       "    <tr style=\"text-align: right;\">\n",
       "      <th></th>\n",
       "      <th>title</th>\n",
       "      <th>subtitle</th>\n",
       "      <th>difficulty</th>\n",
       "      <th>url</th>\n",
       "      <th>rubrics</th>\n",
       "      <th>author</th>\n",
       "      <th>date</th>\n",
       "      <th>time</th>\n",
       "      <th>title_c</th>\n",
       "      <th>subtitle_c</th>\n",
       "      <th>difficulty_c</th>\n",
       "    </tr>\n",
       "  </thead>\n",
       "  <tbody>\n",
       "    <tr>\n",
       "      <th>0</th>\n",
       "      <td>\\u0422\\u0435\\u043c\\u043f\\u0435\\u0440\\u0430\\u04...</td>\n",
       "      <td>\\u041d\\u043e\\u0432\\u0430\\u044f \\u043e\\u0446\\u0...</td>\n",
       "      <td>{'link': '/material/difficulty/2', 'value': 2....</td>\n",
       "      <td>https://nplus1.ru/news/2025/01/03/shocked-iron...</td>\n",
       "      <td>[{'id': 837, 'name': '\\u0424\\u0438\\u0437\\u0438...</td>\n",
       "      <td>{'id': 470, 'name': '\\u0415\\u0433\\u043e\\u0440 ...</td>\n",
       "      <td>{'link': '/news/2025/01/03', 'value': '03.01.2...</td>\n",
       "      <td>{'link': '/search/empty/', 'value': '14:15', '...</td>\n",
       "      <td>Температуру ядра Земли уточнили с помощью лазе...</td>\n",
       "      <td>Новая оценка составила 6202 кельвина</td>\n",
       "      <td>2.9</td>\n",
       "    </tr>\n",
       "    <tr>\n",
       "      <th>1</th>\n",
       "      <td>\\u0411\\u043e\\u043b\\u044c\\u0448\\u0438\\u043d\\u04...</td>\n",
       "      <td>\\u041e\\u043d\\u0438 \\u0436\\u0438\\u043b\\u0438 \\u...</td>\n",
       "      <td>{'link': '/material/difficulty/3', 'value': 3....</td>\n",
       "      <td>https://nplus1.ru/news/2025/01/03/mesolithic-p...</td>\n",
       "      <td>[{'id': 844, 'name': '\\u0410\\u0440\\u0445\\u0435...</td>\n",
       "      <td>{'id': 275, 'name': '\\u041c\\u0438\\u0445\\u0430\\...</td>\n",
       "      <td>{'link': '/news/2025/01/03', 'value': '03.01.2...</td>\n",
       "      <td>{'link': '/search/empty/', 'value': '11:25', '...</td>\n",
       "      <td>Большинство людей эпохи мезолита из Оленеостро...</td>\n",
       "      <td>Они жили около восьми тысяч лет назад</td>\n",
       "      <td>3.1</td>\n",
       "    </tr>\n",
       "    <tr>\n",
       "      <th>2</th>\n",
       "      <td>\\u0424\\u0438\\u0437\\u0438\\u043a\\u0438 \\u0440\\u0...</td>\n",
       "      <td>\\u041e\\u043d\\u043e \\u043e\\u043a\\u0430\\u0437\\u0...</td>\n",
       "      <td>{'link': '/material/difficulty/2', 'value': 2....</td>\n",
       "      <td>https://nplus1.ru/news/2025/01/03/knitted-fabr...</td>\n",
       "      <td>[{'id': 837, 'name': '\\u0424\\u0438\\u0437\\u0438...</td>\n",
       "      <td>{'id': 470, 'name': '\\u0415\\u0433\\u043e\\u0440 ...</td>\n",
       "      <td>{'link': '/news/2025/01/03', 'value': '03.01.2...</td>\n",
       "      <td>{'link': '/search/empty/', 'value': '09:20', '...</td>\n",
       "      <td>Физики разобрались в состоянии покоя ткани</td>\n",
       "      <td>Оно оказалось не единственным</td>\n",
       "      <td>2.3</td>\n",
       "    </tr>\n",
       "  </tbody>\n",
       "</table>\n",
       "</div>"
      ],
      "text/plain": [
       "                                               title  \\\n",
       "0  \\u0422\\u0435\\u043c\\u043f\\u0435\\u0440\\u0430\\u04...   \n",
       "1  \\u0411\\u043e\\u043b\\u044c\\u0448\\u0438\\u043d\\u04...   \n",
       "2  \\u0424\\u0438\\u0437\\u0438\\u043a\\u0438 \\u0440\\u0...   \n",
       "\n",
       "                                            subtitle  \\\n",
       "0  \\u041d\\u043e\\u0432\\u0430\\u044f \\u043e\\u0446\\u0...   \n",
       "1  \\u041e\\u043d\\u0438 \\u0436\\u0438\\u043b\\u0438 \\u...   \n",
       "2  \\u041e\\u043d\\u043e \\u043e\\u043a\\u0430\\u0437\\u0...   \n",
       "\n",
       "                                          difficulty  \\\n",
       "0  {'link': '/material/difficulty/2', 'value': 2....   \n",
       "1  {'link': '/material/difficulty/3', 'value': 3....   \n",
       "2  {'link': '/material/difficulty/2', 'value': 2....   \n",
       "\n",
       "                                                 url  \\\n",
       "0  https://nplus1.ru/news/2025/01/03/shocked-iron...   \n",
       "1  https://nplus1.ru/news/2025/01/03/mesolithic-p...   \n",
       "2  https://nplus1.ru/news/2025/01/03/knitted-fabr...   \n",
       "\n",
       "                                             rubrics  \\\n",
       "0  [{'id': 837, 'name': '\\u0424\\u0438\\u0437\\u0438...   \n",
       "1  [{'id': 844, 'name': '\\u0410\\u0440\\u0445\\u0435...   \n",
       "2  [{'id': 837, 'name': '\\u0424\\u0438\\u0437\\u0438...   \n",
       "\n",
       "                                              author  \\\n",
       "0  {'id': 470, 'name': '\\u0415\\u0433\\u043e\\u0440 ...   \n",
       "1  {'id': 275, 'name': '\\u041c\\u0438\\u0445\\u0430\\...   \n",
       "2  {'id': 470, 'name': '\\u0415\\u0433\\u043e\\u0440 ...   \n",
       "\n",
       "                                                date  \\\n",
       "0  {'link': '/news/2025/01/03', 'value': '03.01.2...   \n",
       "1  {'link': '/news/2025/01/03', 'value': '03.01.2...   \n",
       "2  {'link': '/news/2025/01/03', 'value': '03.01.2...   \n",
       "\n",
       "                                                time  \\\n",
       "0  {'link': '/search/empty/', 'value': '14:15', '...   \n",
       "1  {'link': '/search/empty/', 'value': '11:25', '...   \n",
       "2  {'link': '/search/empty/', 'value': '09:20', '...   \n",
       "\n",
       "                                             title_c  \\\n",
       "0  Температуру ядра Земли уточнили с помощью лазе...   \n",
       "1  Большинство людей эпохи мезолита из Оленеостро...   \n",
       "2         Физики разобрались в состоянии покоя ткани   \n",
       "\n",
       "                              subtitle_c  difficulty_c  \n",
       "0   Новая оценка составила 6202 кельвина           2.9  \n",
       "1  Они жили около восьми тысяч лет назад           3.1  \n",
       "2          Оно оказалось не единственным           2.3  "
      ]
     },
     "execution_count": 29,
     "metadata": {},
     "output_type": "execute_result"
    }
   ],
   "source": [
    "# применяем функцию, которая вытащит value,\n",
    "# обновляем столбец difficulty\n",
    "\n",
    "small[\"difficulty_c\"] = small[\"difficulty\"].apply(lambda x: x.get(\"value\"))\n",
    "small # см столбцы в конце"
   ]
  },
  {
   "cell_type": "markdown",
   "metadata": {},
   "source": [
    "Проделаем то же с датой и временем:"
   ]
  },
  {
   "cell_type": "code",
   "execution_count": 30,
   "metadata": {},
   "outputs": [
    {
     "name": "stderr",
     "output_type": "stream",
     "text": [
      "/opt/anaconda3/lib/python3.7/site-packages/ipykernel_launcher.py:1: SettingWithCopyWarning: \n",
      "A value is trying to be set on a copy of a slice from a DataFrame.\n",
      "Try using .loc[row_indexer,col_indexer] = value instead\n",
      "\n",
      "See the caveats in the documentation: https://pandas.pydata.org/pandas-docs/stable/user_guide/indexing.html#returning-a-view-versus-a-copy\n",
      "  \"\"\"Entry point for launching an IPython kernel.\n",
      "/opt/anaconda3/lib/python3.7/site-packages/ipykernel_launcher.py:2: SettingWithCopyWarning: \n",
      "A value is trying to be set on a copy of a slice from a DataFrame.\n",
      "Try using .loc[row_indexer,col_indexer] = value instead\n",
      "\n",
      "See the caveats in the documentation: https://pandas.pydata.org/pandas-docs/stable/user_guide/indexing.html#returning-a-view-versus-a-copy\n",
      "  \n"
     ]
    },
    {
     "data": {
      "text/html": [
       "<div>\n",
       "<style scoped>\n",
       "    .dataframe tbody tr th:only-of-type {\n",
       "        vertical-align: middle;\n",
       "    }\n",
       "\n",
       "    .dataframe tbody tr th {\n",
       "        vertical-align: top;\n",
       "    }\n",
       "\n",
       "    .dataframe thead th {\n",
       "        text-align: right;\n",
       "    }\n",
       "</style>\n",
       "<table border=\"1\" class=\"dataframe\">\n",
       "  <thead>\n",
       "    <tr style=\"text-align: right;\">\n",
       "      <th></th>\n",
       "      <th>title</th>\n",
       "      <th>subtitle</th>\n",
       "      <th>difficulty</th>\n",
       "      <th>url</th>\n",
       "      <th>rubrics</th>\n",
       "      <th>author</th>\n",
       "      <th>date</th>\n",
       "      <th>time</th>\n",
       "      <th>title_c</th>\n",
       "      <th>subtitle_c</th>\n",
       "      <th>difficulty_c</th>\n",
       "      <th>date_c</th>\n",
       "      <th>time_c</th>\n",
       "    </tr>\n",
       "  </thead>\n",
       "  <tbody>\n",
       "    <tr>\n",
       "      <th>0</th>\n",
       "      <td>\\u0422\\u0435\\u043c\\u043f\\u0435\\u0440\\u0430\\u04...</td>\n",
       "      <td>\\u041d\\u043e\\u0432\\u0430\\u044f \\u043e\\u0446\\u0...</td>\n",
       "      <td>{'link': '/material/difficulty/2', 'value': 2....</td>\n",
       "      <td>https://nplus1.ru/news/2025/01/03/shocked-iron...</td>\n",
       "      <td>[{'id': 837, 'name': '\\u0424\\u0438\\u0437\\u0438...</td>\n",
       "      <td>{'id': 470, 'name': '\\u0415\\u0433\\u043e\\u0440 ...</td>\n",
       "      <td>{'link': '/news/2025/01/03', 'value': '03.01.2...</td>\n",
       "      <td>{'link': '/search/empty/', 'value': '14:15', '...</td>\n",
       "      <td>Температуру ядра Земли уточнили с помощью лазе...</td>\n",
       "      <td>Новая оценка составила 6202 кельвина</td>\n",
       "      <td>2.9</td>\n",
       "      <td>03.01.25</td>\n",
       "      <td>14:15</td>\n",
       "    </tr>\n",
       "    <tr>\n",
       "      <th>1</th>\n",
       "      <td>\\u0411\\u043e\\u043b\\u044c\\u0448\\u0438\\u043d\\u04...</td>\n",
       "      <td>\\u041e\\u043d\\u0438 \\u0436\\u0438\\u043b\\u0438 \\u...</td>\n",
       "      <td>{'link': '/material/difficulty/3', 'value': 3....</td>\n",
       "      <td>https://nplus1.ru/news/2025/01/03/mesolithic-p...</td>\n",
       "      <td>[{'id': 844, 'name': '\\u0410\\u0440\\u0445\\u0435...</td>\n",
       "      <td>{'id': 275, 'name': '\\u041c\\u0438\\u0445\\u0430\\...</td>\n",
       "      <td>{'link': '/news/2025/01/03', 'value': '03.01.2...</td>\n",
       "      <td>{'link': '/search/empty/', 'value': '11:25', '...</td>\n",
       "      <td>Большинство людей эпохи мезолита из Оленеостро...</td>\n",
       "      <td>Они жили около восьми тысяч лет назад</td>\n",
       "      <td>3.1</td>\n",
       "      <td>03.01.25</td>\n",
       "      <td>11:25</td>\n",
       "    </tr>\n",
       "    <tr>\n",
       "      <th>2</th>\n",
       "      <td>\\u0424\\u0438\\u0437\\u0438\\u043a\\u0438 \\u0440\\u0...</td>\n",
       "      <td>\\u041e\\u043d\\u043e \\u043e\\u043a\\u0430\\u0437\\u0...</td>\n",
       "      <td>{'link': '/material/difficulty/2', 'value': 2....</td>\n",
       "      <td>https://nplus1.ru/news/2025/01/03/knitted-fabr...</td>\n",
       "      <td>[{'id': 837, 'name': '\\u0424\\u0438\\u0437\\u0438...</td>\n",
       "      <td>{'id': 470, 'name': '\\u0415\\u0433\\u043e\\u0440 ...</td>\n",
       "      <td>{'link': '/news/2025/01/03', 'value': '03.01.2...</td>\n",
       "      <td>{'link': '/search/empty/', 'value': '09:20', '...</td>\n",
       "      <td>Физики разобрались в состоянии покоя ткани</td>\n",
       "      <td>Оно оказалось не единственным</td>\n",
       "      <td>2.3</td>\n",
       "      <td>03.01.25</td>\n",
       "      <td>09:20</td>\n",
       "    </tr>\n",
       "  </tbody>\n",
       "</table>\n",
       "</div>"
      ],
      "text/plain": [
       "                                               title  \\\n",
       "0  \\u0422\\u0435\\u043c\\u043f\\u0435\\u0440\\u0430\\u04...   \n",
       "1  \\u0411\\u043e\\u043b\\u044c\\u0448\\u0438\\u043d\\u04...   \n",
       "2  \\u0424\\u0438\\u0437\\u0438\\u043a\\u0438 \\u0440\\u0...   \n",
       "\n",
       "                                            subtitle  \\\n",
       "0  \\u041d\\u043e\\u0432\\u0430\\u044f \\u043e\\u0446\\u0...   \n",
       "1  \\u041e\\u043d\\u0438 \\u0436\\u0438\\u043b\\u0438 \\u...   \n",
       "2  \\u041e\\u043d\\u043e \\u043e\\u043a\\u0430\\u0437\\u0...   \n",
       "\n",
       "                                          difficulty  \\\n",
       "0  {'link': '/material/difficulty/2', 'value': 2....   \n",
       "1  {'link': '/material/difficulty/3', 'value': 3....   \n",
       "2  {'link': '/material/difficulty/2', 'value': 2....   \n",
       "\n",
       "                                                 url  \\\n",
       "0  https://nplus1.ru/news/2025/01/03/shocked-iron...   \n",
       "1  https://nplus1.ru/news/2025/01/03/mesolithic-p...   \n",
       "2  https://nplus1.ru/news/2025/01/03/knitted-fabr...   \n",
       "\n",
       "                                             rubrics  \\\n",
       "0  [{'id': 837, 'name': '\\u0424\\u0438\\u0437\\u0438...   \n",
       "1  [{'id': 844, 'name': '\\u0410\\u0440\\u0445\\u0435...   \n",
       "2  [{'id': 837, 'name': '\\u0424\\u0438\\u0437\\u0438...   \n",
       "\n",
       "                                              author  \\\n",
       "0  {'id': 470, 'name': '\\u0415\\u0433\\u043e\\u0440 ...   \n",
       "1  {'id': 275, 'name': '\\u041c\\u0438\\u0445\\u0430\\...   \n",
       "2  {'id': 470, 'name': '\\u0415\\u0433\\u043e\\u0440 ...   \n",
       "\n",
       "                                                date  \\\n",
       "0  {'link': '/news/2025/01/03', 'value': '03.01.2...   \n",
       "1  {'link': '/news/2025/01/03', 'value': '03.01.2...   \n",
       "2  {'link': '/news/2025/01/03', 'value': '03.01.2...   \n",
       "\n",
       "                                                time  \\\n",
       "0  {'link': '/search/empty/', 'value': '14:15', '...   \n",
       "1  {'link': '/search/empty/', 'value': '11:25', '...   \n",
       "2  {'link': '/search/empty/', 'value': '09:20', '...   \n",
       "\n",
       "                                             title_c  \\\n",
       "0  Температуру ядра Земли уточнили с помощью лазе...   \n",
       "1  Большинство людей эпохи мезолита из Оленеостро...   \n",
       "2         Физики разобрались в состоянии покоя ткани   \n",
       "\n",
       "                              subtitle_c  difficulty_c    date_c time_c  \n",
       "0   Новая оценка составила 6202 кельвина           2.9  03.01.25  14:15  \n",
       "1  Они жили около восьми тысяч лет назад           3.1  03.01.25  11:25  \n",
       "2          Оно оказалось не единственным           2.3  03.01.25  09:20  "
      ]
     },
     "execution_count": 30,
     "metadata": {},
     "output_type": "execute_result"
    }
   ],
   "source": [
    "small[\"date_c\"] = small[\"date\"].apply(lambda x: x.get(\"value\"))\n",
    "small[\"time_c\"] = small[\"time\"].apply(lambda x: x.get(\"value\"))\n",
    "small # см столбцы в конце"
   ]
  },
  {
   "cell_type": "markdown",
   "metadata": {},
   "source": [
    "Теперь извлечем имя автора – только его нужно еще перекодировать:"
   ]
  },
  {
   "cell_type": "code",
   "execution_count": 31,
   "metadata": {},
   "outputs": [
    {
     "name": "stderr",
     "output_type": "stream",
     "text": [
      "/opt/anaconda3/lib/python3.7/site-packages/ipykernel_launcher.py:1: SettingWithCopyWarning: \n",
      "A value is trying to be set on a copy of a slice from a DataFrame.\n",
      "Try using .loc[row_indexer,col_indexer] = value instead\n",
      "\n",
      "See the caveats in the documentation: https://pandas.pydata.org/pandas-docs/stable/user_guide/indexing.html#returning-a-view-versus-a-copy\n",
      "  \"\"\"Entry point for launching an IPython kernel.\n"
     ]
    },
    {
     "data": {
      "text/html": [
       "<div>\n",
       "<style scoped>\n",
       "    .dataframe tbody tr th:only-of-type {\n",
       "        vertical-align: middle;\n",
       "    }\n",
       "\n",
       "    .dataframe tbody tr th {\n",
       "        vertical-align: top;\n",
       "    }\n",
       "\n",
       "    .dataframe thead th {\n",
       "        text-align: right;\n",
       "    }\n",
       "</style>\n",
       "<table border=\"1\" class=\"dataframe\">\n",
       "  <thead>\n",
       "    <tr style=\"text-align: right;\">\n",
       "      <th></th>\n",
       "      <th>title</th>\n",
       "      <th>subtitle</th>\n",
       "      <th>difficulty</th>\n",
       "      <th>url</th>\n",
       "      <th>rubrics</th>\n",
       "      <th>author</th>\n",
       "      <th>date</th>\n",
       "      <th>time</th>\n",
       "      <th>title_c</th>\n",
       "      <th>subtitle_c</th>\n",
       "      <th>difficulty_c</th>\n",
       "      <th>date_c</th>\n",
       "      <th>time_c</th>\n",
       "      <th>author_c</th>\n",
       "    </tr>\n",
       "  </thead>\n",
       "  <tbody>\n",
       "    <tr>\n",
       "      <th>0</th>\n",
       "      <td>\\u0422\\u0435\\u043c\\u043f\\u0435\\u0440\\u0430\\u04...</td>\n",
       "      <td>\\u041d\\u043e\\u0432\\u0430\\u044f \\u043e\\u0446\\u0...</td>\n",
       "      <td>{'link': '/material/difficulty/2', 'value': 2....</td>\n",
       "      <td>https://nplus1.ru/news/2025/01/03/shocked-iron...</td>\n",
       "      <td>[{'id': 837, 'name': '\\u0424\\u0438\\u0437\\u0438...</td>\n",
       "      <td>{'id': 470, 'name': '\\u0415\\u0433\\u043e\\u0440 ...</td>\n",
       "      <td>{'link': '/news/2025/01/03', 'value': '03.01.2...</td>\n",
       "      <td>{'link': '/search/empty/', 'value': '14:15', '...</td>\n",
       "      <td>Температуру ядра Земли уточнили с помощью лазе...</td>\n",
       "      <td>Новая оценка составила 6202 кельвина</td>\n",
       "      <td>2.9</td>\n",
       "      <td>03.01.25</td>\n",
       "      <td>14:15</td>\n",
       "      <td>Егор Конюхов</td>\n",
       "    </tr>\n",
       "    <tr>\n",
       "      <th>1</th>\n",
       "      <td>\\u0411\\u043e\\u043b\\u044c\\u0448\\u0438\\u043d\\u04...</td>\n",
       "      <td>\\u041e\\u043d\\u0438 \\u0436\\u0438\\u043b\\u0438 \\u...</td>\n",
       "      <td>{'link': '/material/difficulty/3', 'value': 3....</td>\n",
       "      <td>https://nplus1.ru/news/2025/01/03/mesolithic-p...</td>\n",
       "      <td>[{'id': 844, 'name': '\\u0410\\u0440\\u0445\\u0435...</td>\n",
       "      <td>{'id': 275, 'name': '\\u041c\\u0438\\u0445\\u0430\\...</td>\n",
       "      <td>{'link': '/news/2025/01/03', 'value': '03.01.2...</td>\n",
       "      <td>{'link': '/search/empty/', 'value': '11:25', '...</td>\n",
       "      <td>Большинство людей эпохи мезолита из Оленеостро...</td>\n",
       "      <td>Они жили около восьми тысяч лет назад</td>\n",
       "      <td>3.1</td>\n",
       "      <td>03.01.25</td>\n",
       "      <td>11:25</td>\n",
       "      <td>Михаил Подрезов</td>\n",
       "    </tr>\n",
       "    <tr>\n",
       "      <th>2</th>\n",
       "      <td>\\u0424\\u0438\\u0437\\u0438\\u043a\\u0438 \\u0440\\u0...</td>\n",
       "      <td>\\u041e\\u043d\\u043e \\u043e\\u043a\\u0430\\u0437\\u0...</td>\n",
       "      <td>{'link': '/material/difficulty/2', 'value': 2....</td>\n",
       "      <td>https://nplus1.ru/news/2025/01/03/knitted-fabr...</td>\n",
       "      <td>[{'id': 837, 'name': '\\u0424\\u0438\\u0437\\u0438...</td>\n",
       "      <td>{'id': 470, 'name': '\\u0415\\u0433\\u043e\\u0440 ...</td>\n",
       "      <td>{'link': '/news/2025/01/03', 'value': '03.01.2...</td>\n",
       "      <td>{'link': '/search/empty/', 'value': '09:20', '...</td>\n",
       "      <td>Физики разобрались в состоянии покоя ткани</td>\n",
       "      <td>Оно оказалось не единственным</td>\n",
       "      <td>2.3</td>\n",
       "      <td>03.01.25</td>\n",
       "      <td>09:20</td>\n",
       "      <td>Егор Конюхов</td>\n",
       "    </tr>\n",
       "  </tbody>\n",
       "</table>\n",
       "</div>"
      ],
      "text/plain": [
       "                                               title  \\\n",
       "0  \\u0422\\u0435\\u043c\\u043f\\u0435\\u0440\\u0430\\u04...   \n",
       "1  \\u0411\\u043e\\u043b\\u044c\\u0448\\u0438\\u043d\\u04...   \n",
       "2  \\u0424\\u0438\\u0437\\u0438\\u043a\\u0438 \\u0440\\u0...   \n",
       "\n",
       "                                            subtitle  \\\n",
       "0  \\u041d\\u043e\\u0432\\u0430\\u044f \\u043e\\u0446\\u0...   \n",
       "1  \\u041e\\u043d\\u0438 \\u0436\\u0438\\u043b\\u0438 \\u...   \n",
       "2  \\u041e\\u043d\\u043e \\u043e\\u043a\\u0430\\u0437\\u0...   \n",
       "\n",
       "                                          difficulty  \\\n",
       "0  {'link': '/material/difficulty/2', 'value': 2....   \n",
       "1  {'link': '/material/difficulty/3', 'value': 3....   \n",
       "2  {'link': '/material/difficulty/2', 'value': 2....   \n",
       "\n",
       "                                                 url  \\\n",
       "0  https://nplus1.ru/news/2025/01/03/shocked-iron...   \n",
       "1  https://nplus1.ru/news/2025/01/03/mesolithic-p...   \n",
       "2  https://nplus1.ru/news/2025/01/03/knitted-fabr...   \n",
       "\n",
       "                                             rubrics  \\\n",
       "0  [{'id': 837, 'name': '\\u0424\\u0438\\u0437\\u0438...   \n",
       "1  [{'id': 844, 'name': '\\u0410\\u0440\\u0445\\u0435...   \n",
       "2  [{'id': 837, 'name': '\\u0424\\u0438\\u0437\\u0438...   \n",
       "\n",
       "                                              author  \\\n",
       "0  {'id': 470, 'name': '\\u0415\\u0433\\u043e\\u0440 ...   \n",
       "1  {'id': 275, 'name': '\\u041c\\u0438\\u0445\\u0430\\...   \n",
       "2  {'id': 470, 'name': '\\u0415\\u0433\\u043e\\u0440 ...   \n",
       "\n",
       "                                                date  \\\n",
       "0  {'link': '/news/2025/01/03', 'value': '03.01.2...   \n",
       "1  {'link': '/news/2025/01/03', 'value': '03.01.2...   \n",
       "2  {'link': '/news/2025/01/03', 'value': '03.01.2...   \n",
       "\n",
       "                                                time  \\\n",
       "0  {'link': '/search/empty/', 'value': '14:15', '...   \n",
       "1  {'link': '/search/empty/', 'value': '11:25', '...   \n",
       "2  {'link': '/search/empty/', 'value': '09:20', '...   \n",
       "\n",
       "                                             title_c  \\\n",
       "0  Температуру ядра Земли уточнили с помощью лазе...   \n",
       "1  Большинство людей эпохи мезолита из Оленеостро...   \n",
       "2         Физики разобрались в состоянии покоя ткани   \n",
       "\n",
       "                              subtitle_c  difficulty_c    date_c time_c  \\\n",
       "0   Новая оценка составила 6202 кельвина           2.9  03.01.25  14:15   \n",
       "1  Они жили около восьми тысяч лет назад           3.1  03.01.25  11:25   \n",
       "2          Оно оказалось не единственным           2.3  03.01.25  09:20   \n",
       "\n",
       "          author_c  \n",
       "0     Егор Конюхов  \n",
       "1  Михаил Подрезов  \n",
       "2     Егор Конюхов  "
      ]
     },
     "execution_count": 31,
     "metadata": {},
     "output_type": "execute_result"
    }
   ],
   "source": [
    "small[\"author_c\"] = small[\"author\"].apply(lambda x: \n",
    "                                          x.get(\"name\").encode().decode('unicode_escape'))\n",
    "small # см столбцы в конце"
   ]
  },
  {
   "cell_type": "markdown",
   "metadata": {},
   "source": [
    "Проделаем то же с рубриками. Однако здесь стоит учесть, что рубрик может быть несколько, поэтому в одной ячейке столбца не один словарь, а список словарей:"
   ]
  },
  {
   "cell_type": "code",
   "execution_count": 32,
   "metadata": {},
   "outputs": [
    {
     "data": {
      "text/plain": [
       "[{'id': 837,\n",
       "  'name': '\\\\u0424\\\\u0438\\\\u0437\\\\u0438\\\\u043a\\\\u0430',\n",
       "  'link': 'https://nplus1.ru/search?tags=869',\n",
       "  'type': 'rubric'}]"
      ]
     },
     "execution_count": 32,
     "metadata": {},
     "output_type": "execute_result"
    }
   ],
   "source": [
    "# даже если рубрика одна, все равно список – для универсальности\n",
    "small[\"rubrics\"][0]"
   ]
  },
  {
   "cell_type": "markdown",
   "metadata": {},
   "source": [
    "Напишем отдельную функцию, которая извлекает из такого списка все словари, а из каждого словаря – рубрику:"
   ]
  },
  {
   "cell_type": "code",
   "execution_count": 33,
   "metadata": {},
   "outputs": [],
   "source": [
    "# rubrics – список из рубрик в непонятном виде\n",
    "# joined – одна строка с рубриками через запятую с пробелом\n",
    "# decoded – одна строка с рубриками через запятую с пробелом, уже в понятном виде\n",
    "\n",
    "def get_rubs(rubs_list):\n",
    "    rubrics = [r.get(\"name\") for r in rubs_list]\n",
    "    joined = \", \".join(rubrics)\n",
    "    decoded = joined.encode().decode('unicode_escape')\n",
    "    return decoded"
   ]
  },
  {
   "cell_type": "code",
   "execution_count": 34,
   "metadata": {},
   "outputs": [
    {
     "name": "stderr",
     "output_type": "stream",
     "text": [
      "/opt/anaconda3/lib/python3.7/site-packages/ipykernel_launcher.py:1: SettingWithCopyWarning: \n",
      "A value is trying to be set on a copy of a slice from a DataFrame.\n",
      "Try using .loc[row_indexer,col_indexer] = value instead\n",
      "\n",
      "See the caveats in the documentation: https://pandas.pydata.org/pandas-docs/stable/user_guide/indexing.html#returning-a-view-versus-a-copy\n",
      "  \"\"\"Entry point for launching an IPython kernel.\n"
     ]
    },
    {
     "data": {
      "text/html": [
       "<div>\n",
       "<style scoped>\n",
       "    .dataframe tbody tr th:only-of-type {\n",
       "        vertical-align: middle;\n",
       "    }\n",
       "\n",
       "    .dataframe tbody tr th {\n",
       "        vertical-align: top;\n",
       "    }\n",
       "\n",
       "    .dataframe thead th {\n",
       "        text-align: right;\n",
       "    }\n",
       "</style>\n",
       "<table border=\"1\" class=\"dataframe\">\n",
       "  <thead>\n",
       "    <tr style=\"text-align: right;\">\n",
       "      <th></th>\n",
       "      <th>title</th>\n",
       "      <th>subtitle</th>\n",
       "      <th>difficulty</th>\n",
       "      <th>url</th>\n",
       "      <th>rubrics</th>\n",
       "      <th>author</th>\n",
       "      <th>date</th>\n",
       "      <th>time</th>\n",
       "      <th>title_c</th>\n",
       "      <th>subtitle_c</th>\n",
       "      <th>difficulty_c</th>\n",
       "      <th>date_c</th>\n",
       "      <th>time_c</th>\n",
       "      <th>author_c</th>\n",
       "      <th>rubrics_c</th>\n",
       "    </tr>\n",
       "  </thead>\n",
       "  <tbody>\n",
       "    <tr>\n",
       "      <th>0</th>\n",
       "      <td>\\u0422\\u0435\\u043c\\u043f\\u0435\\u0440\\u0430\\u04...</td>\n",
       "      <td>\\u041d\\u043e\\u0432\\u0430\\u044f \\u043e\\u0446\\u0...</td>\n",
       "      <td>{'link': '/material/difficulty/2', 'value': 2....</td>\n",
       "      <td>https://nplus1.ru/news/2025/01/03/shocked-iron...</td>\n",
       "      <td>[{'id': 837, 'name': '\\u0424\\u0438\\u0437\\u0438...</td>\n",
       "      <td>{'id': 470, 'name': '\\u0415\\u0433\\u043e\\u0440 ...</td>\n",
       "      <td>{'link': '/news/2025/01/03', 'value': '03.01.2...</td>\n",
       "      <td>{'link': '/search/empty/', 'value': '14:15', '...</td>\n",
       "      <td>Температуру ядра Земли уточнили с помощью лазе...</td>\n",
       "      <td>Новая оценка составила 6202 кельвина</td>\n",
       "      <td>2.9</td>\n",
       "      <td>03.01.25</td>\n",
       "      <td>14:15</td>\n",
       "      <td>Егор Конюхов</td>\n",
       "      <td>Физика</td>\n",
       "    </tr>\n",
       "    <tr>\n",
       "      <th>1</th>\n",
       "      <td>\\u0411\\u043e\\u043b\\u044c\\u0448\\u0438\\u043d\\u04...</td>\n",
       "      <td>\\u041e\\u043d\\u0438 \\u0436\\u0438\\u043b\\u0438 \\u...</td>\n",
       "      <td>{'link': '/material/difficulty/3', 'value': 3....</td>\n",
       "      <td>https://nplus1.ru/news/2025/01/03/mesolithic-p...</td>\n",
       "      <td>[{'id': 844, 'name': '\\u0410\\u0440\\u0445\\u0435...</td>\n",
       "      <td>{'id': 275, 'name': '\\u041c\\u0438\\u0445\\u0430\\...</td>\n",
       "      <td>{'link': '/news/2025/01/03', 'value': '03.01.2...</td>\n",
       "      <td>{'link': '/search/empty/', 'value': '11:25', '...</td>\n",
       "      <td>Большинство людей эпохи мезолита из Оленеостро...</td>\n",
       "      <td>Они жили около восьми тысяч лет назад</td>\n",
       "      <td>3.1</td>\n",
       "      <td>03.01.25</td>\n",
       "      <td>11:25</td>\n",
       "      <td>Михаил Подрезов</td>\n",
       "      <td>Археология</td>\n",
       "    </tr>\n",
       "    <tr>\n",
       "      <th>2</th>\n",
       "      <td>\\u0424\\u0438\\u0437\\u0438\\u043a\\u0438 \\u0440\\u0...</td>\n",
       "      <td>\\u041e\\u043d\\u043e \\u043e\\u043a\\u0430\\u0437\\u0...</td>\n",
       "      <td>{'link': '/material/difficulty/2', 'value': 2....</td>\n",
       "      <td>https://nplus1.ru/news/2025/01/03/knitted-fabr...</td>\n",
       "      <td>[{'id': 837, 'name': '\\u0424\\u0438\\u0437\\u0438...</td>\n",
       "      <td>{'id': 470, 'name': '\\u0415\\u0433\\u043e\\u0440 ...</td>\n",
       "      <td>{'link': '/news/2025/01/03', 'value': '03.01.2...</td>\n",
       "      <td>{'link': '/search/empty/', 'value': '09:20', '...</td>\n",
       "      <td>Физики разобрались в состоянии покоя ткани</td>\n",
       "      <td>Оно оказалось не единственным</td>\n",
       "      <td>2.3</td>\n",
       "      <td>03.01.25</td>\n",
       "      <td>09:20</td>\n",
       "      <td>Егор Конюхов</td>\n",
       "      <td>Физика</td>\n",
       "    </tr>\n",
       "  </tbody>\n",
       "</table>\n",
       "</div>"
      ],
      "text/plain": [
       "                                               title  \\\n",
       "0  \\u0422\\u0435\\u043c\\u043f\\u0435\\u0440\\u0430\\u04...   \n",
       "1  \\u0411\\u043e\\u043b\\u044c\\u0448\\u0438\\u043d\\u04...   \n",
       "2  \\u0424\\u0438\\u0437\\u0438\\u043a\\u0438 \\u0440\\u0...   \n",
       "\n",
       "                                            subtitle  \\\n",
       "0  \\u041d\\u043e\\u0432\\u0430\\u044f \\u043e\\u0446\\u0...   \n",
       "1  \\u041e\\u043d\\u0438 \\u0436\\u0438\\u043b\\u0438 \\u...   \n",
       "2  \\u041e\\u043d\\u043e \\u043e\\u043a\\u0430\\u0437\\u0...   \n",
       "\n",
       "                                          difficulty  \\\n",
       "0  {'link': '/material/difficulty/2', 'value': 2....   \n",
       "1  {'link': '/material/difficulty/3', 'value': 3....   \n",
       "2  {'link': '/material/difficulty/2', 'value': 2....   \n",
       "\n",
       "                                                 url  \\\n",
       "0  https://nplus1.ru/news/2025/01/03/shocked-iron...   \n",
       "1  https://nplus1.ru/news/2025/01/03/mesolithic-p...   \n",
       "2  https://nplus1.ru/news/2025/01/03/knitted-fabr...   \n",
       "\n",
       "                                             rubrics  \\\n",
       "0  [{'id': 837, 'name': '\\u0424\\u0438\\u0437\\u0438...   \n",
       "1  [{'id': 844, 'name': '\\u0410\\u0440\\u0445\\u0435...   \n",
       "2  [{'id': 837, 'name': '\\u0424\\u0438\\u0437\\u0438...   \n",
       "\n",
       "                                              author  \\\n",
       "0  {'id': 470, 'name': '\\u0415\\u0433\\u043e\\u0440 ...   \n",
       "1  {'id': 275, 'name': '\\u041c\\u0438\\u0445\\u0430\\...   \n",
       "2  {'id': 470, 'name': '\\u0415\\u0433\\u043e\\u0440 ...   \n",
       "\n",
       "                                                date  \\\n",
       "0  {'link': '/news/2025/01/03', 'value': '03.01.2...   \n",
       "1  {'link': '/news/2025/01/03', 'value': '03.01.2...   \n",
       "2  {'link': '/news/2025/01/03', 'value': '03.01.2...   \n",
       "\n",
       "                                                time  \\\n",
       "0  {'link': '/search/empty/', 'value': '14:15', '...   \n",
       "1  {'link': '/search/empty/', 'value': '11:25', '...   \n",
       "2  {'link': '/search/empty/', 'value': '09:20', '...   \n",
       "\n",
       "                                             title_c  \\\n",
       "0  Температуру ядра Земли уточнили с помощью лазе...   \n",
       "1  Большинство людей эпохи мезолита из Оленеостро...   \n",
       "2         Физики разобрались в состоянии покоя ткани   \n",
       "\n",
       "                              subtitle_c  difficulty_c    date_c time_c  \\\n",
       "0   Новая оценка составила 6202 кельвина           2.9  03.01.25  14:15   \n",
       "1  Они жили около восьми тысяч лет назад           3.1  03.01.25  11:25   \n",
       "2          Оно оказалось не единственным           2.3  03.01.25  09:20   \n",
       "\n",
       "          author_c   rubrics_c  \n",
       "0     Егор Конюхов      Физика  \n",
       "1  Михаил Подрезов  Археология  \n",
       "2     Егор Конюхов      Физика  "
      ]
     },
     "execution_count": 34,
     "metadata": {},
     "output_type": "execute_result"
    }
   ],
   "source": [
    "small[\"rubrics_c\"] = small[\"rubrics\"].apply(get_rubs)\n",
    "small # см столбцы в конце"
   ]
  },
  {
   "cell_type": "markdown",
   "metadata": {},
   "source": [
    "Всё! Можем выбрать только новые столбцы с «чистой» информацией:"
   ]
  },
  {
   "cell_type": "code",
   "execution_count": 35,
   "metadata": {},
   "outputs": [
    {
     "data": {
      "text/html": [
       "<div>\n",
       "<style scoped>\n",
       "    .dataframe tbody tr th:only-of-type {\n",
       "        vertical-align: middle;\n",
       "    }\n",
       "\n",
       "    .dataframe tbody tr th {\n",
       "        vertical-align: top;\n",
       "    }\n",
       "\n",
       "    .dataframe thead th {\n",
       "        text-align: right;\n",
       "    }\n",
       "</style>\n",
       "<table border=\"1\" class=\"dataframe\">\n",
       "  <thead>\n",
       "    <tr style=\"text-align: right;\">\n",
       "      <th></th>\n",
       "      <th>title_c</th>\n",
       "      <th>subtitle_c</th>\n",
       "      <th>difficulty_c</th>\n",
       "      <th>date_c</th>\n",
       "      <th>time_c</th>\n",
       "      <th>author_c</th>\n",
       "      <th>rubrics_c</th>\n",
       "    </tr>\n",
       "  </thead>\n",
       "  <tbody>\n",
       "    <tr>\n",
       "      <th>0</th>\n",
       "      <td>Температуру ядра Земли уточнили с помощью лазе...</td>\n",
       "      <td>Новая оценка составила 6202 кельвина</td>\n",
       "      <td>2.9</td>\n",
       "      <td>03.01.25</td>\n",
       "      <td>14:15</td>\n",
       "      <td>Егор Конюхов</td>\n",
       "      <td>Физика</td>\n",
       "    </tr>\n",
       "    <tr>\n",
       "      <th>1</th>\n",
       "      <td>Большинство людей эпохи мезолита из Оленеостро...</td>\n",
       "      <td>Они жили около восьми тысяч лет назад</td>\n",
       "      <td>3.1</td>\n",
       "      <td>03.01.25</td>\n",
       "      <td>11:25</td>\n",
       "      <td>Михаил Подрезов</td>\n",
       "      <td>Археология</td>\n",
       "    </tr>\n",
       "    <tr>\n",
       "      <th>2</th>\n",
       "      <td>Физики разобрались в состоянии покоя ткани</td>\n",
       "      <td>Оно оказалось не единственным</td>\n",
       "      <td>2.3</td>\n",
       "      <td>03.01.25</td>\n",
       "      <td>09:20</td>\n",
       "      <td>Егор Конюхов</td>\n",
       "      <td>Физика</td>\n",
       "    </tr>\n",
       "  </tbody>\n",
       "</table>\n",
       "</div>"
      ],
      "text/plain": [
       "                                             title_c  \\\n",
       "0  Температуру ядра Земли уточнили с помощью лазе...   \n",
       "1  Большинство людей эпохи мезолита из Оленеостро...   \n",
       "2         Физики разобрались в состоянии покоя ткани   \n",
       "\n",
       "                              subtitle_c  difficulty_c    date_c time_c  \\\n",
       "0   Новая оценка составила 6202 кельвина           2.9  03.01.25  14:15   \n",
       "1  Они жили около восьми тысяч лет назад           3.1  03.01.25  11:25   \n",
       "2          Оно оказалось не единственным           2.3  03.01.25  09:20   \n",
       "\n",
       "          author_c   rubrics_c  \n",
       "0     Егор Конюхов      Физика  \n",
       "1  Михаил Подрезов  Археология  \n",
       "2     Егор Конюхов      Физика  "
      ]
     },
     "execution_count": 35,
     "metadata": {},
     "output_type": "execute_result"
    }
   ],
   "source": [
    "tochno_final = small[[\"title_c\", \"subtitle_c\", \"difficulty_c\", \n",
    "                      \"date_c\", \"time_c\", \"author_c\", \"rubrics_c\"]]\n",
    "tochno_final"
   ]
  },
  {
   "cell_type": "markdown",
   "metadata": {},
   "source": [
    "В целом, если нам сам текст новостей не очень нужен, мы можем написать функцию, которая по ссылке на конкретную дату возвращает таблицу с полным описанием всех новостей :)"
   ]
  },
  {
   "cell_type": "markdown",
   "metadata": {},
   "source": [
    "P.S. На предупреждение на красном фоне можно не обращать внимание, pandas сообщает нам, что в более новых версиях библиотеки при использовании `.apply()` для создания новых столбцов на основе старых лучше выбирать столбцы более сложным образом. Но пока все работает, предлагаю просто выключить это предупреждение – можете добавить эту строчку в начало файла после импорта `pandas`:\n",
    "\n",
    "    pd.set_option('chained_assignment', None)"
   ]
  }
 ],
 "metadata": {
  "kernelspec": {
   "display_name": "Python 3",
   "language": "python",
   "name": "python3"
  },
  "language_info": {
   "codemirror_mode": {
    "name": "ipython",
    "version": 3
   },
   "file_extension": ".py",
   "mimetype": "text/x-python",
   "name": "python",
   "nbconvert_exporter": "python",
   "pygments_lexer": "ipython3",
   "version": "3.7.4"
  }
 },
 "nbformat": 4,
 "nbformat_minor": 2
}

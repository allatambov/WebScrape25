{
 "cells": [
  {
   "cell_type": "markdown",
   "metadata": {},
   "source": [
    "# Web-scraping: сбор данных из баз данных и интернет-источников\n",
    "\n",
    "*Алла Тамбовцева*\n",
    "\n",
    "\n",
    "## Практикум 5. Управление браузером с Selenium: продолжение"
   ]
  },
  {
   "cell_type": "markdown",
   "metadata": {},
   "source": [
    "Импортируем всё необходимое – это все модули, библиотеки и функции, которые мы успели изучить на данный момент:"
   ]
  },
  {
   "cell_type": "code",
   "execution_count": null,
   "metadata": {},
   "outputs": [],
   "source": [
    "import re\n",
    "import requests\n",
    "import pandas as pd\n",
    "\n",
    "from selenium import webdriver as wd\n",
    "from selenium.webdriver.common.by import By\n",
    "from selenium.webdriver.common.keys import Keys\n",
    "from bs4 import BeautifulSoup"
   ]
  },
  {
   "cell_type": "markdown",
   "metadata": {},
   "source": [
    "Вспомним, на чем мы остановились в прошлый раз. Запустим код, который открывает окно браузера через Selenium, переходит на главную страницу книжного магазина «Библио-Глобус», вводит в строку поиска запрос *python* и сохраняет карточки с товарами в виде объектов BeautifulSoup:"
   ]
  },
  {
   "cell_type": "code",
   "execution_count": null,
   "metadata": {},
   "outputs": [],
   "source": [
    "# чтобы все можно было запускать сразу (не в отдельных ячейках)\n",
    "# и не беспокоиться о том, что страница не прогрузится,\n",
    "# добавляем время ожидания через implicitly_wait()\n",
    "\n",
    "br = wd.Chrome()\n",
    "br.maximize_window()\n",
    "\n",
    "br.get(\"https://www.biblio-globus.ru/\")\n",
    "br.implicitly_wait(5)\n",
    "\n",
    "search = br.find_element(By.ID, \"SearchBooks\")\n",
    "search.send_keys(\"python\")\n",
    "br.implicitly_wait(2)\n",
    "\n",
    "search.send_keys(Keys.ENTER)\n",
    "br.implicitly_wait(2)\n",
    "\n",
    "options = br.find_element(By.TAG_NAME, \"select\")\n",
    "options.send_keys(\" Сначала дешевле \")\n",
    "tick = br.find_element(By.CLASS_NAME, \"custom-control-label\")\n",
    "tick.click()\n",
    "br.implicitly_wait(2)\n",
    "\n",
    "html = br.page_source\n",
    "soup = BeautifulSoup(html)\n",
    "cards = soup.find_all(\"div\", class_ = \"card\")"
   ]
  },
  {
   "cell_type": "markdown",
   "metadata": {},
   "source": [
    "### Задача 0\n",
    "\n",
    "Для бодрого начала сделайте скриншот той страницы, которая сейчас открыта в окне браузера, запущенном через Selenium, используя \n",
    "метод `.save_screenshot()`."
   ]
  },
  {
   "cell_type": "code",
   "execution_count": null,
   "metadata": {},
   "outputs": [],
   "source": [
    "### YOUR CODE HERE ###"
   ]
  },
  {
   "cell_type": "markdown",
   "metadata": {},
   "source": [
    "### Задача 1\n",
    "\n",
    "Напишите функцию `get_cards()`, которая принимает на вход строку с кодом HTML, соответствующим странице с результатами запроса (пока это первая страница результатов), и возвращает список объектов BeautifulSoup с карточками товаров (как `cards` выше). "
   ]
  },
  {
   "cell_type": "code",
   "execution_count": null,
   "metadata": {},
   "outputs": [],
   "source": [
    "### YOUR CODE HERE ###"
   ]
  },
  {
   "cell_type": "markdown",
   "metadata": {},
   "source": [
    "### Задача 2\n",
    "\n",
    "Найдите фрагмент (объект типа `WebElement` в Selenium) с кнопкой, которая позволяет переходить на *следующую* страницу поиска, и сохраните его в переменную `next_page`. Найдите фрагмент с кнопкой , которая позволяет переходить на *последнюю* страницу поиска, и сохраните его в переменную `last_page`."
   ]
  },
  {
   "cell_type": "code",
   "execution_count": null,
   "metadata": {},
   "outputs": [],
   "source": [
    "### YOUR CODE HERE ###"
   ]
  },
  {
   "cell_type": "markdown",
   "metadata": {},
   "source": [
    "### Задача 3\n",
    "\n",
    "Используя метод `.get_attribute()`, извлеките из `last_page` ссылку на последнюю страницу поиска, сохраните ее в переменную `last_href`."
   ]
  },
  {
   "cell_type": "code",
   "execution_count": null,
   "metadata": {},
   "outputs": [],
   "source": [
    "### YOUR CODE HERE ###"
   ]
  },
  {
   "cell_type": "markdown",
   "metadata": {},
   "source": [
    "### Задача 4\n",
    "\n",
    "Используя регулярные выражения, извлеките из `last_href` номер последней страницы с результатами поиска и превратите результат в целое число (тип `integer`)."
   ]
  },
  {
   "cell_type": "code",
   "execution_count": null,
   "metadata": {},
   "outputs": [],
   "source": [
    "### YOUR CODE HERE ###"
   ]
  },
  {
   "cell_type": "markdown",
   "metadata": {},
   "source": [
    "### Задача 5\n",
    "\n",
    "Допишите код ниже таким образом, чтобы все страницы с результатами поиска прокликались в открытом окне браузера, а в `full_res` оказались все карточки с товарами."
   ]
  },
  {
   "cell_type": "code",
   "execution_count": null,
   "metadata": {},
   "outputs": [],
   "source": [
    "full_res = cards.copy()\n",
    "\n",
    "for i in range(0, last_n - 1):\n",
    "    \n",
    "    ### YOUR CODE HERE ###"
   ]
  },
  {
   "cell_type": "markdown",
   "metadata": {},
   "source": [
    "### Задача 6\n",
    "\n",
    "Изучите элементы списка `full_res` и придумайте способ, который позволит универсальным образом различать карточки с товарами и «пустые» карточки с фрагментами меню. \n",
    "\n",
    "Подсказка: сравните атрибуты у первого и второго элемента в `full_res`."
   ]
  },
  {
   "cell_type": "code",
   "execution_count": null,
   "metadata": {},
   "outputs": [],
   "source": [
    "### YOUR CODE HERE ###"
   ]
  },
  {
   "cell_type": "markdown",
   "metadata": {},
   "source": [
    "### Задача 7\n",
    "\n",
    "Опираясь на решение предыдущей задачи, сохраните в список `full_clean` только те элементы, которые содержат информацию о товарах."
   ]
  },
  {
   "cell_type": "code",
   "execution_count": null,
   "metadata": {},
   "outputs": [],
   "source": [
    "### YOUR CODE HERE ###"
   ]
  },
  {
   "cell_type": "markdown",
   "metadata": {},
   "source": [
    "### Задача 8\n",
    "\n",
    "Изучите один элемент списка `full_clean` и напишите функцию `get_info()`, которая принимает на вход карточку товара и возвращает список из следующих элементов:\n",
    "\n",
    "* название товара (самое полное);\n",
    "* ссылка на файл с изображением товара;\n",
    "* цена товара (в текстовом формате с указанием валюты);\n",
    "* полная ссылка на страницу с полным описанием товара."
   ]
  },
  {
   "cell_type": "code",
   "execution_count": null,
   "metadata": {},
   "outputs": [],
   "source": [
    "### YOUR CODE HERE ###"
   ]
  },
  {
   "cell_type": "markdown",
   "metadata": {},
   "source": [
    "### Задача 9\n",
    "\n",
    "Примените функцию `get_info()` ко всем элементам из `full_clean`, соберите информацию о всех товарах и сохраните ее в датафрейм. Скорректируйте данные или типы столбцов в датафрейме при необходимости. Экспортируйте данные в файл Excel."
   ]
  },
  {
   "cell_type": "code",
   "execution_count": null,
   "metadata": {},
   "outputs": [],
   "source": [
    "### YOUR CODE HERE ###"
   ]
  },
  {
   "cell_type": "markdown",
   "metadata": {},
   "source": [
    "### Задача 10\n",
    "\n",
    "Используя полученный в предыдущей задаче датафрейм, создайте список пар *номер строки в датафрейме*-*ссылка на изображения товаров*. Используя функцию ниже, сохраните в папку `imgs` файлы с изображениями товаров. Названия файлов должны содержать номер строки в \n",
    "датафрейме, например, `1.jpg`."
   ]
  },
  {
   "cell_type": "code",
   "execution_count": null,
   "metadata": {},
   "outputs": [],
   "source": [
    "def download_img(img_link, file_name):\n",
    "    \"\"\"\n",
    "    img_link: link to the image (str)\n",
    "    file_name: name of file to save the image (str)\n",
    "    \"\"\"\n",
    "    img_data = requests.get(img_link).content\n",
    "    with open(file_name, 'wb') as file:\n",
    "        file.write(img_data)"
   ]
  },
  {
   "cell_type": "code",
   "execution_count": null,
   "metadata": {},
   "outputs": [],
   "source": [
    "### YOUR CODE HERE ###"
   ]
  }
 ],
 "metadata": {
  "kernelspec": {
   "display_name": "Python 3",
   "language": "python",
   "name": "python3"
  },
  "language_info": {
   "codemirror_mode": {
    "name": "ipython",
    "version": 3
   },
   "file_extension": ".py",
   "mimetype": "text/x-python",
   "name": "python",
   "nbconvert_exporter": "python",
   "pygments_lexer": "ipython3",
   "version": "3.7.4"
  }
 },
 "nbformat": 4,
 "nbformat_minor": 2
}

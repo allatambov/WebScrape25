{
 "cells": [
  {
   "cell_type": "markdown",
   "metadata": {},
   "source": [
    "# Web-scraping: сбор данных из баз данных и интернет-источников\n",
    "\n",
    "*Алла Тамбовцева*\n",
    "\n",
    "## Практикум 2.1. Парсинг с `BeautifulSoup`: тэги и атрибуты"
   ]
  },
  {
   "cell_type": "markdown",
   "metadata": {},
   "source": [
    "Мы уже немного познакомились со структурой html-страниц и поиском информации по тэгам, теперь попробуем выгрузить информацию из более интересной страницы, а точнее, с сайта [nplus1.ru](https://nplus1.ru/). Наша задача – выгрузить недавние новости в датафрейм `pandas`, чтобы потом сохранить все в файл Excel.\n",
    "\n",
    "Для работы нам снова понадобится модуль `requests` для отправки запросов, для «подключения» к странице и получения ее содержимого в виде строки, и функция `BeautifulSoup` из библиотеки `bs4` для удобного поиска по полученной строке:"
   ]
  },
  {
   "cell_type": "code",
   "execution_count": 1,
   "metadata": {},
   "outputs": [],
   "source": [
    "import requests\n",
    "from bs4 import BeautifulSoup"
   ]
  },
  {
   "cell_type": "markdown",
   "metadata": {},
   "source": [
    "Сохраним ссылку на главную страницу в переменную `main` и отправим запрос к ней с помощью функции `get()` из `requests`:"
   ]
  },
  {
   "cell_type": "code",
   "execution_count": 2,
   "metadata": {},
   "outputs": [],
   "source": [
    "main = \"https://nplus1.ru/\"\n",
    "page = requests.get(main)"
   ]
  },
  {
   "cell_type": "markdown",
   "metadata": {},
   "source": [
    "Заберём исходный код страницы и преобразуем строку с ним в объект `BeautifulSoup`:"
   ]
  },
  {
   "cell_type": "code",
   "execution_count": 3,
   "metadata": {},
   "outputs": [],
   "source": [
    "soup = BeautifulSoup(page.text)"
   ]
  },
  {
   "cell_type": "markdown",
   "metadata": {},
   "source": [
    "Чтобы сгрузить все новости с главной страницы сайта, нужно собрать все ссылки на страницы с этими новостями. Ссылки в html-файле всегда заключены в тэг `<a></a>` и имеют атрибут `href`. Найдем кусочки кода HTML, соответствующие всем ссылкам на главной странице сайта:"
   ]
  },
  {
   "cell_type": "code",
   "execution_count": 4,
   "metadata": {},
   "outputs": [
    {
     "data": {
      "text/plain": [
       "[<a class=\"hover:underline transition-colors duration-75\" href=\"https://nplus1.ru/search?tags=880\">Астрономия</a>,\n",
       " <a class=\"hover:underline transition-colors duration-75\" href=\"https://nplus1.ru/search?tags=768\">Генетика</a>,\n",
       " <a class=\"hover:underline transition-colors duration-75\" href=\"https://nplus1.ru/search?tags=890\">Математика</a>,\n",
       " <a class=\"hover:underline transition-colors duration-75\" href=\"https://nplus1.ru/search?tags=871\">Космонавтика</a>,\n",
       " <a class=\"hover:underline transition-colors duration-75\" href=\"https://nplus1.ru/search?tags=876\">Археология</a>,\n",
       " <a class=\"hover:underline transition-colors duration-75\" href=\"https://nplus1.ru/search?tags=775\">Нейронауки</a>,\n",
       " <a class=\"hover:underline transition-colors duration-75\" href=\"https://nplus1.ru/search?tags=767\">На мышах</a>,\n",
       " <a class=\"hover:underline transition-colors duration-75\" href=\"https://nplus1.ru/search?tags=771\">Звук</a>,\n",
       " <a class=\"hover:underline transition-colors duration-75\" href=\"https://nplus1.ru/search?tags=772\">Красота</a>,\n",
       " <a class=\"hover:underline transition-colors duration-75\" href=\"https://nplus1.ru/search?tags=778\">Научные закрытия</a>]"
      ]
     },
     "execution_count": 4,
     "metadata": {},
     "output_type": "execute_result"
    }
   ],
   "source": [
    "links_raw = soup.find_all(\"a\")\n",
    "links_raw[10:20]  # несколько штук для примера"
   ]
  },
  {
   "cell_type": "markdown",
   "metadata": {},
   "source": [
    "Каждый элемент возвращаемого списка имеет тип `BeautifulSoup` и структуру, очень похожую на словарь. Например, ссылка `<a class=\"hover:underline transition-colors duration-75\" href=\"/search/empty/768\">Генетика</a>` изнутри выглядит как словарь следующего вида (текст ссылки, слово `Генетика` в этот словарь не входит, это отдельный «слой»):\n",
    "\n",
    "    {'href' : '/search/empty/768', \n",
    "     'class' : 'hover:underline transition-colors duration-75'}.\n",
    "    \n",
    "Как мы помним, значение по ключу из словаря можно вызвать с помощью метода `.get()`. Давайте извлечем значения по ключу `href` из каждого элемента списка `links`:"
   ]
  },
  {
   "cell_type": "code",
   "execution_count": 5,
   "metadata": {},
   "outputs": [
    {
     "data": {
      "text/plain": [
       "['https://nplus1.ru/search?tags=880',\n",
       " 'https://nplus1.ru/search?tags=768',\n",
       " 'https://nplus1.ru/search?tags=890',\n",
       " 'https://nplus1.ru/search?tags=871',\n",
       " 'https://nplus1.ru/search?tags=876',\n",
       " 'https://nplus1.ru/search?tags=775',\n",
       " 'https://nplus1.ru/search?tags=767',\n",
       " 'https://nplus1.ru/search?tags=771',\n",
       " 'https://nplus1.ru/search?tags=772',\n",
       " 'https://nplus1.ru/search?tags=778']"
      ]
     },
     "execution_count": 5,
     "metadata": {},
     "output_type": "execute_result"
    }
   ],
   "source": [
    "links = [li.get(\"href\") for li in links_raw] \n",
    "links[10:20]  # несколько штук для примера"
   ]
  },
  {
   "cell_type": "markdown",
   "metadata": {},
   "source": [
    "Ссылок в списке выше много. Но нам нужны только новости – ссылки, которые начинаются с `https://nplus1.ru/news`. Создадим пустой список `news` и будем добавлять в него только ссылки, которые удовлетворяют этому условию."
   ]
  },
  {
   "cell_type": "code",
   "execution_count": 6,
   "metadata": {},
   "outputs": [],
   "source": [
    "news = []\n",
    "for li in links:\n",
    "    if \"https://nplus1.ru/news/\" in li:\n",
    "        news.append(li)"
   ]
  },
  {
   "cell_type": "code",
   "execution_count": 7,
   "metadata": {},
   "outputs": [
    {
     "data": {
      "text/plain": [
       "['https://nplus1.ru/news/2025/01/27/palaeolithic-hand-stencils',\n",
       " 'https://nplus1.ru/news/2025/01/29/divorce-little-penguins',\n",
       " 'https://nplus1.ru/news/2025/01/29/miniature-gold-box-lock',\n",
       " 'https://nplus1.ru/news/2025/01/29/enigmatic-burial-from-ecuador',\n",
       " 'https://nplus1.ru/news/2025/01/29/lynx-deeprobotics-can-flex',\n",
       " 'https://nplus1.ru/news/2025/01/29/control-the-pressure',\n",
       " 'https://nplus1.ru/news/2025/01/29/jays-and-tools',\n",
       " 'https://nplus1.ru/news/2025/01/28/16-legs-of-justice',\n",
       " 'https://nplus1.ru/news/2025/01/28/pre-planetary-pebbles',\n",
       " 'https://nplus1.ru/news/2025/01/28/more-400-gold-and-silver-coins']"
      ]
     },
     "execution_count": 7,
     "metadata": {},
     "output_type": "execute_result"
    }
   ],
   "source": [
    "news[0:10]"
   ]
  },
  {
   "cell_type": "markdown",
   "metadata": {},
   "source": [
    "Теперь наша задача сводится к следующему: изучить одну страницу с новостью, научиться из нее вытаскивать текст и всю необходимую информацию, а потом применить весь набор действий к каждой ссылке из `news` в цикле. Посмотрим на новость с индексом 0, у вас может быть другая, новости обновляются."
   ]
  },
  {
   "cell_type": "code",
   "execution_count": 8,
   "metadata": {},
   "outputs": [
    {
     "name": "stdout",
     "output_type": "stream",
     "text": [
      "https://nplus1.ru/news/2025/01/27/palaeolithic-hand-stencils\n"
     ]
    }
   ],
   "source": [
    "link0 = news[0]\n",
    "print(link0)"
   ]
  },
  {
   "cell_type": "markdown",
   "metadata": {},
   "source": [
    "### Задача 1\n",
    "\n",
    "Отправьте запрос к странице по ссылке `link0` с одной новостью, получите результат в виде объекта `BeautifulSoup` и сохраните его как `soup0`."
   ]
  },
  {
   "cell_type": "code",
   "execution_count": 9,
   "metadata": {},
   "outputs": [],
   "source": [
    "page0 = requests.get(link0)\n",
    "soup0 = BeautifulSoup(page0.text)"
   ]
  },
  {
   "cell_type": "markdown",
   "metadata": {},
   "source": [
    "### Задача 2\n",
    "\n",
    "Найдите заголовок новости и сохраните его в переменную `title`."
   ]
  },
  {
   "cell_type": "code",
   "execution_count": 10,
   "metadata": {},
   "outputs": [
    {
     "data": {
      "text/plain": [
       "'Кроманьонские дети отпечатали ладони на стенах пещер. Примерно 15 процентов проанализированных изображений из Испании создали дети до 12 лет'"
      ]
     },
     "execution_count": 10,
     "metadata": {},
     "output_type": "execute_result"
    }
   ],
   "source": [
    "# в исходном коде \\xa0 выглядит как &nbsp\n",
    "# это неразрывный пробел\n",
    "\n",
    "title = soup0.find(\"title\").text.replace(\"\\xa0\", \" \")\n",
    "title"
   ]
  },
  {
   "cell_type": "markdown",
   "metadata": {},
   "source": [
    "### Задача 3\n",
    "\n",
    "Найдите имя автора новости и дату её публикации. Сохраните их в `author` и `date` соответственно."
   ]
  },
  {
   "cell_type": "code",
   "execution_count": 11,
   "metadata": {},
   "outputs": [
    {
     "name": "stdout",
     "output_type": "stream",
     "text": [
      "Михаил Подрезов\n"
     ]
    }
   ],
   "source": [
    "author = soup0.find(\"meta\", {\"name\" : \"author\"}).get(\"content\")\n",
    "print(author)"
   ]
  },
  {
   "cell_type": "code",
   "execution_count": 12,
   "metadata": {},
   "outputs": [
    {
     "name": "stdout",
     "output_type": "stream",
     "text": [
      "2025-01-27\n"
     ]
    }
   ],
   "source": [
    "date = soup0.find(\"meta\", {\"itemprop\" : \"datePublished\"}).get(\"content\")\n",
    "print(date)"
   ]
  },
  {
   "cell_type": "markdown",
   "metadata": {},
   "source": [
    "### Задача 4\n",
    "\n",
    "Найдите сложность новости и рубрики, к которым она относится. Сохраните сложность в переменную `diffc`. Рубрики сначала можно сохранить в список, а затем его элементы объединить в одну строку `rubs`.\n",
    "\n",
    "**Подсказка:** чтобы упростить себе жизнь, найдите сначала раздел (`div`), в котором на странице хранится дата и время публикации, сложность и рубрики, а затем выполняйте поиск в рамках этого раздела."
   ]
  },
  {
   "cell_type": "code",
   "execution_count": 13,
   "metadata": {},
   "outputs": [
    {
     "name": "stdout",
     "output_type": "stream",
     "text": [
      "<div class=\"flex flex-wrap lg:mb-10 gap-2 text-tags xl:pr-9\">\n",
      "<span class=\"relative before:block before:w-px before:bg-current before:h-4 before:absolute before:left-0 group pl-2 flex inline-flex items-center\">\n",
      "<span class=\"group-hover:text-main transition-colors duration-75\">11:32</span>\n",
      "</span>\n",
      "<a class=\"relative before:block before:w-px before:bg-current before:h-4 before:absolute before:left-0 group pl-2 flex inline-flex items-center\" href=\"/news/2025/01/27\">\n",
      "<span class=\"group-hover:text-main transition-colors duration-75\">27.01.25</span>\n",
      "</a>\n",
      "<a class=\"relative before:block before:w-px before:bg-current before:h-4 before:absolute before:left-0 group pl-2 flex inline-flex items-center\" href=\"/material/difficulty/3\">\n",
      "<svg class=\"w-4 h-4 mr-1 group-hover:text-main transition-colors duration-75 stroke-current\">\n",
      "<use xlink:href=\"#n1_star\"></use>\n",
      "</svg>\n",
      "<span class=\"group-hover:text-main transition-colors duration-75\">3.3</span>\n",
      "</a>\n",
      "<a class=\"relative before:block before:w-px before:bg-current before:h-4 before:absolute before:left-0 group pl-2 flex inline-flex items-center\" href=\"https://nplus1.ru/search?tags=877\">\n",
      "<span class=\"group-hover:text-main transition-colors duration-75\">Антропология</span>\n",
      "</a>\n",
      "<a class=\"relative before:block before:w-px before:bg-current before:h-4 before:absolute before:left-0 group pl-2 flex inline-flex items-center\" href=\"https://nplus1.ru/search?tags=876\">\n",
      "<span class=\"group-hover:text-main transition-colors duration-75\">Археология</span>\n",
      "</a>\n",
      "</div>\n"
     ]
    }
   ],
   "source": [
    "# можно по той же схеме – soup0.find(\"div\", {\"class\" : \"\"})\n",
    "# но так как здесь class, можно и через class_\n",
    "\n",
    "div = soup0.find(\"div\", class_ = \"flex flex-wrap lg:mb-10 gap-2 text-tags xl:pr-9\")\n",
    "print(div)"
   ]
  },
  {
   "cell_type": "code",
   "execution_count": 14,
   "metadata": {},
   "outputs": [
    {
     "name": "stdout",
     "output_type": "stream",
     "text": [
      "3.3\n"
     ]
    }
   ],
   "source": [
    "# находим внутри этого фрагмента все кусочки с тэгом <span>\n",
    "# выбираем четвертый – с индексом 3, оттуда извлекаем текст\n",
    "\n",
    "diffc = div.find_all(\"span\")[3].text\n",
    "print(diffc)"
   ]
  },
  {
   "cell_type": "code",
   "execution_count": 15,
   "metadata": {},
   "outputs": [
    {
     "name": "stdout",
     "output_type": "stream",
     "text": [
      "[<span class=\"group-hover:text-main transition-colors duration-75\">Антропология</span>, <span class=\"group-hover:text-main transition-colors duration-75\">Археология</span>]\n"
     ]
    }
   ],
   "source": [
    "# та же история, забираем все элементы после сложности\n",
    "# с 4 и до конца списка с элементами <span>,\n",
    "# поскольку рубрик может быть больше одной, сколько – неизвестно\n",
    "\n",
    "rubs_raw = div.find_all(\"span\")[4:]\n",
    "print(rubs_raw)"
   ]
  },
  {
   "cell_type": "code",
   "execution_count": 16,
   "metadata": {},
   "outputs": [
    {
     "name": "stdout",
     "output_type": "stream",
     "text": [
      "['Антропология', 'Археология']\n"
     ]
    }
   ],
   "source": [
    "# извлекаем текст из каждого фрагмента в списке выше\n",
    "\n",
    "rubs_str = [r.text for r in rubs_raw]\n",
    "print(rubs_str)"
   ]
  },
  {
   "cell_type": "code",
   "execution_count": 17,
   "metadata": {},
   "outputs": [
    {
     "name": "stdout",
     "output_type": "stream",
     "text": [
      "Антропология, Археология\n"
     ]
    }
   ],
   "source": [
    "# склеиваем через .join() в одну строку,\n",
    "# чтобы после выгрузки с таблицу не было ячеек с неудобными списками\n",
    "\n",
    "rubs = \", \".join(rubs_str)\n",
    "print(rubs)"
   ]
  },
  {
   "cell_type": "markdown",
   "metadata": {},
   "source": [
    "### Задача 5\n",
    "\n",
    "Соберите из абзацев текст новости и сохраните его в переменную `text`. Избавьтесь от постронних символов (`\\xa0`, `\\n`) в тексте. "
   ]
  },
  {
   "cell_type": "code",
   "execution_count": 18,
   "metadata": {},
   "outputs": [
    {
     "name": "stdout",
     "output_type": "stream",
     "text": [
      "<div class=\"flex flex-col\">\n",
      "<h1 class=\"text-34 md:text-42 xl:text-52 break-words\">\n",
      "            Кроманьонские дети отпечатали ладони на стенах пещер\n",
      "          </h1>\n",
      "<p class=\"text-36 md:text-44 xl:text-54 font-spectral text-main-gray mb-6\">Примерно 15 процентов проанализированных изображений из Испании создали дети до 12 лет</p>\n",
      "<div class=\"text-14 mb-5 sm:mb-12 flex flex-wrap\">\n",
      "<span class=\"whitespace-nowrap\">\n",
      "<a class=\"underline\" href=\"/author/mixail-podrezov\">Михаил Подрезов</a>\n",
      "</span>\n",
      "</div>\n",
      "<div class=\"mb-14\" data-lmb-0=\"\">\n",
      "<basegallerymain :gid=\"74142\"></basegallerymain>\n",
      "<div></div>\n",
      "<div class=\"n1_material text-18\"><p class=\"mb-6\">Испанские ученые проанализировали 124 отпечатка рук из восьми пещер с палеолитическим искусством, расположенных на Пиренейском полуострове. Они определили, что примерно 15 процентов красочных следов на стенах создали дети до 12 лет, а оставшуюся часть — подростки и взрослые, причем в исследованной выборке примерно в два раза чаще встречались ладони мужчин, чем женщин. Об этом ученые <a href=\"https://link.springer.com/article/10.1007/s10816-025-09693-w\" rel=\"noreferrer noopener\" target=\"_blank\">пишут</a> в <em>Journal of Archaeological Method and Theory</em>.</p></div>\n",
      "<div class=\"block md:hidden col-span-6 mb-6\">\n",
      "<div class=\"w-full\" data-ref-sidebar=\"\"></div>\n",
      "<a data-adv-banner-id=\"12\" href=\"https://nplus1.ru/material/2024/12/18/practical-ml\" id=\"adv-banner-link-text\" target=\"_blank\">\n",
      "<picture>\n",
      "<source media=\"(min-width: 768px)\" srcset=\"https://minio.nplus1.ru/app-images/981933/cb09ed66683d8bca3e53253b392a2098.png\">\n",
      "<img alt=\"Yandex PML — Практическое измерение\" class=\"w-full\" loading=\"lazy\" src=\"https://minio.nplus1.ru/app-images/981934/8f6c5106f2e108acc102d2dbaf3a9c75.png\"/>\n",
      "</source></picture>\n",
      "</a>\n",
      "</div>\n",
      "<div class=\"n1_material text-18\"><p class=\"mb-6\">Не позднее 50–40 тысяч лет назад <a href=\"https://nplus1.ru/news/2024/07/03/oldest-rock-art\" rel=\"noreferrer noopener\" target=\"_blank\">появилась</a> одна из самых ярких форм палеолитического искусства — пещерные росписи, древнейшие примеры которых сегодня известны из Юго-Восточной Азии и Европы. В сотнях пещер и на скалах, расположенных под открытым небом, с XIX века исследователи <a href=\"https://link.springer.com/article/10.1038/s41598-024-56889-3\" rel=\"noreferrer noopener\" target=\"_blank\">обнаружили</a> множество различных типов изображений, включая сцены охоты, фигуры животных, антропоморфные фигуры и абстрактные символы и знаки.</p></div>\n",
      "<div class=\"n1_material text-18\"><p class=\"mb-6\">Популярным типом изображений на таких памятниках выступают человеческие ладони. В одних случаях они представляют собой отпечатки рук, на которые предварительно нанесли краску, а в других — ладони использовались в качестве трафаретов, то есть их прикладывали к стене, а затем краску распыляли на руку и вокруг нее. В общей сложности в 59 европейских пещерах археологи <a href=\"https://doi.org/10.6084/m9.figshare.24631185.v1\" rel=\"noreferrer noopener\" target=\"_blank\">зафиксировали</a> 755 подобных изображений эпохи верхнего палеолита, подавляющее число которых находится во Франции и Испании, где в целом и <a href=\"https://nplus1.ru/blog/2023/10/27/npluspodcast07\" rel=\"noreferrer noopener\" target=\"_blank\">сосредоточено</a> большинство объектов пещерного палеолитического искусства.</p></div>\n",
      "<div class=\"n1_material text-18\"><p class=\"mb-6\">Вероника Фернандес-Наварро (Veronica Fernandez-Navarro) из Кантабрийского университета совместно со своими испанскими коллегами представила результаты исследования изображений ладоней из европейских палеолитических памятников. Ученые сосредоточили свое внимание на 124 отпечатках рук из восьми пещер, расположенных на Пиренейском полуострове: <a href=\"https://nplus1.ru/news/2023/12/05/sediment-dna-from-el-castillo\" rel=\"noreferrer noopener\" target=\"_blank\">Эль-Кастильо</a>, Фуэнте-дель-Салин, <a href=\"https://nplus1.ru/news/2024/09/03/horse-mandible-with-flint\" rel=\"noreferrer noopener\" target=\"_blank\">Ла-Гарма</a>, <a href=\"https://nplus1.ru/news/2021/08/17/neanderthal-teeth\" rel=\"noreferrer noopener\" target=\"_blank\">Тито-Бустильо</a>, Эстрельяс, <a href=\"https://nplus1.ru/news/2022/06/01/ardales\" rel=\"noreferrer noopener\" target=\"_blank\">Ардалес</a>, <a href=\"https://nplus1.ru/blog/2023/06/23/neanderthal-engravings\" rel=\"noreferrer noopener\" target=\"_blank\">Мальтравьесо</a> и Фуэнте-дель-Тручо.</p></div>\n",
      "<div class=\"n1_material text-18\"><p class=\"mb-6\">Чтобы разобраться в половых и возрастных отличиях людей, которые создали эти изображения, исследователи отсканировали ладони 546 современных людей. Кроме того, они провели эксперимент, в ходе которого в заброшенном известняковом карьере взрослые старше 20 лет сами создали 53 подобных изображения, имитируя деятельность кроманьонцев. Затем получившиеся отпечатки ладоней зафиксировали и измерили в соответствии с методами геометрической морфометрии.</p></div>\n",
      "<div class=\"n1_material text-18\"><p class=\"mb-6\">Сравнив полученные данные с древними образцами, ученые пришли к выводу, что на проанализированных памятниках присутствовали изображения двух ладоней детей первых лет жизни и 11 детей постарше (до 12 лет), пяти подростков, а также 106 взрослых, 70 из которых принадлежали мужчинам (около 66 процентов), а 36 — женщинам (около 34 процентов). То есть отпечатки ладоней в этих пещерах в основном создавали подростки и взрослые, а на долю детей до 12 лет приходилось около 15 процентов изображений.</p></div>\n",
      "<div class=\"n1_material text-18\"><p class=\"mb-6\">Полученные результаты говорят о том, что в эпоху верхнего палеолита по крайней мере иногда дети участвовали в создании простых наскальных изображений. Кроме того, в этой деятельности принимали как взрослые мужчины, так и взрослые женщины. По словам ученых, можно предположить, что подобная деятельность могла сплачивать коллектив и способствовать укреплению коллективной идентичности, а также выступала способом передачи знаний, традиций и культурных ценностей между разными поколениями.</p></div>\n",
      "<div class=\"n1_material text-18\"><p class=\"mb-6\">Пещерные росписи — явление, характерное для людей современного анатомического вида, хотя не так давно и <a href=\"https://nplus1.ru/news/2018/02/23/Neanderthal-artists\" rel=\"noreferrer noopener\" target=\"_blank\">выдвигались</a> гипотезы, что подобным творчеством занимались и неандертальцы. Подробнее об этом читайте в материале <a href=\"https://nplus1.ru/blog/2023/06/23/neanderthal-engravings\" rel=\"noreferrer noopener\" target=\"_blank\">«Макароны по-неандертальски»</a>.</p></div>\n",
      "</div>\n",
      "<div class=\"text-18\">\n",
      "<app-tags-carousel>\n",
      "<template v-slot:default=\"slotProps\">\n",
      "<a :class=\"slotProps.classesTag\" href=\"https://nplus1.ru/search?tags=877\">Антропология</a>\n",
      "<a :class=\"slotProps.classesTag\" href=\"https://nplus1.ru/search?tags=876\">Археология</a>\n",
      "</template>\n",
      "</app-tags-carousel>\n",
      "<div class=\"text-20 font-spectral text-main-gray leading-none\" v-if=\"!isMobile\">\n",
      "              Нашли опечатку? Выделите фрагмент и нажмите Ctrl+Enter.\n",
      "            </div>\n",
      "</div>\n",
      "</div>\n"
     ]
    }
   ],
   "source": [
    "# чтобы не забрать абзацы с текстом следующей новости,\n",
    "# сначала находим раздел только с первой новостью\n",
    "\n",
    "col = soup0.find(\"div\", class_ = \"flex flex-col\")\n",
    "print(col)"
   ]
  },
  {
   "cell_type": "code",
   "execution_count": 19,
   "metadata": {},
   "outputs": [
    {
     "name": "stdout",
     "output_type": "stream",
     "text": [
      "Примерно 15 процентов проанализированных изображений из Испании создали дети до 12 лет Испанские ученые проанализировали 124 отпечатка рук из восьми пещер с палеолитическим искусством, расположенных на Пиренейском полуострове. Они определили, что примерно 15 процентов красочных следов на стенах создали дети до 12 лет, а оставшуюся часть — подростки и взрослые, причем в исследованной выборке примерно в два раза чаще встречались ладони мужчин, чем женщин. Об этом ученые пишут в Journal of Archaeological Method and Theory. Не позднее 50–40 тысяч лет назад появилась одна из самых ярких форм палеолитического искусства — пещерные росписи, древнейшие примеры которых сегодня известны из Юго-Восточной Азии и Европы. В сотнях пещер и на скалах, расположенных под открытым небом, с XIX века исследователи обнаружили множество различных типов изображений, включая сцены охоты, фигуры животных, антропоморфные фигуры и абстрактные символы и знаки. Популярным типом изображений на таких памятниках выступают человеческие ладони. В одних случаях они представляют собой отпечатки рук, на которые предварительно нанесли краску, а в других — ладони использовались в качестве трафаретов, то есть их прикладывали к стене, а затем краску распыляли на руку и вокруг нее. В общей сложности в 59 европейских пещерах археологи зафиксировали 755 подобных изображений эпохи верхнего палеолита, подавляющее число которых находится во Франции и Испании, где в целом и сосредоточено большинство объектов пещерного палеолитического искусства. Вероника Фернандес-Наварро (Veronica Fernandez-Navarro) из Кантабрийского университета совместно со своими испанскими коллегами представила результаты исследования изображений ладоней из европейских палеолитических памятников. Ученые сосредоточили свое внимание на 124 отпечатках рук из восьми пещер, расположенных на Пиренейском полуострове: Эль-Кастильо, Фуэнте-дель-Салин, Ла-Гарма, Тито-Бустильо, Эстрельяс, Ардалес, Мальтравьесо и Фуэнте-дель-Тручо. Чтобы разобраться в половых и возрастных отличиях людей, которые создали эти изображения, исследователи отсканировали ладони 546 современных людей. Кроме того, они провели эксперимент, в ходе которого в заброшенном известняковом карьере взрослые старше 20 лет сами создали 53 подобных изображения, имитируя деятельность кроманьонцев. Затем получившиеся отпечатки ладоней зафиксировали и измерили в соответствии с методами геометрической морфометрии. Сравнив полученные данные с древними образцами, ученые пришли к выводу, что на проанализированных памятниках присутствовали изображения двух ладоней детей первых лет жизни и 11 детей постарше (до 12 лет), пяти подростков, а также 106 взрослых, 70 из которых принадлежали мужчинам (около 66 процентов), а 36 — женщинам (около 34 процентов). То есть отпечатки ладоней в этих пещерах в основном создавали подростки и взрослые, а на долю детей до 12 лет приходилось около 15 процентов изображений. Полученные результаты говорят о том, что в эпоху верхнего палеолита по крайней мере иногда дети участвовали в создании простых наскальных изображений. Кроме того, в этой деятельности принимали как взрослые мужчины, так и взрослые женщины. По словам ученых, можно предположить, что подобная деятельность могла сплачивать коллектив и способствовать укреплению коллективной идентичности, а также выступала способом передачи знаний, традиций и культурных ценностей между разными поколениями. Пещерные росписи — явление, характерное для людей современного анатомического вида, хотя не так давно и выдвигались гипотезы, что подобным творчеством занимались и неандертальцы. Подробнее об этом читайте в материале «Макароны по-неандертальски».\n"
     ]
    }
   ],
   "source": [
    "# находим в этом разделе все абзацы с классом mb-6,\n",
    "# из каждого абзаца забираем текст,\n",
    "# склеиваем все в одну строку и после заменяем неразрывный пробел\n",
    "\n",
    "pars_raw = col.find_all(\"p\", class_ = \"mb-6\")\n",
    "pars = [p.text for p in pars_raw] \n",
    "text = \" \".join(pars).replace(\"\\xa0\", \" \")\n",
    "print(text)"
   ]
  },
  {
   "cell_type": "markdown",
   "metadata": {},
   "source": [
    "### Задача 6\n",
    "\n",
    "Напишите функцию `get_news()`, которая принимает на вход ссылку на страницу с одной новостью, а возвращает список из следующих характеристик: заголовок, имя автора, дата публикации, сложность новости, рубрики, текст новости."
   ]
  },
  {
   "cell_type": "code",
   "execution_count": 20,
   "metadata": {},
   "outputs": [],
   "source": [
    "def get_news(link0):\n",
    "    page0 = requests.get(link0)\n",
    "    soup0 = BeautifulSoup(page0.text)\n",
    "    title = soup0.find(\"title\").text.replace(\"\\xa0\", \" \")\n",
    "    author = soup0.find(\"meta\", \n",
    "                    {\"name\" : \"author\"}).get(\"content\")\n",
    "    date = soup0.find(\"meta\", \n",
    "           {\"itemprop\" : \"datePublished\"}).get(\"content\")\n",
    "    div = soup0.find(\"div\", \n",
    "           class_ = \"flex flex-wrap lg:mb-10 gap-2 text-tags xl:pr-9\")\n",
    "    diffc = div.find_all(\"span\")[3].text\n",
    "    rubs_raw = div.find_all(\"span\")[4:]\n",
    "    rubs_str = [r.text for r in rubs_raw] \n",
    "    rubs = \", \".join(rubs_str)\n",
    "    col = soup0.find(\"div\", class_ = \"flex flex-col\")\n",
    "    pars_raw = col.find_all(\"p\", class_ = \"mb-6\")\n",
    "    pars = [p.text for p in pars_raw] \n",
    "    text = \" \".join(pars).replace(\"\\xa0\", \" \")\n",
    "    return [title, author, date, diffc, rubs, text]"
   ]
  },
  {
   "cell_type": "code",
   "execution_count": 21,
   "metadata": {},
   "outputs": [
    {
     "data": {
      "text/plain": [
       "['В Германии обнаружили часть миниатюрного римского золотого замка. Артефакт относится, видимо, к III или IV веку нашей эры',\n",
       " 'Михаил Подрезов',\n",
       " '2025-01-29',\n",
       " '1.1',\n",
       " 'Археология',\n",
       " 'Артефакт относится, видимо, к III или IV веку нашей эры В немецком Мюнстере представили необычный артефакт римского времени, который в 2023 году обнаружил лицензированный поисковик древностей Константин Фрид (Constantin Fried). В поле у городка Петерсхаген, который находится на севере земли Северный Рейн-Вестфалия, он нашел миниатюрную часть замка для ларца (или другого подобного предмета), которую в III–IV веках нашей эры изготовили из золота. С помощью нейтронной томографии исследователи разобрались, как, вероятно, первоначально выглядел и функционировал этот замок, а затем изготовили его латунную копию в масштабе 4:1. Как сообщается в пресс-релизе, посвященном этой находке, до сих пор не очень понятно, как мог быть изготовлен найденный артефакт без современных инструментов, учитывая, что его размер составляет примерно 1,2 на 1,1 сантиметра. В России любительские поиски древних артефактов запрещены законом, поскольку эта деятельность наносит большой вред археологическим памятникам, а найденные таким способом вещи, даже попав впоследствии в руки ученых, дают мало информации из-за отсутствующего контекста. Однако такой запрет действует не во всех странах, поэтому, например, из некоторых европейских государств регулярно приходят новости, что любитель древностей обнаружил большое количество ценностей. В Германии же работает промежуточный вариант — искатели артефактов должны пройти обучение и получить соответствующую лицензию.']"
      ]
     },
     "execution_count": 21,
     "metadata": {},
     "output_type": "execute_result"
    }
   ],
   "source": [
    "# проверяем на другой новости из списка ссылок\n",
    "\n",
    "get_news(news[2])"
   ]
  },
  {
   "cell_type": "markdown",
   "metadata": {},
   "source": [
    "Отлично! Теперь осталось применить функцию ко всем ссылкам в списке `news`. Чтобы сайт не понял, что мы его автоматически грабим, будем выгружать новости постепенно – с задержкой в 1.5 секунды. Импортируем для этого функцию `sleep` :"
   ]
  },
  {
   "cell_type": "code",
   "execution_count": 22,
   "metadata": {},
   "outputs": [],
   "source": [
    "from time import sleep"
   ]
  },
  {
   "cell_type": "markdown",
   "metadata": {},
   "source": [
    "Теперь будем применять функцию в цикле к каждой ссылке в `news`, только с одним дополнением – добавленной конструкцией `try-except`, которая позволит продолжать исполнение цикла, если при применении функции Python столкнулся с ошибкой любого вида:"
   ]
  },
  {
   "cell_type": "code",
   "execution_count": 23,
   "metadata": {},
   "outputs": [
    {
     "name": "stdout",
     "output_type": "stream",
     "text": [
      "https://nplus1.ru/news/2025/01/27/palaeolithic-hand-stencils\n",
      "https://nplus1.ru/news/2025/01/29/divorce-little-penguins\n",
      "https://nplus1.ru/news/2025/01/29/miniature-gold-box-lock\n",
      "https://nplus1.ru/news/2025/01/29/enigmatic-burial-from-ecuador\n",
      "https://nplus1.ru/news/2025/01/29/lynx-deeprobotics-can-flex\n",
      "https://nplus1.ru/news/2025/01/29/control-the-pressure\n",
      "https://nplus1.ru/news/2025/01/29/jays-and-tools\n",
      "https://nplus1.ru/news/2025/01/28/16-legs-of-justice\n",
      "https://nplus1.ru/news/2025/01/28/pre-planetary-pebbles\n",
      "https://nplus1.ru/news/2025/01/28/more-400-gold-and-silver-coins\n",
      "https://nplus1.ru/news/2025/01/28/glp-1ra-175-risks\n",
      "https://nplus1.ru/news/2025/01/28/autozooms\n",
      "https://nplus1.ru/news/2025/01/28/helical-trilayer-graphene\n",
      "https://nplus1.ru/news/2025/01/27/costs-of-dominance-in-baboons\n",
      "https://nplus1.ru/news/2025/01/27/probable-use-of-labrets\n",
      "https://nplus1.ru/news/2025/01/27/kou-iii\n",
      "https://nplus1.ru/news/2025/01/27/schrodinger-cat-qudit-states\n",
      "https://nplus1.ru/news/2025/01/27/cl-goes-through-graphene\n",
      "https://nplus1.ru/news/2025/01/27/secondary-hpv-cin3\n",
      "https://nplus1.ru/news/2025/01/27/puzzle-percolation\n",
      "https://nplus1.ru/news/2025/01/27/in-abhorrence-dementia\n",
      "https://nplus1.ru/news/2025/01/27/so-long-covid\n",
      "https://nplus1.ru/news/2025/01/24/sylvilagus-insonus\n",
      "https://nplus1.ru/news/2025/01/24/egyptian-blue-from-italy\n",
      "https://nplus1.ru/news/2025/01/24/heavenly-metal\n",
      "https://nplus1.ru/news/2025/01/24/oil-in-lungs\n",
      "https://nplus1.ru/news/2025/01/24/life-and-adhd\n",
      "https://nplus1.ru/news/2025/01/24/mono-esketamine\n",
      "https://nplus1.ru/news/2025/01/23/cut-the-snore-and-hit-the-road\n",
      "https://nplus1.ru/news/2025/01/23/spotted-hyena-in-egypt\n",
      "https://nplus1.ru/news/2025/01/23/hippopotamus-ivory-exchange\n",
      "https://nplus1.ru/news/2025/01/23/baboons-mirror-test\n",
      "https://nplus1.ru/news/2025/01/23/irritable-social-media-syndrome\n",
      "https://nplus1.ru/news/2025/01/23/ochre-exploitation-in-west-africa\n",
      "https://nplus1.ru/news/2025/01/23/not-gender-neutral\n",
      "https://nplus1.ru/news/2025/01/23/black-panter-record\n",
      "https://nplus1.ru/news/2025/01/22/sk-15\n",
      "https://nplus1.ru/news/2025/01/22/chimp-activity\n",
      "https://nplus1.ru/news/2025/01/09/gm-heart-in-depth\n",
      "https://nplus1.ru/news/2025/01/09/lapworthella-fasciculata\n",
      "https://nplus1.ru/news/2025/01/13/conus-plus-cevns\n",
      "https://nplus1.ru/news/2025/01/13/childhood-maltreatment-exposure-sperm-dna\n",
      "https://nplus1.ru/news/2025/01/15/ancient-genomes-avar-period\n",
      "https://nplus1.ru/news/2025/01/16/car-nk-ipsc-wow\n",
      "https://nplus1.ru/news/2025/01/16/celtic-matrilocality\n",
      "https://nplus1.ru/news/2025/01/17/mammals-lipocartilage\n",
      "https://nplus1.ru/news/2025/01/20/notoryctes-typhlops-genome\n",
      "https://nplus1.ru/news/2025/01/22/sk-15\n",
      "https://nplus1.ru/news/2025/01/27/cl-goes-through-graphene\n",
      "https://nplus1.ru/news/2025/01/27/schrodinger-cat-qudit-states\n",
      "https://nplus1.ru/news/2025/01/28/helical-trilayer-graphene\n",
      "https://nplus1.ru/news/2025/01/28/glp-1ra-175-risks\n"
     ]
    }
   ],
   "source": [
    "info = []\n",
    "for n in news:\n",
    "    # пробуй исполнить следующий код\n",
    "    try:\n",
    "        res = get_news(n)\n",
    "        info.append(res)\n",
    "        print(n)\n",
    "    # если он вызвал ошибку, печатай сообщение и иди дальше\n",
    "    except:\n",
    "        print(\"Something went wrong\")\n",
    "        print(n)\n",
    "    sleep(1.5)"
   ]
  },
  {
   "cell_type": "markdown",
   "metadata": {},
   "source": [
    "Посмотрим на несколько элементов `info`:"
   ]
  },
  {
   "cell_type": "code",
   "execution_count": 25,
   "metadata": {},
   "outputs": [],
   "source": [
    "# info[10:12]"
   ]
  },
  {
   "cell_type": "markdown",
   "metadata": {},
   "source": [
    "Финальный штрих – импортируем `pandas` и преобразуемый полученный список кортежей в датафрейм:"
   ]
  },
  {
   "cell_type": "code",
   "execution_count": 26,
   "metadata": {},
   "outputs": [],
   "source": [
    "import pandas as pd"
   ]
  },
  {
   "cell_type": "code",
   "execution_count": 27,
   "metadata": {},
   "outputs": [
    {
     "data": {
      "text/html": [
       "<div>\n",
       "<style scoped>\n",
       "    .dataframe tbody tr th:only-of-type {\n",
       "        vertical-align: middle;\n",
       "    }\n",
       "\n",
       "    .dataframe tbody tr th {\n",
       "        vertical-align: top;\n",
       "    }\n",
       "\n",
       "    .dataframe thead th {\n",
       "        text-align: right;\n",
       "    }\n",
       "</style>\n",
       "<table border=\"1\" class=\"dataframe\">\n",
       "  <thead>\n",
       "    <tr style=\"text-align: right;\">\n",
       "      <th></th>\n",
       "      <th>0</th>\n",
       "      <th>1</th>\n",
       "      <th>2</th>\n",
       "      <th>3</th>\n",
       "      <th>4</th>\n",
       "      <th>5</th>\n",
       "    </tr>\n",
       "  </thead>\n",
       "  <tbody>\n",
       "    <tr>\n",
       "      <th>0</th>\n",
       "      <td>Кроманьонские дети отпечатали ладони на стенах...</td>\n",
       "      <td>Михаил Подрезов</td>\n",
       "      <td>2025-01-27</td>\n",
       "      <td>3.3</td>\n",
       "      <td>Антропология, Археология</td>\n",
       "      <td>Примерно 15 процентов проанализированных изобр...</td>\n",
       "    </tr>\n",
       "    <tr>\n",
       "      <th>1</th>\n",
       "      <td>Расставание с партнерами снизило успех размнож...</td>\n",
       "      <td>Сергей Коленов</td>\n",
       "      <td>2025-01-29</td>\n",
       "      <td>3.4</td>\n",
       "      <td>Зоология</td>\n",
       "      <td>Смена партнера выгодна в долгосрочной перспект...</td>\n",
       "    </tr>\n",
       "    <tr>\n",
       "      <th>2</th>\n",
       "      <td>В Германии обнаружили часть миниатюрного римск...</td>\n",
       "      <td>Михаил Подрезов</td>\n",
       "      <td>2025-01-29</td>\n",
       "      <td>1.1</td>\n",
       "      <td>Археология</td>\n",
       "      <td>Артефакт относится, видимо, к III или IV веку ...</td>\n",
       "    </tr>\n",
       "    <tr>\n",
       "      <th>3</th>\n",
       "      <td>В Эквадоре раскопали древнее захоронение берем...</td>\n",
       "      <td>Михаил Подрезов</td>\n",
       "      <td>2025-01-29</td>\n",
       "      <td>3.1</td>\n",
       "      <td>Археология, Антропология</td>\n",
       "      <td>И предсмертной травмой черепа Американские уче...</td>\n",
       "    </tr>\n",
       "    <tr>\n",
       "      <th>4</th>\n",
       "      <td>Колесная робособака Lynx постояла на одной ног...</td>\n",
       "      <td>Андрей Фокин</td>\n",
       "      <td>2025-01-29</td>\n",
       "      <td>1.7</td>\n",
       "      <td>Роботы и дроны</td>\n",
       "      <td>Deep Robotics показала акробатические возможно...</td>\n",
       "    </tr>\n",
       "  </tbody>\n",
       "</table>\n",
       "</div>"
      ],
      "text/plain": [
       "                                                   0                1  \\\n",
       "0  Кроманьонские дети отпечатали ладони на стенах...  Михаил Подрезов   \n",
       "1  Расставание с партнерами снизило успех размнож...   Сергей Коленов   \n",
       "2  В Германии обнаружили часть миниатюрного римск...  Михаил Подрезов   \n",
       "3  В Эквадоре раскопали древнее захоронение берем...  Михаил Подрезов   \n",
       "4  Колесная робособака Lynx постояла на одной ног...     Андрей Фокин   \n",
       "\n",
       "            2    3                         4  \\\n",
       "0  2025-01-27  3.3  Антропология, Археология   \n",
       "1  2025-01-29  3.4                  Зоология   \n",
       "2  2025-01-29  1.1                Археология   \n",
       "3  2025-01-29  3.1  Археология, Антропология   \n",
       "4  2025-01-29  1.7            Роботы и дроны   \n",
       "\n",
       "                                                   5  \n",
       "0  Примерно 15 процентов проанализированных изобр...  \n",
       "1  Смена партнера выгодна в долгосрочной перспект...  \n",
       "2  Артефакт относится, видимо, к III или IV веку ...  \n",
       "3  И предсмертной травмой черепа Американские уче...  \n",
       "4  Deep Robotics показала акробатические возможно...  "
      ]
     },
     "execution_count": 27,
     "metadata": {},
     "output_type": "execute_result"
    }
   ],
   "source": [
    "df = pd.DataFrame(info)\n",
    "df.head()"
   ]
  },
  {
   "cell_type": "markdown",
   "metadata": {},
   "source": [
    "Не везде информация сгрузилась корректно, есть проблемы унификации, можно потом поправить это, написав функцию и применив ее через `.apply()` к соответствующим столбцам.\n",
    "\n",
    "А пока добавим содержательные названия столбцов и выгрузим датафрейм в файл:"
   ]
  },
  {
   "cell_type": "code",
   "execution_count": 28,
   "metadata": {},
   "outputs": [],
   "source": [
    "df.columns = [\"title\", \"author\", \"date\", \"diffc\", \"rubrics\", \"text\"]\n",
    "df.to_excel(\"nplus1.xlsx\")"
   ]
  },
  {
   "cell_type": "code",
   "execution_count": 29,
   "metadata": {},
   "outputs": [
    {
     "data": {
      "text/plain": [
       "'/Users/allat/Dropbox/ВШЭ - работа/Кафедра высшей математики/2024-2025/Web-scraping'"
      ]
     },
     "execution_count": 29,
     "metadata": {},
     "output_type": "execute_result"
    }
   ],
   "source": [
    "# если забыли, где рабочая папка – куда файл был сохранен\n",
    "# путь к рабочей папке возвращает функция getcwd() из os\n",
    "\n",
    "import os\n",
    "os.getcwd()"
   ]
  },
  {
   "cell_type": "markdown",
   "metadata": {},
   "source": [
    "### Дополнительно\n",
    "\n",
    "Вспомним `pandas` и немного поработаем с полученными данными. \n",
    "\n",
    "**Сюжет 1. Сложность новости.** Если мы посмотрим на типы столбцов, мы увидим, что они все типа *object*, то есть текстовые."
   ]
  },
  {
   "cell_type": "code",
   "execution_count": 30,
   "metadata": {},
   "outputs": [
    {
     "name": "stdout",
     "output_type": "stream",
     "text": [
      "<class 'pandas.core.frame.DataFrame'>\n",
      "RangeIndex: 52 entries, 0 to 51\n",
      "Data columns (total 6 columns):\n",
      " #   Column   Non-Null Count  Dtype \n",
      "---  ------   --------------  ----- \n",
      " 0   title    52 non-null     object\n",
      " 1   author   52 non-null     object\n",
      " 2   date     52 non-null     object\n",
      " 3   diffc    52 non-null     object\n",
      " 4   rubrics  52 non-null     object\n",
      " 5   text     52 non-null     object\n",
      "dtypes: object(6)\n",
      "memory usage: 2.6+ KB\n"
     ]
    }
   ],
   "source": [
    "df.info()"
   ]
  },
  {
   "cell_type": "markdown",
   "metadata": {},
   "source": [
    " Скорректируем тип столбца `diffc` – изменим его на `float` с помощью метода `.astype()`:"
   ]
  },
  {
   "cell_type": "code",
   "execution_count": 31,
   "metadata": {},
   "outputs": [
    {
     "name": "stdout",
     "output_type": "stream",
     "text": [
      "<class 'pandas.core.frame.DataFrame'>\n",
      "RangeIndex: 52 entries, 0 to 51\n",
      "Data columns (total 6 columns):\n",
      " #   Column   Non-Null Count  Dtype  \n",
      "---  ------   --------------  -----  \n",
      " 0   title    52 non-null     object \n",
      " 1   author   52 non-null     object \n",
      " 2   date     52 non-null     object \n",
      " 3   diffc    52 non-null     float64\n",
      " 4   rubrics  52 non-null     object \n",
      " 5   text     52 non-null     object \n",
      "dtypes: float64(1), object(5)\n",
      "memory usage: 2.6+ KB\n"
     ]
    }
   ],
   "source": [
    "df[\"diffc\"] = df[\"diffc\"].astype(float)\n",
    "df.info()"
   ]
  },
  {
   "cell_type": "markdown",
   "metadata": {},
   "source": [
    "Построим гистограмму для визуализации распределения сложности новости:"
   ]
  },
  {
   "cell_type": "code",
   "execution_count": 32,
   "metadata": {},
   "outputs": [
    {
     "data": {
      "image/png": "[encoded data removed]",
      "text/plain": [
       "<Figure size 432x288 with 1 Axes>"
      ]
     },
     "metadata": {
      "needs_background": "light"
     },
     "output_type": "display_data"
    }
   ],
   "source": [
    "# color – цвет заливки, edgecolor – цвет границ столбцов\n",
    "\n",
    "df[\"diffc\"].hist(color = \"limegreen\", edgecolor = \"white\");"
   ]
  },
  {
   "cell_type": "markdown",
   "metadata": {},
   "source": [
    "Выберем самые сложности новости – посмотрим, к каким рубрикам они относятся:"
   ]
  },
  {
   "cell_type": "code",
   "execution_count": 34,
   "metadata": {},
   "outputs": [
    {
     "data": {
      "text/html": [
       "<div>\n",
       "<style scoped>\n",
       "    .dataframe tbody tr th:only-of-type {\n",
       "        vertical-align: middle;\n",
       "    }\n",
       "\n",
       "    .dataframe tbody tr th {\n",
       "        vertical-align: top;\n",
       "    }\n",
       "\n",
       "    .dataframe thead th {\n",
       "        text-align: right;\n",
       "    }\n",
       "</style>\n",
       "<table border=\"1\" class=\"dataframe\">\n",
       "  <thead>\n",
       "    <tr style=\"text-align: right;\">\n",
       "      <th></th>\n",
       "      <th>title</th>\n",
       "      <th>author</th>\n",
       "      <th>date</th>\n",
       "      <th>diffc</th>\n",
       "      <th>rubrics</th>\n",
       "      <th>text</th>\n",
       "    </tr>\n",
       "  </thead>\n",
       "  <tbody>\n",
       "    <tr>\n",
       "      <th>12</th>\n",
       "      <td>Аномальный эффект Холла обнаружили в трехслойн...</td>\n",
       "      <td>Егор Конюхов</td>\n",
       "      <td>2025-01-28</td>\n",
       "      <td>5.3</td>\n",
       "      <td>Физика</td>\n",
       "      <td>Физики предположили, что ферромагнетизм в обра...</td>\n",
       "    </tr>\n",
       "    <tr>\n",
       "      <th>16</th>\n",
       "      <td>Физики создали квантовые состояния кота Шрёдин...</td>\n",
       "      <td>Дмитрий Рудик</td>\n",
       "      <td>2025-01-27</td>\n",
       "      <td>7.8</td>\n",
       "      <td>Физика</td>\n",
       "      <td>Это удалось сделать при помощи атомов сурьмы н...</td>\n",
       "    </tr>\n",
       "    <tr>\n",
       "      <th>17</th>\n",
       "      <td>Хлорид-анион пролез через слой графена с дефек...</td>\n",
       "      <td>Михаил Бойм</td>\n",
       "      <td>2025-01-27</td>\n",
       "      <td>5.1</td>\n",
       "      <td>Химия</td>\n",
       "      <td>А потом застрял между двумя слоями Химики из Г...</td>\n",
       "    </tr>\n",
       "    <tr>\n",
       "      <th>41</th>\n",
       "      <td>Детский стресс повлиял на метилирование ДНК в ...</td>\n",
       "      <td>Юлия Нестерова</td>\n",
       "      <td>2025-01-13</td>\n",
       "      <td>5.7</td>\n",
       "      <td>Медицина, Биология</td>\n",
       "      <td>Он привел к нарушению регуляции генов, связанн...</td>\n",
       "    </tr>\n",
       "    <tr>\n",
       "      <th>45</th>\n",
       "      <td>В ушах и носу млекопитающих нашли новую скелет...</td>\n",
       "      <td>Юлия Нестерова</td>\n",
       "      <td>2025-01-17</td>\n",
       "      <td>5.5</td>\n",
       "      <td>Биология, Медицина, Наука</td>\n",
       "      <td>Он сочетает в себе признаки жировой и хрящевой...</td>\n",
       "    </tr>\n",
       "    <tr>\n",
       "      <th>48</th>\n",
       "      <td>Хлорид-анион пролез через слой графена с дефек...</td>\n",
       "      <td>Михаил Бойм</td>\n",
       "      <td>2025-01-27</td>\n",
       "      <td>5.1</td>\n",
       "      <td>Химия</td>\n",
       "      <td>А потом застрял между двумя слоями Химики из Г...</td>\n",
       "    </tr>\n",
       "    <tr>\n",
       "      <th>49</th>\n",
       "      <td>Физики создали квантовые состояния кота Шрёдин...</td>\n",
       "      <td>Дмитрий Рудик</td>\n",
       "      <td>2025-01-27</td>\n",
       "      <td>7.8</td>\n",
       "      <td>Физика</td>\n",
       "      <td>Это удалось сделать при помощи атомов сурьмы н...</td>\n",
       "    </tr>\n",
       "    <tr>\n",
       "      <th>50</th>\n",
       "      <td>Аномальный эффект Холла обнаружили в трехслойн...</td>\n",
       "      <td>Егор Конюхов</td>\n",
       "      <td>2025-01-28</td>\n",
       "      <td>5.3</td>\n",
       "      <td>Физика</td>\n",
       "      <td>Физики предположили, что ферромагнетизм в обра...</td>\n",
       "    </tr>\n",
       "  </tbody>\n",
       "</table>\n",
       "</div>"
      ],
      "text/plain": [
       "                                                title          author  \\\n",
       "12  Аномальный эффект Холла обнаружили в трехслойн...    Егор Конюхов   \n",
       "16  Физики создали квантовые состояния кота Шрёдин...   Дмитрий Рудик   \n",
       "17  Хлорид-анион пролез через слой графена с дефек...     Михаил Бойм   \n",
       "41  Детский стресс повлиял на метилирование ДНК в ...  Юлия Нестерова   \n",
       "45  В ушах и носу млекопитающих нашли новую скелет...  Юлия Нестерова   \n",
       "48  Хлорид-анион пролез через слой графена с дефек...     Михаил Бойм   \n",
       "49  Физики создали квантовые состояния кота Шрёдин...   Дмитрий Рудик   \n",
       "50  Аномальный эффект Холла обнаружили в трехслойн...    Егор Конюхов   \n",
       "\n",
       "          date  diffc                    rubrics  \\\n",
       "12  2025-01-28    5.3                     Физика   \n",
       "16  2025-01-27    7.8                     Физика   \n",
       "17  2025-01-27    5.1                      Химия   \n",
       "41  2025-01-13    5.7         Медицина, Биология   \n",
       "45  2025-01-17    5.5  Биология, Медицина, Наука   \n",
       "48  2025-01-27    5.1                      Химия   \n",
       "49  2025-01-27    7.8                     Физика   \n",
       "50  2025-01-28    5.3                     Физика   \n",
       "\n",
       "                                                 text  \n",
       "12  Физики предположили, что ферромагнетизм в обра...  \n",
       "16  Это удалось сделать при помощи атомов сурьмы н...  \n",
       "17  А потом застрял между двумя слоями Химики из Г...  \n",
       "41  Он привел к нарушению регуляции генов, связанн...  \n",
       "45  Он сочетает в себе признаки жировой и хрящевой...  \n",
       "48  А потом застрял между двумя слоями Химики из Г...  \n",
       "49  Это удалось сделать при помощи атомов сурьмы н...  \n",
       "50  Физики предположили, что ферромагнетизм в обра...  "
      ]
     },
     "execution_count": 34,
     "metadata": {},
     "output_type": "execute_result"
    }
   ],
   "source": [
    "df[df[\"diffc\"] > 5]"
   ]
  },
  {
   "cell_type": "markdown",
   "metadata": {},
   "source": [
    "Как можно заметить, в датафрейме есть дубликаты строк (одинаковые новости), некоторые ссылки попались в исходном коде страницы дважды. Можем избавиться от них с помощью метода `.drop_duplicates()`:"
   ]
  },
  {
   "cell_type": "code",
   "execution_count": 35,
   "metadata": {},
   "outputs": [
    {
     "name": "stdout",
     "output_type": "stream",
     "text": [
      "<class 'pandas.core.frame.DataFrame'>\n",
      "Int64Index: 47 entries, 0 to 46\n",
      "Data columns (total 6 columns):\n",
      " #   Column   Non-Null Count  Dtype  \n",
      "---  ------   --------------  -----  \n",
      " 0   title    47 non-null     object \n",
      " 1   author   47 non-null     object \n",
      " 2   date     47 non-null     object \n",
      " 3   diffc    47 non-null     float64\n",
      " 4   rubrics  47 non-null     object \n",
      " 5   text     47 non-null     object \n",
      "dtypes: float64(1), object(5)\n",
      "memory usage: 2.6+ KB\n"
     ]
    }
   ],
   "source": [
    "df = df.drop_duplicates()\n",
    "df.info() # уже меньше строк"
   ]
  },
  {
   "cell_type": "markdown",
   "metadata": {},
   "source": [
    "**Сюжет 2. Авторы новостей.** Раз вспомнили про гистограмму, вспомним и про столбиковую диаграмму. Построим таблицу частот для авторов новостей:"
   ]
  },
  {
   "cell_type": "code",
   "execution_count": 36,
   "metadata": {},
   "outputs": [
    {
     "data": {
      "text/plain": [
       "Михаил Подрезов     13\n",
       "Олег Лищук          12\n",
       "Сергей Коленов       4\n",
       "Андрей Фокин         4\n",
       "Катерина Петрова     4\n",
       "Егор Конюхов         3\n",
       "Юлия Нестерова       3\n",
       "Дмитрий Рудик        2\n",
       "Михаил Бойм          1\n",
       "Сергей Ястребов      1\n",
       "Name: author, dtype: int64"
      ]
     },
     "execution_count": 36,
     "metadata": {},
     "output_type": "execute_result"
    }
   ],
   "source": [
    "# автор и количество его статей\n",
    "\n",
    "df[\"author\"].value_counts()"
   ]
  },
  {
   "cell_type": "markdown",
   "metadata": {},
   "source": [
    "Допишем метод `.plot.bar()` к полученной таблице и построим график:"
   ]
  },
  {
   "cell_type": "code",
   "execution_count": 37,
   "metadata": {},
   "outputs": [
    {
     "data": {
      "image/png": "[encoded data removed]",
      "text/plain": [
       "<Figure size 432x288 with 1 Axes>"
      ]
     },
     "metadata": {
      "needs_background": "light"
     },
     "output_type": "display_data"
    }
   ],
   "source": [
    "df[\"author\"].value_counts().plot.bar();"
   ]
  },
  {
   "cell_type": "markdown",
   "metadata": {},
   "source": [
    "Вот тут цвета уже можно добавить для каждого столбца отдельно:"
   ]
  },
  {
   "cell_type": "code",
   "execution_count": 39,
   "metadata": {},
   "outputs": [
    {
     "data": {
      "image/png": "[encoded data removed]",
      "text/plain": [
       "<Figure size 432x288 with 1 Axes>"
      ]
     },
     "metadata": {
      "needs_background": "light"
     },
     "output_type": "display_data"
    }
   ],
   "source": [
    "# коды цветов из готовых палитр\n",
    "#https://coolors.co/palettes/popular/10%20colors\n",
    "\n",
    "my_col = [\"#03071e\", \"#370617\", \"#6A040F\", \"#9D0208\", \"#D00000\", \n",
    "          \"#DC2F02\", \"#E85D04\", \"#F48C06\", \"#FAA307\", \"#FFBA08\"]\n",
    "\n",
    "df[\"author\"].value_counts().plot.bar(color = my_col);"
   ]
  },
  {
   "cell_type": "markdown",
   "metadata": {},
   "source": [
    "**Сюжет 3. Выбор новостей по рубрикам.** Если мы хотим выбрать новости, которые относятся к какой-то рубрике и только к ней, проблем не возникает:"
   ]
  },
  {
   "cell_type": "code",
   "execution_count": 40,
   "metadata": {},
   "outputs": [
    {
     "data": {
      "text/html": [
       "<div>\n",
       "<style scoped>\n",
       "    .dataframe tbody tr th:only-of-type {\n",
       "        vertical-align: middle;\n",
       "    }\n",
       "\n",
       "    .dataframe tbody tr th {\n",
       "        vertical-align: top;\n",
       "    }\n",
       "\n",
       "    .dataframe thead th {\n",
       "        text-align: right;\n",
       "    }\n",
       "</style>\n",
       "<table border=\"1\" class=\"dataframe\">\n",
       "  <thead>\n",
       "    <tr style=\"text-align: right;\">\n",
       "      <th></th>\n",
       "      <th>title</th>\n",
       "      <th>author</th>\n",
       "      <th>date</th>\n",
       "      <th>diffc</th>\n",
       "      <th>rubrics</th>\n",
       "      <th>text</th>\n",
       "    </tr>\n",
       "  </thead>\n",
       "  <tbody>\n",
       "    <tr>\n",
       "      <th>18</th>\n",
       "      <td>Терапевтическая вакцина помогла при предраковы...</td>\n",
       "      <td>Олег Лищук</td>\n",
       "      <td>2025-01-27</td>\n",
       "      <td>2.4</td>\n",
       "      <td>Медицина</td>\n",
       "      <td>Во второй фазе испытаний Аннеке Эркенс (Anneke...</td>\n",
       "    </tr>\n",
       "    <tr>\n",
       "      <th>21</th>\n",
       "      <td>Риск долгого ковида у женщин оказался повышен ...</td>\n",
       "      <td>Олег Лищук</td>\n",
       "      <td>2025-01-27</td>\n",
       "      <td>1.2</td>\n",
       "      <td>Медицина</td>\n",
       "      <td>Исследование проводили в США Димпи Шах (Dimpy ...</td>\n",
       "    </tr>\n",
       "    <tr>\n",
       "      <th>25</th>\n",
       "      <td>Расстройство пищевого поведения у японки приве...</td>\n",
       "      <td>Олег Лищук</td>\n",
       "      <td>2025-01-24</td>\n",
       "      <td>3.1</td>\n",
       "      <td>Медицина</td>\n",
       "      <td>Ей помогла когнитивно-поведенческая психотерап...</td>\n",
       "    </tr>\n",
       "    <tr>\n",
       "      <th>28</th>\n",
       "      <td>Хирургическое лечение обструктивного апноэ сна...</td>\n",
       "      <td>Олег Лищук</td>\n",
       "      <td>2025-01-23</td>\n",
       "      <td>1.4</td>\n",
       "      <td>Медицина</td>\n",
       "      <td>Статистику собирали в США Эллиотт Сина (Elliot...</td>\n",
       "    </tr>\n",
       "    <tr>\n",
       "      <th>34</th>\n",
       "      <td>Экспериментальный препарат сураксавир ускорил ...</td>\n",
       "      <td>Олег Лищук</td>\n",
       "      <td>2025-01-23</td>\n",
       "      <td>2.6</td>\n",
       "      <td>Медицина</td>\n",
       "      <td>Но не у женщин Китайские исследователи провели...</td>\n",
       "    </tr>\n",
       "    <tr>\n",
       "      <th>38</th>\n",
       "      <td>Опубликован детальный анализ второй пересадки ...</td>\n",
       "      <td>Олег Лищук</td>\n",
       "      <td>2025-01-09</td>\n",
       "      <td>4.1</td>\n",
       "      <td>Медицина</td>\n",
       "      <td>Пациент прожил с ним около шести недель Америк...</td>\n",
       "    </tr>\n",
       "    <tr>\n",
       "      <th>43</th>\n",
       "      <td>CAR-NK-терапия из донорских стволовых клеток у...</td>\n",
       "      <td>Олег Лищук</td>\n",
       "      <td>2025-01-16</td>\n",
       "      <td>4.2</td>\n",
       "      <td>Медицина</td>\n",
       "      <td>Ее токсичность при В-клеточной лимфоме была ни...</td>\n",
       "    </tr>\n",
       "  </tbody>\n",
       "</table>\n",
       "</div>"
      ],
      "text/plain": [
       "                                                title      author        date  \\\n",
       "18  Терапевтическая вакцина помогла при предраковы...  Олег Лищук  2025-01-27   \n",
       "21  Риск долгого ковида у женщин оказался повышен ...  Олег Лищук  2025-01-27   \n",
       "25  Расстройство пищевого поведения у японки приве...  Олег Лищук  2025-01-24   \n",
       "28  Хирургическое лечение обструктивного апноэ сна...  Олег Лищук  2025-01-23   \n",
       "34  Экспериментальный препарат сураксавир ускорил ...  Олег Лищук  2025-01-23   \n",
       "38  Опубликован детальный анализ второй пересадки ...  Олег Лищук  2025-01-09   \n",
       "43  CAR-NK-терапия из донорских стволовых клеток у...  Олег Лищук  2025-01-16   \n",
       "\n",
       "    diffc   rubrics                                               text  \n",
       "18    2.4  Медицина  Во второй фазе испытаний Аннеке Эркенс (Anneke...  \n",
       "21    1.2  Медицина  Исследование проводили в США Димпи Шах (Dimpy ...  \n",
       "25    3.1  Медицина  Ей помогла когнитивно-поведенческая психотерап...  \n",
       "28    1.4  Медицина  Статистику собирали в США Эллиотт Сина (Elliot...  \n",
       "34    2.6  Медицина  Но не у женщин Китайские исследователи провели...  \n",
       "38    4.1  Медицина  Пациент прожил с ним около шести недель Америк...  \n",
       "43    4.2  Медицина  Ее токсичность при В-клеточной лимфоме была ни...  "
      ]
     },
     "execution_count": 40,
     "metadata": {},
     "output_type": "execute_result"
    }
   ],
   "source": [
    "df[df[\"rubrics\"] == \"Медицина\"]"
   ]
  },
  {
   "cell_type": "markdown",
   "metadata": {},
   "source": [
    "Проблемы возникают тогда, когда новость относится к разным рубрикам, потому что тут уже нужно проверять вхождение нужного слова в строку. Для этого пригодится метод `.contains()`, который скрыт внутри набора методов `str` для строк, он проверяет вхождение подстроки в строку и возвращает `True` или `False` как обычное условие: "
   ]
  },
  {
   "cell_type": "code",
   "execution_count": 41,
   "metadata": {},
   "outputs": [
    {
     "data": {
      "text/html": [
       "<div>\n",
       "<style scoped>\n",
       "    .dataframe tbody tr th:only-of-type {\n",
       "        vertical-align: middle;\n",
       "    }\n",
       "\n",
       "    .dataframe tbody tr th {\n",
       "        vertical-align: top;\n",
       "    }\n",
       "\n",
       "    .dataframe thead th {\n",
       "        text-align: right;\n",
       "    }\n",
       "</style>\n",
       "<table border=\"1\" class=\"dataframe\">\n",
       "  <thead>\n",
       "    <tr style=\"text-align: right;\">\n",
       "      <th></th>\n",
       "      <th>title</th>\n",
       "      <th>author</th>\n",
       "      <th>date</th>\n",
       "      <th>diffc</th>\n",
       "      <th>rubrics</th>\n",
       "      <th>text</th>\n",
       "    </tr>\n",
       "  </thead>\n",
       "  <tbody>\n",
       "    <tr>\n",
       "      <th>5</th>\n",
       "      <td>Агрессивное лечение гипертензии снизило риск к...</td>\n",
       "      <td>Олег Лищук</td>\n",
       "      <td>2025-01-29</td>\n",
       "      <td>1.2</td>\n",
       "      <td>Медицина, Психология</td>\n",
       "      <td>По данным клинических испытаний Дэвид Ребуссен...</td>\n",
       "    </tr>\n",
       "    <tr>\n",
       "      <th>10</th>\n",
       "      <td>Посчитаны риски 175 возможных последствий для ...</td>\n",
       "      <td>Юлия Нестерова</td>\n",
       "      <td>2025-01-28</td>\n",
       "      <td>4.1</td>\n",
       "      <td>Медицина, Биология</td>\n",
       "      <td>В исследовании участвовали два миллиона пациен...</td>\n",
       "    </tr>\n",
       "    <tr>\n",
       "      <th>18</th>\n",
       "      <td>Терапевтическая вакцина помогла при предраковы...</td>\n",
       "      <td>Олег Лищук</td>\n",
       "      <td>2025-01-27</td>\n",
       "      <td>2.4</td>\n",
       "      <td>Медицина</td>\n",
       "      <td>Во второй фазе испытаний Аннеке Эркенс (Anneke...</td>\n",
       "    </tr>\n",
       "    <tr>\n",
       "      <th>20</th>\n",
       "      <td>Вакцины и антибиотики с противовоспалительными...</td>\n",
       "      <td>Олег Лищук</td>\n",
       "      <td>2025-01-27</td>\n",
       "      <td>1.2</td>\n",
       "      <td>Медицина, Психология</td>\n",
       "      <td>А сахароснижающие, антипсихотики и пищевые доб...</td>\n",
       "    </tr>\n",
       "    <tr>\n",
       "      <th>21</th>\n",
       "      <td>Риск долгого ковида у женщин оказался повышен ...</td>\n",
       "      <td>Олег Лищук</td>\n",
       "      <td>2025-01-27</td>\n",
       "      <td>1.2</td>\n",
       "      <td>Медицина</td>\n",
       "      <td>Исследование проводили в США Димпи Шах (Dimpy ...</td>\n",
       "    </tr>\n",
       "    <tr>\n",
       "      <th>25</th>\n",
       "      <td>Расстройство пищевого поведения у японки приве...</td>\n",
       "      <td>Олег Лищук</td>\n",
       "      <td>2025-01-24</td>\n",
       "      <td>3.1</td>\n",
       "      <td>Медицина</td>\n",
       "      <td>Ей помогла когнитивно-поведенческая психотерап...</td>\n",
       "    </tr>\n",
       "    <tr>\n",
       "      <th>26</th>\n",
       "      <td>У взрослых с СДВГ оказалась меньше продолжител...</td>\n",
       "      <td>Олег Лищук</td>\n",
       "      <td>2025-01-24</td>\n",
       "      <td>1.3</td>\n",
       "      <td>Психология, Социология, Медицина</td>\n",
       "      <td>Исследование проводили в Великобритании Джош С...</td>\n",
       "    </tr>\n",
       "    <tr>\n",
       "      <th>27</th>\n",
       "      <td>FDA разрешило монотерапию устойчивой депрессии...</td>\n",
       "      <td>Олег Лищук</td>\n",
       "      <td>2025-01-24</td>\n",
       "      <td>1.9</td>\n",
       "      <td>Медицина, Психология</td>\n",
       "      <td>Он стал первым методом монотерапии этого забол...</td>\n",
       "    </tr>\n",
       "    <tr>\n",
       "      <th>28</th>\n",
       "      <td>Хирургическое лечение обструктивного апноэ сна...</td>\n",
       "      <td>Олег Лищук</td>\n",
       "      <td>2025-01-23</td>\n",
       "      <td>1.4</td>\n",
       "      <td>Медицина</td>\n",
       "      <td>Статистику собирали в США Эллиотт Сина (Elliot...</td>\n",
       "    </tr>\n",
       "    <tr>\n",
       "      <th>34</th>\n",
       "      <td>Экспериментальный препарат сураксавир ускорил ...</td>\n",
       "      <td>Олег Лищук</td>\n",
       "      <td>2025-01-23</td>\n",
       "      <td>2.6</td>\n",
       "      <td>Медицина</td>\n",
       "      <td>Но не у женщин Китайские исследователи провели...</td>\n",
       "    </tr>\n",
       "    <tr>\n",
       "      <th>38</th>\n",
       "      <td>Опубликован детальный анализ второй пересадки ...</td>\n",
       "      <td>Олег Лищук</td>\n",
       "      <td>2025-01-09</td>\n",
       "      <td>4.1</td>\n",
       "      <td>Медицина</td>\n",
       "      <td>Пациент прожил с ним около шести недель Америк...</td>\n",
       "    </tr>\n",
       "    <tr>\n",
       "      <th>41</th>\n",
       "      <td>Детский стресс повлиял на метилирование ДНК в ...</td>\n",
       "      <td>Юлия Нестерова</td>\n",
       "      <td>2025-01-13</td>\n",
       "      <td>5.7</td>\n",
       "      <td>Медицина, Биология</td>\n",
       "      <td>Он привел к нарушению регуляции генов, связанн...</td>\n",
       "    </tr>\n",
       "    <tr>\n",
       "      <th>43</th>\n",
       "      <td>CAR-NK-терапия из донорских стволовых клеток у...</td>\n",
       "      <td>Олег Лищук</td>\n",
       "      <td>2025-01-16</td>\n",
       "      <td>4.2</td>\n",
       "      <td>Медицина</td>\n",
       "      <td>Ее токсичность при В-клеточной лимфоме была ни...</td>\n",
       "    </tr>\n",
       "    <tr>\n",
       "      <th>45</th>\n",
       "      <td>В ушах и носу млекопитающих нашли новую скелет...</td>\n",
       "      <td>Юлия Нестерова</td>\n",
       "      <td>2025-01-17</td>\n",
       "      <td>5.5</td>\n",
       "      <td>Биология, Медицина, Наука</td>\n",
       "      <td>Он сочетает в себе признаки жировой и хрящевой...</td>\n",
       "    </tr>\n",
       "  </tbody>\n",
       "</table>\n",
       "</div>"
      ],
      "text/plain": [
       "                                                title          author  \\\n",
       "5   Агрессивное лечение гипертензии снизило риск к...      Олег Лищук   \n",
       "10  Посчитаны риски 175 возможных последствий для ...  Юлия Нестерова   \n",
       "18  Терапевтическая вакцина помогла при предраковы...      Олег Лищук   \n",
       "20  Вакцины и антибиотики с противовоспалительными...      Олег Лищук   \n",
       "21  Риск долгого ковида у женщин оказался повышен ...      Олег Лищук   \n",
       "25  Расстройство пищевого поведения у японки приве...      Олег Лищук   \n",
       "26  У взрослых с СДВГ оказалась меньше продолжител...      Олег Лищук   \n",
       "27  FDA разрешило монотерапию устойчивой депрессии...      Олег Лищук   \n",
       "28  Хирургическое лечение обструктивного апноэ сна...      Олег Лищук   \n",
       "34  Экспериментальный препарат сураксавир ускорил ...      Олег Лищук   \n",
       "38  Опубликован детальный анализ второй пересадки ...      Олег Лищук   \n",
       "41  Детский стресс повлиял на метилирование ДНК в ...  Юлия Нестерова   \n",
       "43  CAR-NK-терапия из донорских стволовых клеток у...      Олег Лищук   \n",
       "45  В ушах и носу млекопитающих нашли новую скелет...  Юлия Нестерова   \n",
       "\n",
       "          date  diffc                           rubrics  \\\n",
       "5   2025-01-29    1.2              Медицина, Психология   \n",
       "10  2025-01-28    4.1                Медицина, Биология   \n",
       "18  2025-01-27    2.4                          Медицина   \n",
       "20  2025-01-27    1.2              Медицина, Психология   \n",
       "21  2025-01-27    1.2                          Медицина   \n",
       "25  2025-01-24    3.1                          Медицина   \n",
       "26  2025-01-24    1.3  Психология, Социология, Медицина   \n",
       "27  2025-01-24    1.9              Медицина, Психология   \n",
       "28  2025-01-23    1.4                          Медицина   \n",
       "34  2025-01-23    2.6                          Медицина   \n",
       "38  2025-01-09    4.1                          Медицина   \n",
       "41  2025-01-13    5.7                Медицина, Биология   \n",
       "43  2025-01-16    4.2                          Медицина   \n",
       "45  2025-01-17    5.5         Биология, Медицина, Наука   \n",
       "\n",
       "                                                 text  \n",
       "5   По данным клинических испытаний Дэвид Ребуссен...  \n",
       "10  В исследовании участвовали два миллиона пациен...  \n",
       "18  Во второй фазе испытаний Аннеке Эркенс (Anneke...  \n",
       "20  А сахароснижающие, антипсихотики и пищевые доб...  \n",
       "21  Исследование проводили в США Димпи Шах (Dimpy ...  \n",
       "25  Ей помогла когнитивно-поведенческая психотерап...  \n",
       "26  Исследование проводили в Великобритании Джош С...  \n",
       "27  Он стал первым методом монотерапии этого забол...  \n",
       "28  Статистику собирали в США Эллиотт Сина (Elliot...  \n",
       "34  Но не у женщин Китайские исследователи провели...  \n",
       "38  Пациент прожил с ним около шести недель Америк...  \n",
       "41  Он привел к нарушению регуляции генов, связанн...  \n",
       "43  Ее токсичность при В-клеточной лимфоме была ни...  \n",
       "45  Он сочетает в себе признаки жировой и хрящевой...  "
      ]
     },
     "execution_count": 41,
     "metadata": {},
     "output_type": "execute_result"
    }
   ],
   "source": [
    "df[df[\"rubrics\"].str.contains(\"Медицина\")]"
   ]
  },
  {
   "cell_type": "markdown",
   "metadata": {},
   "source": [
    "К слову, если рубрик несколько и мы ищем их по отдельности, будет полезен метод `.isin()`, он проверяет, входит ли значение в ячейке в список, который мы подали на вход:"
   ]
  },
  {
   "cell_type": "code",
   "execution_count": 42,
   "metadata": {},
   "outputs": [
    {
     "data": {
      "text/html": [
       "<div>\n",
       "<style scoped>\n",
       "    .dataframe tbody tr th:only-of-type {\n",
       "        vertical-align: middle;\n",
       "    }\n",
       "\n",
       "    .dataframe tbody tr th {\n",
       "        vertical-align: top;\n",
       "    }\n",
       "\n",
       "    .dataframe thead th {\n",
       "        text-align: right;\n",
       "    }\n",
       "</style>\n",
       "<table border=\"1\" class=\"dataframe\">\n",
       "  <thead>\n",
       "    <tr style=\"text-align: right;\">\n",
       "      <th></th>\n",
       "      <th>title</th>\n",
       "      <th>author</th>\n",
       "      <th>date</th>\n",
       "      <th>diffc</th>\n",
       "      <th>rubrics</th>\n",
       "      <th>text</th>\n",
       "    </tr>\n",
       "  </thead>\n",
       "  <tbody>\n",
       "    <tr>\n",
       "      <th>1</th>\n",
       "      <td>Расставание с партнерами снизило успех размнож...</td>\n",
       "      <td>Сергей Коленов</td>\n",
       "      <td>2025-01-29</td>\n",
       "      <td>3.4</td>\n",
       "      <td>Зоология</td>\n",
       "      <td>Смена партнера выгодна в долгосрочной перспект...</td>\n",
       "    </tr>\n",
       "    <tr>\n",
       "      <th>6</th>\n",
       "      <td>Плюшеголовые сойки не сумели воспользоваться и...</td>\n",
       "      <td>Катерина Петрова</td>\n",
       "      <td>2025-01-29</td>\n",
       "      <td>2.5</td>\n",
       "      <td>Зоология</td>\n",
       "      <td>Хотя с решением неинструментальной задачи проб...</td>\n",
       "    </tr>\n",
       "    <tr>\n",
       "      <th>12</th>\n",
       "      <td>Аномальный эффект Холла обнаружили в трехслойн...</td>\n",
       "      <td>Егор Конюхов</td>\n",
       "      <td>2025-01-28</td>\n",
       "      <td>5.3</td>\n",
       "      <td>Физика</td>\n",
       "      <td>Физики предположили, что ферромагнетизм в обра...</td>\n",
       "    </tr>\n",
       "    <tr>\n",
       "      <th>13</th>\n",
       "      <td>Альфа-самцы павианов потратили много энергии н...</td>\n",
       "      <td>Катерина Петрова</td>\n",
       "      <td>2025-01-27</td>\n",
       "      <td>2.3</td>\n",
       "      <td>Зоология</td>\n",
       "      <td>Это было связано со спариванием Биологи из Кен...</td>\n",
       "    </tr>\n",
       "    <tr>\n",
       "      <th>16</th>\n",
       "      <td>Физики создали квантовые состояния кота Шрёдин...</td>\n",
       "      <td>Дмитрий Рудик</td>\n",
       "      <td>2025-01-27</td>\n",
       "      <td>7.8</td>\n",
       "      <td>Физика</td>\n",
       "      <td>Это удалось сделать при помощи атомов сурьмы н...</td>\n",
       "    </tr>\n",
       "    <tr>\n",
       "      <th>19</th>\n",
       "      <td>Физик сравнил разгадывание кроссворда с перкол...</td>\n",
       "      <td>Егор Конюхов</td>\n",
       "      <td>2025-01-27</td>\n",
       "      <td>2.9</td>\n",
       "      <td>Физика</td>\n",
       "      <td>Разработанная модель не проявила универсальных...</td>\n",
       "    </tr>\n",
       "    <tr>\n",
       "      <th>31</th>\n",
       "      <td>Дикие павианы не прошли зеркальный тест. Однак...</td>\n",
       "      <td>Катерина Петрова</td>\n",
       "      <td>2025-01-23</td>\n",
       "      <td>1.8</td>\n",
       "      <td>Зоология</td>\n",
       "      <td>Однако они, вероятно, частично поняли отражате...</td>\n",
       "    </tr>\n",
       "    <tr>\n",
       "      <th>37</th>\n",
       "      <td>Шимпанзе из зоопарка оказались активнее диких ...</td>\n",
       "      <td>Катерина Петрова</td>\n",
       "      <td>2025-01-22</td>\n",
       "      <td>1.5</td>\n",
       "      <td>Зоология</td>\n",
       "      <td>Ученые засекли и сравнили ночную активность ши...</td>\n",
       "    </tr>\n",
       "    <tr>\n",
       "      <th>40</th>\n",
       "      <td>Детектор CONUS+ увидел упругое когерентное рас...</td>\n",
       "      <td>Дмитрий Рудик</td>\n",
       "      <td>2025-01-13</td>\n",
       "      <td>4.3</td>\n",
       "      <td>Физика</td>\n",
       "      <td>Значимость обнаружения составила 3,7 стандартн...</td>\n",
       "    </tr>\n",
       "    <tr>\n",
       "      <th>46</th>\n",
       "      <td>Анализ генома подтвердил родство сумчатых крот...</td>\n",
       "      <td>Сергей Коленов</td>\n",
       "      <td>2025-01-20</td>\n",
       "      <td>4.3</td>\n",
       "      <td>Зоология</td>\n",
       "      <td>Кроме того, зоологи выяснили, какие гены ответ...</td>\n",
       "    </tr>\n",
       "  </tbody>\n",
       "</table>\n",
       "</div>"
      ],
      "text/plain": [
       "                                                title            author  \\\n",
       "1   Расставание с партнерами снизило успех размнож...    Сергей Коленов   \n",
       "6   Плюшеголовые сойки не сумели воспользоваться и...  Катерина Петрова   \n",
       "12  Аномальный эффект Холла обнаружили в трехслойн...      Егор Конюхов   \n",
       "13  Альфа-самцы павианов потратили много энергии н...  Катерина Петрова   \n",
       "16  Физики создали квантовые состояния кота Шрёдин...     Дмитрий Рудик   \n",
       "19  Физик сравнил разгадывание кроссворда с перкол...      Егор Конюхов   \n",
       "31  Дикие павианы не прошли зеркальный тест. Однак...  Катерина Петрова   \n",
       "37  Шимпанзе из зоопарка оказались активнее диких ...  Катерина Петрова   \n",
       "40  Детектор CONUS+ увидел упругое когерентное рас...     Дмитрий Рудик   \n",
       "46  Анализ генома подтвердил родство сумчатых крот...    Сергей Коленов   \n",
       "\n",
       "          date  diffc   rubrics  \\\n",
       "1   2025-01-29    3.4  Зоология   \n",
       "6   2025-01-29    2.5  Зоология   \n",
       "12  2025-01-28    5.3    Физика   \n",
       "13  2025-01-27    2.3  Зоология   \n",
       "16  2025-01-27    7.8    Физика   \n",
       "19  2025-01-27    2.9    Физика   \n",
       "31  2025-01-23    1.8  Зоология   \n",
       "37  2025-01-22    1.5  Зоология   \n",
       "40  2025-01-13    4.3    Физика   \n",
       "46  2025-01-20    4.3  Зоология   \n",
       "\n",
       "                                                 text  \n",
       "1   Смена партнера выгодна в долгосрочной перспект...  \n",
       "6   Хотя с решением неинструментальной задачи проб...  \n",
       "12  Физики предположили, что ферромагнетизм в обра...  \n",
       "13  Это было связано со спариванием Биологи из Кен...  \n",
       "16  Это удалось сделать при помощи атомов сурьмы н...  \n",
       "19  Разработанная модель не проявила универсальных...  \n",
       "31  Однако они, вероятно, частично поняли отражате...  \n",
       "37  Ученые засекли и сравнили ночную активность ши...  \n",
       "40  Значимость обнаружения составила 3,7 стандартн...  \n",
       "46  Кроме того, зоологи выяснили, какие гены ответ...  "
      ]
     },
     "execution_count": 42,
     "metadata": {},
     "output_type": "execute_result"
    }
   ],
   "source": [
    "df[df[\"rubrics\"].isin([\"Зоология\", \"Физика\"])]"
   ]
  },
  {
   "cell_type": "markdown",
   "metadata": {},
   "source": [
    "**Сюжет 4. Разделение рубрик на несколько столбцов.** Если нам для каких-то целей будет удобнее распределить рубрики по разным столбцам (одна рубрика – один столбец), можно воспользоваться методом `.split()`, который тоже хранится внутри набора `str`:"
   ]
  },
  {
   "cell_type": "code",
   "execution_count": 43,
   "metadata": {},
   "outputs": [
    {
     "data": {
      "text/plain": [
       "0               [Антропология, Археология]\n",
       "1                               [Зоология]\n",
       "2                             [Археология]\n",
       "3               [Археология, Антропология]\n",
       "4                         [Роботы и дроны]\n",
       "5                   [Медицина, Психология]\n",
       "6                               [Зоология]\n",
       "7                         [Роботы и дроны]\n",
       "8                     [Физика, Астрономия]\n",
       "9                             [Археология]\n",
       "10                    [Медицина, Биология]\n",
       "11    [Зоология, Антропология, Археология]\n",
       "12                                [Физика]\n",
       "13                              [Зоология]\n",
       "14              [Антропология, Археология]\n",
       "15                        [Роботы и дроны]\n",
       "16                                [Физика]\n",
       "17                                 [Химия]\n",
       "18                              [Медицина]\n",
       "19                                [Физика]\n",
       "20                  [Медицина, Психология]\n",
       "21                              [Медицина]\n",
       "22           [Зоология, Экология и климат]\n",
       "23                            [Археология]\n",
       "24                            [Археология]\n",
       "25                              [Медицина]\n",
       "26      [Психология, Социология, Медицина]\n",
       "27                  [Медицина, Психология]\n",
       "28                              [Медицина]\n",
       "29           [Зоология, Экология и климат]\n",
       "30                            [Археология]\n",
       "31                              [Зоология]\n",
       "32                [Психология, Социология]\n",
       "33                            [Археология]\n",
       "34                              [Медицина]\n",
       "35                        [Роботы и дроны]\n",
       "36                          [Антропология]\n",
       "37                              [Зоология]\n",
       "38                              [Медицина]\n",
       "39                         [Палеонтология]\n",
       "40                                [Физика]\n",
       "41                    [Медицина, Биология]\n",
       "42              [Антропология, Археология]\n",
       "43                              [Медицина]\n",
       "44              [Антропология, Археология]\n",
       "45             [Биология, Медицина, Наука]\n",
       "46                              [Зоология]\n",
       "Name: rubrics, dtype: object"
      ]
     },
     "execution_count": 43,
     "metadata": {},
     "output_type": "execute_result"
    }
   ],
   "source": [
    "df[\"rubrics\"].str.split(\", \")"
   ]
  },
  {
   "cell_type": "markdown",
   "metadata": {},
   "source": [
    "По умолчанию метод `.split()` в `pandas`, как и в стандартном Python, возвращает список со строками, причём проделывает это для всех ячеек. Это не всегда удобно, при выгрузке в файл это все превратится в строки со скобками и запятыми. Добавим аргумент `expand`, который «растянет» содержимое список на столбцы:"
   ]
  },
  {
   "cell_type": "code",
   "execution_count": 44,
   "metadata": {},
   "outputs": [
    {
     "data": {
      "text/html": [
       "<div>\n",
       "<style scoped>\n",
       "    .dataframe tbody tr th:only-of-type {\n",
       "        vertical-align: middle;\n",
       "    }\n",
       "\n",
       "    .dataframe tbody tr th {\n",
       "        vertical-align: top;\n",
       "    }\n",
       "\n",
       "    .dataframe thead th {\n",
       "        text-align: right;\n",
       "    }\n",
       "</style>\n",
       "<table border=\"1\" class=\"dataframe\">\n",
       "  <thead>\n",
       "    <tr style=\"text-align: right;\">\n",
       "      <th></th>\n",
       "      <th>0</th>\n",
       "      <th>1</th>\n",
       "      <th>2</th>\n",
       "    </tr>\n",
       "  </thead>\n",
       "  <tbody>\n",
       "    <tr>\n",
       "      <th>0</th>\n",
       "      <td>Антропология</td>\n",
       "      <td>Археология</td>\n",
       "      <td>None</td>\n",
       "    </tr>\n",
       "    <tr>\n",
       "      <th>1</th>\n",
       "      <td>Зоология</td>\n",
       "      <td>None</td>\n",
       "      <td>None</td>\n",
       "    </tr>\n",
       "    <tr>\n",
       "      <th>2</th>\n",
       "      <td>Археология</td>\n",
       "      <td>None</td>\n",
       "      <td>None</td>\n",
       "    </tr>\n",
       "    <tr>\n",
       "      <th>3</th>\n",
       "      <td>Археология</td>\n",
       "      <td>Антропология</td>\n",
       "      <td>None</td>\n",
       "    </tr>\n",
       "    <tr>\n",
       "      <th>4</th>\n",
       "      <td>Роботы и дроны</td>\n",
       "      <td>None</td>\n",
       "      <td>None</td>\n",
       "    </tr>\n",
       "    <tr>\n",
       "      <th>5</th>\n",
       "      <td>Медицина</td>\n",
       "      <td>Психология</td>\n",
       "      <td>None</td>\n",
       "    </tr>\n",
       "    <tr>\n",
       "      <th>6</th>\n",
       "      <td>Зоология</td>\n",
       "      <td>None</td>\n",
       "      <td>None</td>\n",
       "    </tr>\n",
       "    <tr>\n",
       "      <th>7</th>\n",
       "      <td>Роботы и дроны</td>\n",
       "      <td>None</td>\n",
       "      <td>None</td>\n",
       "    </tr>\n",
       "    <tr>\n",
       "      <th>8</th>\n",
       "      <td>Физика</td>\n",
       "      <td>Астрономия</td>\n",
       "      <td>None</td>\n",
       "    </tr>\n",
       "    <tr>\n",
       "      <th>9</th>\n",
       "      <td>Археология</td>\n",
       "      <td>None</td>\n",
       "      <td>None</td>\n",
       "    </tr>\n",
       "    <tr>\n",
       "      <th>10</th>\n",
       "      <td>Медицина</td>\n",
       "      <td>Биология</td>\n",
       "      <td>None</td>\n",
       "    </tr>\n",
       "    <tr>\n",
       "      <th>11</th>\n",
       "      <td>Зоология</td>\n",
       "      <td>Антропология</td>\n",
       "      <td>Археология</td>\n",
       "    </tr>\n",
       "    <tr>\n",
       "      <th>12</th>\n",
       "      <td>Физика</td>\n",
       "      <td>None</td>\n",
       "      <td>None</td>\n",
       "    </tr>\n",
       "    <tr>\n",
       "      <th>13</th>\n",
       "      <td>Зоология</td>\n",
       "      <td>None</td>\n",
       "      <td>None</td>\n",
       "    </tr>\n",
       "    <tr>\n",
       "      <th>14</th>\n",
       "      <td>Антропология</td>\n",
       "      <td>Археология</td>\n",
       "      <td>None</td>\n",
       "    </tr>\n",
       "    <tr>\n",
       "      <th>15</th>\n",
       "      <td>Роботы и дроны</td>\n",
       "      <td>None</td>\n",
       "      <td>None</td>\n",
       "    </tr>\n",
       "    <tr>\n",
       "      <th>16</th>\n",
       "      <td>Физика</td>\n",
       "      <td>None</td>\n",
       "      <td>None</td>\n",
       "    </tr>\n",
       "    <tr>\n",
       "      <th>17</th>\n",
       "      <td>Химия</td>\n",
       "      <td>None</td>\n",
       "      <td>None</td>\n",
       "    </tr>\n",
       "    <tr>\n",
       "      <th>18</th>\n",
       "      <td>Медицина</td>\n",
       "      <td>None</td>\n",
       "      <td>None</td>\n",
       "    </tr>\n",
       "    <tr>\n",
       "      <th>19</th>\n",
       "      <td>Физика</td>\n",
       "      <td>None</td>\n",
       "      <td>None</td>\n",
       "    </tr>\n",
       "    <tr>\n",
       "      <th>20</th>\n",
       "      <td>Медицина</td>\n",
       "      <td>Психология</td>\n",
       "      <td>None</td>\n",
       "    </tr>\n",
       "    <tr>\n",
       "      <th>21</th>\n",
       "      <td>Медицина</td>\n",
       "      <td>None</td>\n",
       "      <td>None</td>\n",
       "    </tr>\n",
       "    <tr>\n",
       "      <th>22</th>\n",
       "      <td>Зоология</td>\n",
       "      <td>Экология и климат</td>\n",
       "      <td>None</td>\n",
       "    </tr>\n",
       "    <tr>\n",
       "      <th>23</th>\n",
       "      <td>Археология</td>\n",
       "      <td>None</td>\n",
       "      <td>None</td>\n",
       "    </tr>\n",
       "    <tr>\n",
       "      <th>24</th>\n",
       "      <td>Археология</td>\n",
       "      <td>None</td>\n",
       "      <td>None</td>\n",
       "    </tr>\n",
       "    <tr>\n",
       "      <th>25</th>\n",
       "      <td>Медицина</td>\n",
       "      <td>None</td>\n",
       "      <td>None</td>\n",
       "    </tr>\n",
       "    <tr>\n",
       "      <th>26</th>\n",
       "      <td>Психология</td>\n",
       "      <td>Социология</td>\n",
       "      <td>Медицина</td>\n",
       "    </tr>\n",
       "    <tr>\n",
       "      <th>27</th>\n",
       "      <td>Медицина</td>\n",
       "      <td>Психология</td>\n",
       "      <td>None</td>\n",
       "    </tr>\n",
       "    <tr>\n",
       "      <th>28</th>\n",
       "      <td>Медицина</td>\n",
       "      <td>None</td>\n",
       "      <td>None</td>\n",
       "    </tr>\n",
       "    <tr>\n",
       "      <th>29</th>\n",
       "      <td>Зоология</td>\n",
       "      <td>Экология и климат</td>\n",
       "      <td>None</td>\n",
       "    </tr>\n",
       "    <tr>\n",
       "      <th>30</th>\n",
       "      <td>Археология</td>\n",
       "      <td>None</td>\n",
       "      <td>None</td>\n",
       "    </tr>\n",
       "    <tr>\n",
       "      <th>31</th>\n",
       "      <td>Зоология</td>\n",
       "      <td>None</td>\n",
       "      <td>None</td>\n",
       "    </tr>\n",
       "    <tr>\n",
       "      <th>32</th>\n",
       "      <td>Психология</td>\n",
       "      <td>Социология</td>\n",
       "      <td>None</td>\n",
       "    </tr>\n",
       "    <tr>\n",
       "      <th>33</th>\n",
       "      <td>Археология</td>\n",
       "      <td>None</td>\n",
       "      <td>None</td>\n",
       "    </tr>\n",
       "    <tr>\n",
       "      <th>34</th>\n",
       "      <td>Медицина</td>\n",
       "      <td>None</td>\n",
       "      <td>None</td>\n",
       "    </tr>\n",
       "    <tr>\n",
       "      <th>35</th>\n",
       "      <td>Роботы и дроны</td>\n",
       "      <td>None</td>\n",
       "      <td>None</td>\n",
       "    </tr>\n",
       "    <tr>\n",
       "      <th>36</th>\n",
       "      <td>Антропология</td>\n",
       "      <td>None</td>\n",
       "      <td>None</td>\n",
       "    </tr>\n",
       "    <tr>\n",
       "      <th>37</th>\n",
       "      <td>Зоология</td>\n",
       "      <td>None</td>\n",
       "      <td>None</td>\n",
       "    </tr>\n",
       "    <tr>\n",
       "      <th>38</th>\n",
       "      <td>Медицина</td>\n",
       "      <td>None</td>\n",
       "      <td>None</td>\n",
       "    </tr>\n",
       "    <tr>\n",
       "      <th>39</th>\n",
       "      <td>Палеонтология</td>\n",
       "      <td>None</td>\n",
       "      <td>None</td>\n",
       "    </tr>\n",
       "    <tr>\n",
       "      <th>40</th>\n",
       "      <td>Физика</td>\n",
       "      <td>None</td>\n",
       "      <td>None</td>\n",
       "    </tr>\n",
       "    <tr>\n",
       "      <th>41</th>\n",
       "      <td>Медицина</td>\n",
       "      <td>Биология</td>\n",
       "      <td>None</td>\n",
       "    </tr>\n",
       "    <tr>\n",
       "      <th>42</th>\n",
       "      <td>Антропология</td>\n",
       "      <td>Археология</td>\n",
       "      <td>None</td>\n",
       "    </tr>\n",
       "    <tr>\n",
       "      <th>43</th>\n",
       "      <td>Медицина</td>\n",
       "      <td>None</td>\n",
       "      <td>None</td>\n",
       "    </tr>\n",
       "    <tr>\n",
       "      <th>44</th>\n",
       "      <td>Антропология</td>\n",
       "      <td>Археология</td>\n",
       "      <td>None</td>\n",
       "    </tr>\n",
       "    <tr>\n",
       "      <th>45</th>\n",
       "      <td>Биология</td>\n",
       "      <td>Медицина</td>\n",
       "      <td>Наука</td>\n",
       "    </tr>\n",
       "    <tr>\n",
       "      <th>46</th>\n",
       "      <td>Зоология</td>\n",
       "      <td>None</td>\n",
       "      <td>None</td>\n",
       "    </tr>\n",
       "  </tbody>\n",
       "</table>\n",
       "</div>"
      ],
      "text/plain": [
       "                 0                  1           2\n",
       "0     Антропология         Археология        None\n",
       "1         Зоология               None        None\n",
       "2       Археология               None        None\n",
       "3       Археология       Антропология        None\n",
       "4   Роботы и дроны               None        None\n",
       "5         Медицина         Психология        None\n",
       "6         Зоология               None        None\n",
       "7   Роботы и дроны               None        None\n",
       "8           Физика         Астрономия        None\n",
       "9       Археология               None        None\n",
       "10        Медицина           Биология        None\n",
       "11        Зоология       Антропология  Археология\n",
       "12          Физика               None        None\n",
       "13        Зоология               None        None\n",
       "14    Антропология         Археология        None\n",
       "15  Роботы и дроны               None        None\n",
       "16          Физика               None        None\n",
       "17           Химия               None        None\n",
       "18        Медицина               None        None\n",
       "19          Физика               None        None\n",
       "20        Медицина         Психология        None\n",
       "21        Медицина               None        None\n",
       "22        Зоология  Экология и климат        None\n",
       "23      Археология               None        None\n",
       "24      Археология               None        None\n",
       "25        Медицина               None        None\n",
       "26      Психология         Социология    Медицина\n",
       "27        Медицина         Психология        None\n",
       "28        Медицина               None        None\n",
       "29        Зоология  Экология и климат        None\n",
       "30      Археология               None        None\n",
       "31        Зоология               None        None\n",
       "32      Психология         Социология        None\n",
       "33      Археология               None        None\n",
       "34        Медицина               None        None\n",
       "35  Роботы и дроны               None        None\n",
       "36    Антропология               None        None\n",
       "37        Зоология               None        None\n",
       "38        Медицина               None        None\n",
       "39   Палеонтология               None        None\n",
       "40          Физика               None        None\n",
       "41        Медицина           Биология        None\n",
       "42    Антропология         Археология        None\n",
       "43        Медицина               None        None\n",
       "44    Антропология         Археология        None\n",
       "45        Биология           Медицина       Наука\n",
       "46        Зоология               None        None"
      ]
     },
     "execution_count": 44,
     "metadata": {},
     "output_type": "execute_result"
    }
   ],
   "source": [
    "df_rubs = df[\"rubrics\"].str.split(\", \", expand = True)\n",
    "df_rubs"
   ]
  },
  {
   "cell_type": "markdown",
   "metadata": {},
   "source": [
    "Максимальное число рубрик здесь пять, у новостей, которые относятся к меньшему числу рубрик стоят пустые значения (здесь `None` и `nan` равнозначны). Присвоим столбцам названия:"
   ]
  },
  {
   "cell_type": "code",
   "execution_count": 45,
   "metadata": {},
   "outputs": [],
   "source": [
    "df_rubs.columns = [\"rubric01\", \"rubric02\", \"rubric03\"]"
   ]
  },
  {
   "cell_type": "markdown",
   "metadata": {},
   "source": [
    "Объединим наш старый датафрейм `df` с `df_rubs` по столбцам (`axis = 1`, то есть приклеиваем данные из `df_rubs` справа, а не снизу в виде новых строк):"
   ]
  },
  {
   "cell_type": "code",
   "execution_count": 47,
   "metadata": {},
   "outputs": [],
   "source": [
    "final = pd.concat([df, df_rubs], axis = 1)\n",
    "#final"
   ]
  },
  {
   "cell_type": "code",
   "execution_count": 48,
   "metadata": {},
   "outputs": [],
   "source": [
    "final.to_excel(\"nplus1_upd.xlsx\")"
   ]
  }
 ],
 "metadata": {
  "kernelspec": {
   "display_name": "Python 3",
   "language": "python",
   "name": "python3"
  },
  "language_info": {
   "codemirror_mode": {
    "name": "ipython",
    "version": 3
   },
   "file_extension": ".py",
   "mimetype": "text/x-python",
   "name": "python",
   "nbconvert_exporter": "python",
   "pygments_lexer": "ipython3",
   "version": "3.7.4"
  }
 },
 "nbformat": 4,
 "nbformat_minor": 2
}

{
 "cells": [
  {
   "cell_type": "markdown",
   "metadata": {},
   "source": [
    "## Web-scraping: сбор данных из баз данных и интернет-источников\n",
    "\n",
    "*Алла Тамбовцева, НИУ ВШЭ*\n",
    "\n",
    "## Домашнее задание 1\n",
    "\n",
    "### Формат сдачи\n",
    "\n",
    "Задание выполняется самостоятельно. При любых нетривиальных совпадениях в решениях задач все вовлеченные домашние работы будут оценены на 0 баллов. Свой ipynb-файл с решением необходимо прислать до дедлайна на почту allatambov@gmail.com."
   ]
  },
  {
   "cell_type": "markdown",
   "metadata": {},
   "source": [
    "### Постановка задачи\n",
    "\n",
    "Есть реально существующая [страница](https://elementy.ru/problems/3181/Sekrety_tablitsy_Pifagora) со статьей по математике для школьников.\n",
    "\n",
    "Исходный код данной страницы достаточно громоздкий из-за отсылок к стилевым файлам, фрагментам кода JavaScript для реализации разных процессов и дополнительной информации, которую в режиме пользователя мы не видим. Поэтому была написана упрощенная [версия](https://html-preview.github.io/?url=https://github.com/allatambov/WebScrape25/blob/main/page01.html) этой страницы. В этой версии убраны элементы, не относящиеся непосредственно к статье, плюс, без специальных настроек формулы не отображаются красиво. Это нормально, так должно и быть.\n",
    "\n",
    "Чтобы увидеть исходный код упрощенной версии страницы для изучения и отправки запроса, используйте следующую ссылку: https://raw.githubusercontent.com/allatambov/WebScrape25/refs/heads/main/page01.html.\n",
    "\n",
    "Для выполнения заданий необходимо ознакомиться с полным исходным кодом страницы, инструменты разработчика здесь не сработают, поскольку упрощенная версия страницы лежит на Github как обычный текст. Другими словами, нужно просто посмотреть, что в каких тэгах находится, сопоставляя [это](https://html-preview.github.io/?url=https://github.com/allatambov/WebScrape25/blob/main/page01.html) и [это](https://raw.githubusercontent.com/allatambov/WebScrape25/refs/heads/main/page01.html) :)"
   ]
  },
  {
   "cell_type": "code",
   "execution_count": null,
   "metadata": {},
   "outputs": [],
   "source": [
    "### IMPORTS HERE ###"
   ]
  },
  {
   "cell_type": "markdown",
   "metadata": {},
   "source": [
    "### Задача 1 (0.5 балла)\n",
    "\n",
    "Отправьте запрос GET к упрощенной версии страницы, используя [ссылку](https://raw.githubusercontent.com/allatambov/WebScrape25/refs/heads/main/page01.html). Извлеките исходный код HTML, преобразуйте его в объект типа `BeautifulSoup`."
   ]
  },
  {
   "cell_type": "code",
   "execution_count": null,
   "metadata": {},
   "outputs": [],
   "source": [
    "### YOUR CODE HERE ###"
   ]
  },
  {
   "cell_type": "markdown",
   "metadata": {},
   "source": [
    "### Задача 2 (1 балл)\n",
    "\n",
    "Выполнив поиск по объекту, созданному в задаче 1, найдите и сохраните в переменную заголовок статьи в виде обычной строки с «чистым» текстом без тэгов. \n",
    "\n",
    "Значение переменной для сравнения: `'Секреты таблицы Пифагора'`"
   ]
  },
  {
   "cell_type": "code",
   "execution_count": null,
   "metadata": {},
   "outputs": [],
   "source": [
    "### YOUR CODE HERE ###"
   ]
  },
  {
   "cell_type": "markdown",
   "metadata": {},
   "source": [
    "### Задача 3 (1 балл)\n",
    "\n",
    "Выполнив поиск по объекту, созданному в задаче 1, найдите и сохраните в список подзаголовки статьи. Элементы этого списка должны быть обычными строками с «чистым» текстом без тэгов.\n",
    "\n",
    "Список для сравнения: `['Задача', 'Подсказка', 'Решение', 'Послесловие']`"
   ]
  },
  {
   "cell_type": "code",
   "execution_count": null,
   "metadata": {},
   "outputs": [],
   "source": [
    "### YOUR CODE HERE ###"
   ]
  },
  {
   "cell_type": "markdown",
   "metadata": {},
   "source": [
    "### Задача 4 (1 балл)\n",
    "\n",
    "Выполнив поиск по объекту, созданному в задаче 1, найдите и сохраните в список все абзацы с текстом статьи (без заголовков, подзаголовков, дополнительных подписей). Элементы этого списка должны быть обычными строками с «чистым» текстом без тэгов."
   ]
  },
  {
   "cell_type": "code",
   "execution_count": null,
   "metadata": {},
   "outputs": [],
   "source": [
    "### YOUR CODE HERE ###"
   ]
  },
  {
   "cell_type": "markdown",
   "metadata": {},
   "source": [
    "### Задача 5 (0.5 балла)\n",
    "\n",
    "Объедините элементы списка, полученного в предыдущей задаче, в одну строку с полным текстом статьи. Сохраните полный текст статьи в переменную."
   ]
  },
  {
   "cell_type": "code",
   "execution_count": null,
   "metadata": {},
   "outputs": [],
   "source": [
    "### YOUR CODE HERE ###"
   ]
  },
  {
   "cell_type": "markdown",
   "metadata": {},
   "source": [
    "### Задача 6 (2 балла)\n",
    "\n",
    "Выполнив поиск по объекту, созданному в задаче 1, любым способом найдите и сохраните в переменную имя автора статьи (без лишних пробелов и символов в строке).\n",
    "\n",
    "Значение переменной для сравнения: `'Николай Авилов'`"
   ]
  },
  {
   "cell_type": "code",
   "execution_count": null,
   "metadata": {},
   "outputs": [],
   "source": [
    "### YOUR CODE HERE ###"
   ]
  },
  {
   "cell_type": "markdown",
   "metadata": {},
   "source": [
    "### Задача 7 (2 балла)\n",
    "\n",
    "Выполнив поиск по объекту, созданному в задаче 1, любым способом найдите и сохраните в переменную дату статьи.\n",
    "\n",
    "Значение переменной для сравнения: `'13.01.2025'`"
   ]
  },
  {
   "cell_type": "code",
   "execution_count": null,
   "metadata": {},
   "outputs": [],
   "source": [
    "### YOUR CODE HERE ###"
   ]
  },
  {
   "cell_type": "markdown",
   "metadata": {},
   "source": [
    "### Задача 8 (0.5 балла)\n",
    "\n",
    "Объедините информацию, полученную в предыдущих задачах, в словарь вида:\n",
    "\n",
    "    {\"name\" : значение2,\n",
    "     \"subtitles\" : значение3, \n",
    "     \"text\" : значение5, \n",
    "     \"author\" : значение6, \n",
    "     \"date\" : значение7},\n",
    "     \n",
    "где вместо `значение2`-`значение7` подставлены значения из переменных, созданных в задачах с соответствующими номерами."
   ]
  },
  {
   "cell_type": "code",
   "execution_count": null,
   "metadata": {},
   "outputs": [],
   "source": [
    "### YOUR CODE HERE ###"
   ]
  },
  {
   "cell_type": "markdown",
   "metadata": {},
   "source": [
    "### Задача 9 (0.5 балла)\n",
    "\n",
    "Найдите в исходном тексте все фрагменты с тэгом `<mark>`. Извлеките текст и составьте слово – сохраните его в переменную :)"
   ]
  },
  {
   "cell_type": "code",
   "execution_count": null,
   "metadata": {},
   "outputs": [],
   "source": [
    "### YOUR CODE HERE ###"
   ]
  },
  {
   "cell_type": "markdown",
   "metadata": {},
   "source": [
    "### Задача 10 (1 балл)\n",
    "\n",
    "1. Перейдите по [ссылке](https://raw.githubusercontent.com/allatambov/WebScrape25/refs/heads/main/page01.html) на страницу с исходным кодом, скопируйте весь код HTML – весь текст на странице. \n",
    "2. Создайте в Jupyter новый текстовый файл (*Home Page* – *New* – *Text file*), вставьте туда скопированный код. Найдите фрагменты с тэгом `<mark>` и измените в стилевом атрибуте цвет `white` на `cyan`. Переименуйте файл в `to_test.html`, сохраните изменения. \n",
    "3. Найдите этот файл на компьютере (или скачайте его копию через *File – Download*). Откройте его – по умолчанию файлы с расширением должны открываться в виде веб-страниц в браузере. Что произошло? \n",
    "4. Кратко опишите изменения – объясните, что делает тэг `<mark>`."
   ]
  },
  {
   "cell_type": "markdown",
   "metadata": {},
   "source": [
    "*ОТВЕТ*"
   ]
  }
 ],
 "metadata": {
  "kernelspec": {
   "display_name": "Python 3",
   "language": "python",
   "name": "python3"
  },
  "language_info": {
   "codemirror_mode": {
    "name": "ipython",
    "version": 3
   },
   "file_extension": ".py",
   "mimetype": "text/x-python",
   "name": "python",
   "nbconvert_exporter": "python",
   "pygments_lexer": "ipython3",
   "version": "3.7.4"
  }
 },
 "nbformat": 4,
 "nbformat_minor": 2
}

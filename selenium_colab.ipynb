{
 "cells": [
  {
   "cell_type": "markdown",
   "metadata": {},
   "source": [
    "## Запуск браузера через Selenium в Google Colab"
   ]
  },
  {
   "cell_type": "markdown",
   "metadata": {},
   "source": [
    "**Шаг 1.** [Выполняется один раз перед первым запуском] Заходим в Google Colab, создаем новый ноутбук, помимо `selenium` устанавливаем библиотеку `google_colab_selenium`, она позволит запускать браузер на удалённом сервере:"
   ]
  },
  {
   "cell_type": "code",
   "execution_count": null,
   "metadata": {},
   "outputs": [],
   "source": [
    "!pip install -q selenium"
   ]
  },
  {
   "cell_type": "code",
   "execution_count": null,
   "metadata": {},
   "outputs": [],
   "source": [
    "!pip install -q google_colab_selenium"
   ]
  },
  {
   "cell_type": "markdown",
   "metadata": {},
   "source": [
    "**Шаг 2.** Импортируем `google_colab_selenium`, чтобы привычный код Selenium работал как обычно, можно импортировать как `wd`. Импортируем необходимые инструменты из `selenium`:"
   ]
  },
  {
   "cell_type": "code",
   "execution_count": null,
   "metadata": {},
   "outputs": [],
   "source": [
    "import google_colab_selenium as wd\n",
    "\n",
    "from selenium.webdriver.common.by import By\n",
    "from selenium.webdriver.common.keys import Keys"
   ]
  },
  {
   "cell_type": "markdown",
   "metadata": {},
   "source": [
    "Далее можно использовать код, который мы писали с обычным Selenium:"
   ]
  },
  {
   "cell_type": "code",
   "execution_count": null,
   "metadata": {},
   "outputs": [],
   "source": [
    "br = wd.Chrome()\n",
    "br.maximize_window()"
   ]
  },
  {
   "cell_type": "markdown",
   "metadata": {},
   "source": [
    "При первом запуске в текущем ipynb-файле в Colab исполнение `wd.Chrome()` займет некоторое время, поскольку автоматически будет произведена установка Chrome и необходимых драйверов."
   ]
  },
  {
   "cell_type": "code",
   "execution_count": null,
   "metadata": {},
   "outputs": [],
   "source": [
    "br.get(\"https://www.biblio-globus.ru/\")\n",
    "br.implicitly_wait(5)\n",
    "\n",
    "search = br.find_element(By.ID, \"SearchBooks\")\n",
    "search.send_keys(\"python\")\n",
    "br.implicitly_wait(2)\n",
    "\n",
    "search.send_keys(Keys.ENTER)\n",
    "br.implicitly_wait(2)"
   ]
  },
  {
   "cell_type": "markdown",
   "metadata": {},
   "source": [
    "**Заключение.** Благодаря неравнодушному [пользователю](https://github.com/jpjacobpadilla/Google-Colab-Selenium) не нужно мучительно разбираться с установкой Chrome на удаленном компьютере, различия только в одной строке:"
   ]
  },
  {
   "cell_type": "code",
   "execution_count": null,
   "metadata": {},
   "outputs": [],
   "source": [
    "# локально в Jupyter (selenium)\n",
    "from selenium import webdriver as wd\n",
    "\n",
    "# удаленно в Colab (selenium + google colab selenium)\n",
    "import google_colab_selenium as wd"
   ]
  }
 ],
 "metadata": {
  "kernelspec": {
   "display_name": "Python 3",
   "language": "python",
   "name": "python3"
  },
  "language_info": {
   "codemirror_mode": {
    "name": "ipython",
    "version": 3
   },
   "file_extension": ".py",
   "mimetype": "text/x-python",
   "name": "python",
   "nbconvert_exporter": "python",
   "pygments_lexer": "ipython3",
   "version": "3.7.4"
  }
 },
 "nbformat": 4,
 "nbformat_minor": 2
}
